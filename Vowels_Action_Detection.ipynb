{
  "cells": [
    {
      "cell_type": "markdown",
      "metadata": {
        "id": "DrSbYAlwfRye"
      },
      "source": [
        "## **Import and Install dependencies**"
      ]
    },
    {
      "cell_type": "code",
      "execution_count": 3,
      "metadata": {
        "colab": {
          "base_uri": "https://localhost:8080/"
        },
        "id": "hrVoxyyghVIi",
        "outputId": "4894cc73-dbd7-42e9-ef2e-7ae160088a3e"
      },
      "outputs": [
        {
          "output_type": "stream",
          "name": "stdout",
          "text": [
            "Mounted at /content/drive\n"
          ]
        }
      ],
      "source": [
        "from google.colab import drive\n",
        "drive.mount('/content/drive')"
      ]
    },
    {
      "cell_type": "code",
      "execution_count": 4,
      "metadata": {
        "id": "LoQdgFSPdYoC",
        "colab": {
          "base_uri": "https://localhost:8080/",
          "height": 1000
        },
        "outputId": "a7a6bd5a-eaa1-49fa-eba4-bed91ecd0c0d"
      },
      "outputs": [
        {
          "output_type": "stream",
          "name": "stdout",
          "text": [
            "Looking in indexes: https://pypi.org/simple, https://us-python.pkg.dev/colab-wheels/public/simple/\n",
            "Collecting tensorflow==2.4.1\n",
            "  Downloading tensorflow-2.4.1-cp37-cp37m-manylinux2010_x86_64.whl (394.3 MB)\n",
            "\u001b[K     |████████████████████████████████| 394.3 MB 13 kB/s \n",
            "\u001b[?25hCollecting tensorflow-gpu==2.4.1\n",
            "  Downloading tensorflow_gpu-2.4.1-cp37-cp37m-manylinux2010_x86_64.whl (394.3 MB)\n",
            "\u001b[K     |████████████████████████████████| 394.3 MB 16 kB/s \n",
            "\u001b[?25hRequirement already satisfied: opencv-python in /usr/local/lib/python3.7/dist-packages (4.1.2.30)\n",
            "Collecting mediapipe\n",
            "  Downloading mediapipe-0.8.10-cp37-cp37m-manylinux_2_17_x86_64.manylinux2014_x86_64.whl (32.8 MB)\n",
            "\u001b[K     |████████████████████████████████| 32.8 MB 1.3 MB/s \n",
            "\u001b[?25hRequirement already satisfied: sklearn in /usr/local/lib/python3.7/dist-packages (0.0)\n",
            "Requirement already satisfied: matplotlib in /usr/local/lib/python3.7/dist-packages (3.2.2)\n",
            "Collecting typing-extensions~=3.7.4\n",
            "  Downloading typing_extensions-3.7.4.3-py3-none-any.whl (22 kB)\n",
            "Collecting grpcio~=1.32.0\n",
            "  Downloading grpcio-1.32.0-cp37-cp37m-manylinux2014_x86_64.whl (3.8 MB)\n",
            "\u001b[K     |████████████████████████████████| 3.8 MB 50.0 MB/s \n",
            "\u001b[?25hRequirement already satisfied: wheel~=0.35 in /usr/local/lib/python3.7/dist-packages (from tensorflow==2.4.1) (0.37.1)\n",
            "Requirement already satisfied: protobuf>=3.9.2 in /usr/local/lib/python3.7/dist-packages (from tensorflow==2.4.1) (3.17.3)\n",
            "Requirement already satisfied: termcolor~=1.1.0 in /usr/local/lib/python3.7/dist-packages (from tensorflow==2.4.1) (1.1.0)\n",
            "Collecting wrapt~=1.12.1\n",
            "  Downloading wrapt-1.12.1.tar.gz (27 kB)\n",
            "Requirement already satisfied: keras-preprocessing~=1.1.2 in /usr/local/lib/python3.7/dist-packages (from tensorflow==2.4.1) (1.1.2)\n",
            "Collecting gast==0.3.3\n",
            "  Downloading gast-0.3.3-py2.py3-none-any.whl (9.7 kB)\n",
            "Collecting tensorflow-estimator<2.5.0,>=2.4.0\n",
            "  Downloading tensorflow_estimator-2.4.0-py2.py3-none-any.whl (462 kB)\n",
            "\u001b[K     |████████████████████████████████| 462 kB 70.5 MB/s \n",
            "\u001b[?25hRequirement already satisfied: six~=1.15.0 in /usr/local/lib/python3.7/dist-packages (from tensorflow==2.4.1) (1.15.0)\n",
            "Requirement already satisfied: opt-einsum~=3.3.0 in /usr/local/lib/python3.7/dist-packages (from tensorflow==2.4.1) (3.3.0)\n",
            "Collecting flatbuffers~=1.12.0\n",
            "  Downloading flatbuffers-1.12-py2.py3-none-any.whl (15 kB)\n",
            "Collecting h5py~=2.10.0\n",
            "  Downloading h5py-2.10.0-cp37-cp37m-manylinux1_x86_64.whl (2.9 MB)\n",
            "\u001b[K     |████████████████████████████████| 2.9 MB 55.0 MB/s \n",
            "\u001b[?25hCollecting absl-py~=0.10\n",
            "  Downloading absl_py-0.15.0-py3-none-any.whl (132 kB)\n",
            "\u001b[K     |████████████████████████████████| 132 kB 78.7 MB/s \n",
            "\u001b[?25hRequirement already satisfied: tensorboard~=2.4 in /usr/local/lib/python3.7/dist-packages (from tensorflow==2.4.1) (2.8.0)\n",
            "Collecting numpy~=1.19.2\n",
            "  Downloading numpy-1.19.5-cp37-cp37m-manylinux2010_x86_64.whl (14.8 MB)\n",
            "\u001b[K     |████████████████████████████████| 14.8 MB 51.9 MB/s \n",
            "\u001b[?25hRequirement already satisfied: astunparse~=1.6.3 in /usr/local/lib/python3.7/dist-packages (from tensorflow==2.4.1) (1.6.3)\n",
            "Requirement already satisfied: google-pasta~=0.2 in /usr/local/lib/python3.7/dist-packages (from tensorflow==2.4.1) (0.2.0)\n",
            "Requirement already satisfied: markdown>=2.6.8 in /usr/local/lib/python3.7/dist-packages (from tensorboard~=2.4->tensorflow==2.4.1) (3.3.7)\n",
            "Requirement already satisfied: requests<3,>=2.21.0 in /usr/local/lib/python3.7/dist-packages (from tensorboard~=2.4->tensorflow==2.4.1) (2.23.0)\n",
            "Requirement already satisfied: google-auth-oauthlib<0.5,>=0.4.1 in /usr/local/lib/python3.7/dist-packages (from tensorboard~=2.4->tensorflow==2.4.1) (0.4.6)\n",
            "Requirement already satisfied: google-auth<3,>=1.6.3 in /usr/local/lib/python3.7/dist-packages (from tensorboard~=2.4->tensorflow==2.4.1) (1.35.0)\n",
            "Requirement already satisfied: tensorboard-plugin-wit>=1.6.0 in /usr/local/lib/python3.7/dist-packages (from tensorboard~=2.4->tensorflow==2.4.1) (1.8.1)\n",
            "Requirement already satisfied: werkzeug>=0.11.15 in /usr/local/lib/python3.7/dist-packages (from tensorboard~=2.4->tensorflow==2.4.1) (1.0.1)\n",
            "Requirement already satisfied: tensorboard-data-server<0.7.0,>=0.6.0 in /usr/local/lib/python3.7/dist-packages (from tensorboard~=2.4->tensorflow==2.4.1) (0.6.1)\n",
            "Requirement already satisfied: setuptools>=41.0.0 in /usr/local/lib/python3.7/dist-packages (from tensorboard~=2.4->tensorflow==2.4.1) (57.4.0)\n",
            "Requirement already satisfied: pyasn1-modules>=0.2.1 in /usr/local/lib/python3.7/dist-packages (from google-auth<3,>=1.6.3->tensorboard~=2.4->tensorflow==2.4.1) (0.2.8)\n",
            "Requirement already satisfied: rsa<5,>=3.1.4 in /usr/local/lib/python3.7/dist-packages (from google-auth<3,>=1.6.3->tensorboard~=2.4->tensorflow==2.4.1) (4.8)\n",
            "Requirement already satisfied: cachetools<5.0,>=2.0.0 in /usr/local/lib/python3.7/dist-packages (from google-auth<3,>=1.6.3->tensorboard~=2.4->tensorflow==2.4.1) (4.2.4)\n",
            "Requirement already satisfied: requests-oauthlib>=0.7.0 in /usr/local/lib/python3.7/dist-packages (from google-auth-oauthlib<0.5,>=0.4.1->tensorboard~=2.4->tensorflow==2.4.1) (1.3.1)\n",
            "Requirement already satisfied: importlib-metadata>=4.4 in /usr/local/lib/python3.7/dist-packages (from markdown>=2.6.8->tensorboard~=2.4->tensorflow==2.4.1) (4.11.4)\n",
            "Requirement already satisfied: zipp>=0.5 in /usr/local/lib/python3.7/dist-packages (from importlib-metadata>=4.4->markdown>=2.6.8->tensorboard~=2.4->tensorflow==2.4.1) (3.8.0)\n",
            "Requirement already satisfied: pyasn1<0.5.0,>=0.4.6 in /usr/local/lib/python3.7/dist-packages (from pyasn1-modules>=0.2.1->google-auth<3,>=1.6.3->tensorboard~=2.4->tensorflow==2.4.1) (0.4.8)\n",
            "Requirement already satisfied: idna<3,>=2.5 in /usr/local/lib/python3.7/dist-packages (from requests<3,>=2.21.0->tensorboard~=2.4->tensorflow==2.4.1) (2.10)\n",
            "Requirement already satisfied: urllib3!=1.25.0,!=1.25.1,<1.26,>=1.21.1 in /usr/local/lib/python3.7/dist-packages (from requests<3,>=2.21.0->tensorboard~=2.4->tensorflow==2.4.1) (1.24.3)\n",
            "Requirement already satisfied: chardet<4,>=3.0.2 in /usr/local/lib/python3.7/dist-packages (from requests<3,>=2.21.0->tensorboard~=2.4->tensorflow==2.4.1) (3.0.4)\n",
            "Requirement already satisfied: certifi>=2017.4.17 in /usr/local/lib/python3.7/dist-packages (from requests<3,>=2.21.0->tensorboard~=2.4->tensorflow==2.4.1) (2022.6.15)\n",
            "Requirement already satisfied: oauthlib>=3.0.0 in /usr/local/lib/python3.7/dist-packages (from requests-oauthlib>=0.7.0->google-auth-oauthlib<0.5,>=0.4.1->tensorboard~=2.4->tensorflow==2.4.1) (3.2.0)\n",
            "Requirement already satisfied: attrs>=19.1.0 in /usr/local/lib/python3.7/dist-packages (from mediapipe) (21.4.0)\n",
            "Requirement already satisfied: opencv-contrib-python in /usr/local/lib/python3.7/dist-packages (from mediapipe) (4.1.2.30)\n",
            "Requirement already satisfied: scikit-learn in /usr/local/lib/python3.7/dist-packages (from sklearn) (1.0.2)\n",
            "Requirement already satisfied: cycler>=0.10 in /usr/local/lib/python3.7/dist-packages (from matplotlib) (0.11.0)\n",
            "Requirement already satisfied: pyparsing!=2.0.4,!=2.1.2,!=2.1.6,>=2.0.1 in /usr/local/lib/python3.7/dist-packages (from matplotlib) (3.0.9)\n",
            "Requirement already satisfied: kiwisolver>=1.0.1 in /usr/local/lib/python3.7/dist-packages (from matplotlib) (1.4.3)\n",
            "Requirement already satisfied: python-dateutil>=2.1 in /usr/local/lib/python3.7/dist-packages (from matplotlib) (2.8.2)\n",
            "Requirement already satisfied: scipy>=1.1.0 in /usr/local/lib/python3.7/dist-packages (from scikit-learn->sklearn) (1.4.1)\n",
            "Requirement already satisfied: joblib>=0.11 in /usr/local/lib/python3.7/dist-packages (from scikit-learn->sklearn) (1.1.0)\n",
            "Requirement already satisfied: threadpoolctl>=2.0.0 in /usr/local/lib/python3.7/dist-packages (from scikit-learn->sklearn) (3.1.0)\n",
            "Building wheels for collected packages: wrapt\n",
            "  Building wheel for wrapt (setup.py) ... \u001b[?25l\u001b[?25hdone\n",
            "  Created wheel for wrapt: filename=wrapt-1.12.1-cp37-cp37m-linux_x86_64.whl size=68710 sha256=6721a12a08d8a767f4b5bfdec701e1140a46e05babc512ff8599d31513f13322\n",
            "  Stored in directory: /root/.cache/pip/wheels/62/76/4c/aa25851149f3f6d9785f6c869387ad82b3fd37582fa8147ac6\n",
            "Successfully built wrapt\n",
            "Installing collected packages: typing-extensions, numpy, grpcio, absl-py, wrapt, tensorflow-estimator, h5py, gast, flatbuffers, tensorflow-gpu, tensorflow, mediapipe\n",
            "  Attempting uninstall: typing-extensions\n",
            "    Found existing installation: typing-extensions 4.1.1\n",
            "    Uninstalling typing-extensions-4.1.1:\n",
            "      Successfully uninstalled typing-extensions-4.1.1\n",
            "  Attempting uninstall: numpy\n",
            "    Found existing installation: numpy 1.21.6\n",
            "    Uninstalling numpy-1.21.6:\n",
            "      Successfully uninstalled numpy-1.21.6\n",
            "  Attempting uninstall: grpcio\n",
            "    Found existing installation: grpcio 1.46.3\n",
            "    Uninstalling grpcio-1.46.3:\n",
            "      Successfully uninstalled grpcio-1.46.3\n",
            "  Attempting uninstall: absl-py\n",
            "    Found existing installation: absl-py 1.1.0\n",
            "    Uninstalling absl-py-1.1.0:\n",
            "      Successfully uninstalled absl-py-1.1.0\n",
            "  Attempting uninstall: wrapt\n",
            "    Found existing installation: wrapt 1.14.1\n",
            "    Uninstalling wrapt-1.14.1:\n",
            "      Successfully uninstalled wrapt-1.14.1\n",
            "  Attempting uninstall: tensorflow-estimator\n",
            "    Found existing installation: tensorflow-estimator 2.8.0\n",
            "    Uninstalling tensorflow-estimator-2.8.0:\n",
            "      Successfully uninstalled tensorflow-estimator-2.8.0\n",
            "  Attempting uninstall: h5py\n",
            "    Found existing installation: h5py 3.1.0\n",
            "    Uninstalling h5py-3.1.0:\n",
            "      Successfully uninstalled h5py-3.1.0\n",
            "  Attempting uninstall: gast\n",
            "    Found existing installation: gast 0.5.3\n",
            "    Uninstalling gast-0.5.3:\n",
            "      Successfully uninstalled gast-0.5.3\n",
            "  Attempting uninstall: flatbuffers\n",
            "    Found existing installation: flatbuffers 2.0\n",
            "    Uninstalling flatbuffers-2.0:\n",
            "      Successfully uninstalled flatbuffers-2.0\n",
            "  Attempting uninstall: tensorflow\n",
            "    Found existing installation: tensorflow 2.8.2+zzzcolab20220527125636\n",
            "    Uninstalling tensorflow-2.8.2+zzzcolab20220527125636:\n",
            "      Successfully uninstalled tensorflow-2.8.2+zzzcolab20220527125636\n",
            "\u001b[31mERROR: pip's dependency resolver does not currently take into account all the packages that are installed. This behaviour is the source of the following dependency conflicts.\n",
            "xarray-einstats 0.2.2 requires numpy>=1.21, but you have numpy 1.19.5 which is incompatible.\n",
            "datascience 0.10.6 requires folium==0.2.1, but you have folium 0.8.3 which is incompatible.\n",
            "albumentations 0.1.12 requires imgaug<0.2.7,>=0.2.5, but you have imgaug 0.2.9 which is incompatible.\u001b[0m\n",
            "Successfully installed absl-py-0.15.0 flatbuffers-1.12 gast-0.3.3 grpcio-1.32.0 h5py-2.10.0 mediapipe-0.8.10 numpy-1.19.5 tensorflow-2.4.1 tensorflow-estimator-2.4.0 tensorflow-gpu-2.4.1 typing-extensions-3.7.4.3 wrapt-1.12.1\n"
          ]
        },
        {
          "output_type": "display_data",
          "data": {
            "application/vnd.colab-display-data+json": {
              "pip_warning": {
                "packages": [
                  "numpy",
                  "typing_extensions"
                ]
              }
            }
          },
          "metadata": {}
        }
      ],
      "source": [
        "!pip install tensorflow==2.4.1 tensorflow-gpu==2.4.1 opencv-python mediapipe sklearn matplotlib"
      ]
    },
    {
      "cell_type": "code",
      "execution_count": 2,
      "metadata": {
        "id": "KSxXlXuxfe0q"
      },
      "outputs": [],
      "source": [
        "import cv2\n",
        "import numpy as np\n",
        "import os\n",
        "import time\n",
        "import mediapipe as mp\n",
        "from matplotlib import pyplot as plt"
      ]
    },
    {
      "cell_type": "markdown",
      "metadata": {
        "id": "JKopPSv2gqPo"
      },
      "source": [
        "## Keypoints using MP Holistic\n"
      ]
    },
    {
      "cell_type": "code",
      "execution_count": 3,
      "metadata": {
        "id": "2ak5v3334wt-"
      },
      "outputs": [],
      "source": [
        "mp_holistic = mp.solutions.holistic #holistic model\n",
        "mp_drawing = mp.solutions.drawing_utils #drawing utilities"
      ]
    },
    {
      "cell_type": "code",
      "execution_count": 4,
      "metadata": {
        "id": "ObwTNrWe5NRp"
      },
      "outputs": [],
      "source": [
        "def mediapipe_detection(image, model):\n",
        "  image = cv2.cvtColor(image, cv2.COLOR_BGR2RGB)  # Color conversion BGR -> RGB\n",
        "  image.flags.writeable = False                   # disable Image writeable\n",
        "  results = model.process(image)                  # Make Holistic Predictions\n",
        "  image.flags.writeable = True                    # enable Image Writeable\n",
        "  image = cv2.cvtColor(image, cv2.COLOR_RGB2BGR)  # Color conversion RGB -> BGR\n",
        "  return image, results"
      ]
    },
    {
      "cell_type": "code",
      "execution_count": 76,
      "metadata": {
        "id": "eJ-wV53ZA7TD"
      },
      "outputs": [],
      "source": [
        "def draw_landmarks(image, results):\n",
        "  mp_drawing.draw_landmarks(image, results.face_landmarks, mp_holistic.FACEMESH_CONTOURS)       # Draw face Connections\n",
        "  mp_drawing.draw_landmarks(image, results.pose_landmarks, mp_holistic.POSE_CONNECTIONS)        # Draw pose Connections\n",
        "  mp_drawing.draw_landmarks(image, results.left_hand_landmarks, mp_holistic.HAND_CONNECTIONS)   # Draw left hand Connections\n",
        "  mp_drawing.draw_landmarks(image, results.right_hand_landmarks, mp_holistic.HAND_CONNECTIONS)  # Draw right hand Connections"
      ]
    },
    {
      "cell_type": "code",
      "execution_count": 74,
      "metadata": {
        "id": "SJJRJl716VHM"
      },
      "outputs": [],
      "source": [
        "vid_path = '/content/drive/My Drive/SASL_Vowels/A/A_1.mp4'\n",
        "cap = cv2.VideoCapture(vid_path)\n",
        "last_fr = None\n",
        "last_res = None\n",
        "\n",
        "# Set mediapipe model\n",
        "with mp_holistic.Holistic(min_detection_confidence=0.1, min_tracking_confidence=0.5) as holistic:\n",
        "  # process the video\n",
        "  while cap.isOpened():\n",
        "\n",
        "    # read frame\n",
        "    ret, frame = cap.read()\n",
        "\n",
        "    # break if there are no frames to be read\n",
        "    if not ret:\n",
        "          break\n",
        "    \n",
        "    # make detections\n",
        "    image, results = mediapipe_detection(frame, holistic)\n",
        "    if results.right_hand_landmarks:\n",
        "      #print(results.right_hand_landmarks)\n",
        "      #cv2_imshow( frame)\n",
        "      last_fr = frame\n",
        "      last_res = results\n",
        "\n",
        "    # live web cam\n",
        "      #draw_landmarks(image, results)\n",
        "      #cv2_imshow(image)\n",
        "\n",
        "    # breake if i say so\n",
        "    if cv2.waitKey(10) and 0xff == ord('q'):\n",
        "      break\n",
        "  cv2.destroyAllWindows()\n",
        "  cap.release()\n"
      ]
    },
    {
      "cell_type": "markdown",
      "source": [
        "Test to see the landmarks"
      ],
      "metadata": {
        "id": "bCHAAp7GJX0x"
      }
    },
    {
      "cell_type": "code",
      "execution_count": 77,
      "metadata": {
        "id": "okoMr91QDtBn",
        "colab": {
          "base_uri": "https://localhost:8080/",
          "height": 257
        },
        "outputId": "2f4fa5ee-c90f-4210-f1c7-06f5b6692aee"
      },
      "outputs": [
        {
          "output_type": "execute_result",
          "data": {
            "text/plain": [
              "<matplotlib.image.AxesImage at 0x7f461f9c1e10>"
            ]
          },
          "metadata": {},
          "execution_count": 77
        },
        {
          "output_type": "display_data",
          "data": {
            "text/plain": [
              "<Figure size 432x288 with 1 Axes>"
            ],
            "image/png": "[encoded data removed]"
          },
          "metadata": {
            "needs_background": "light"
          }
        }
      ],
      "source": [
        "draw_landmarks(last_fr, last_res)\n",
        "plt.imshow(cv2.cvtColor(last_fr, cv2.COLOR_BGR2RGB))"
      ]
    },
    {
      "cell_type": "markdown",
      "source": [
        "## **Extracting Keypoint Values**"
      ],
      "metadata": {
        "id": "_E2fux2BJopM"
      }
    },
    {
      "cell_type": "code",
      "source": [
        ""
      ],
      "metadata": {
        "id": "AZJQl1StM5KP"
      },
      "execution_count": 80,
      "outputs": []
    },
    {
      "cell_type": "code",
      "source": [
        "def extract_keypoints(results):\n",
        "  hand_kp = 21*3    # number of hand key points 63\n",
        "  pose_kp = 33*4    # number of pose key points 132\n",
        "  face_kp = 468*3    # number of face key points 1404\n",
        "\n",
        "  face = np.array([[res.x, res.y, res.z] for res in results.face_landmarks.landmark]).flatten() if results.face_landmarks else np.zeros(face_kp)\n",
        "  pose = np.array([[res.x, res.y, res.z, res.visibility] for res in results.pose_landmarks.landmark]).flatten() if results.pose_landmarks else np.zeros(pose_kp)\n",
        "  l_hand = np.array([[res.x, res.y, res.z] for res in results.left_hand_landmarks.landmark]).flatten() if results.left_hand_landmarks else np.zeros(hand_kp)\n",
        "  r_hand = np.array([[res.x, res.y, res.z] for res in results.right_hand_landmarks.landmark]).flatten() if results.right_hand_landmarks else np.zeros(hand_kp)\n",
        "\n",
        "  #focus on pose and r_hand for now\n",
        "  # else return np.concatenate([pose, face, l_hand, r_hand])\n",
        "\n",
        "  return r_hand # 63 values\n"
      ],
      "metadata": {
        "id": "HDU8vwIHJ1oc"
      },
      "execution_count": 81,
      "outputs": []
    },
    {
      "cell_type": "code",
      "source": [
        "features = len(extract_keypoints(results))\n",
        "features"
      ],
      "metadata": {
        "colab": {
          "base_uri": "https://localhost:8080/"
        },
        "id": "ALEX6x9cMOXh",
        "outputId": "5a16c092-dac9-4860-892e-8fc7267b8852"
      },
      "execution_count": 82,
      "outputs": [
        {
          "output_type": "execute_result",
          "data": {
            "text/plain": [
              "63"
            ]
          },
          "metadata": {},
          "execution_count": 82
        }
      ]
    },
    {
      "cell_type": "markdown",
      "source": [
        "## **Data Folders**"
      ],
      "metadata": {
        "id": "mHFgT4WRT9Xn"
      }
    },
    {
      "cell_type": "code",
      "source": [
        "core_dir = '/content/drive/My Drive'\n",
        "videos_src = '/content/drive/My Drive/SASL_Vowels'\n",
        "folder_name = 'Vowels_Data'\n",
        "data_path = os.path.join(core_dir,folder_name)\n",
        "\n",
        "#Vowels Folders\n",
        "vowels = np.array(['A', 'E', 'I', 'O', 'U'])\n",
        "\n",
        "# no of videos ?? at least 50 valid videos\n",
        "num_frames = 50\n",
        "invalid_videos_n_frames = []\n"
      ],
      "metadata": {
        "id": "-IkNe3I-UC4M"
      },
      "execution_count": 83,
      "outputs": []
    },
    {
      "cell_type": "markdown",
      "source": [
        "Data Extraction"
      ],
      "metadata": {
        "id": "0F5dv4gNeyy5"
      }
    },
    {
      "cell_type": "code",
      "source": [
        "\n",
        "def key_value_extractor(vid_file,vid_path, output_path):\n",
        "  \n",
        "  cap = cv2.VideoCapture(vid_path)\n",
        "  frame_count = 0\n",
        "  # Set mediapipe model\n",
        "  with mp_holistic.Holistic(min_detection_confidence=0.1, min_tracking_confidence=0.5) as holistic:\n",
        "    # process the video\n",
        "    while cap.isOpened():\n",
        "\n",
        "      # read frame\n",
        "      ret, frame = cap.read()\n",
        "\n",
        "      # break if there are no frames to be read\n",
        "      if not ret:\n",
        "        if frame_count < 25:\n",
        "          invalid_videos_n_frames.append({vid_file:frame_count})\n",
        "        print('valid frames: ', frame_count)\n",
        "        break\n",
        "      \n",
        "      # make detections\n",
        "      image, results = mediapipe_detection(frame, holistic)\n",
        "      if results.right_hand_landmarks:\n",
        "        keypoints = extract_keypoints(results)\n",
        "        npy_path = os.path.join(output_path, str(frame_count))\n",
        "        np.save(npy_path, keypoints)\n",
        "\n",
        "        frame_count = frame_count + 1\n",
        "      # live web cam\n",
        "        #draw_landmarks(image, results)\n",
        "        #cv2_imshow(image)\n",
        "\n",
        "      # breake if i say so\n",
        "      if cv2.waitKey(10) and 0xff == ord('q'):\n",
        "        break\n",
        "    cv2.destroyAllWindows()\n",
        "    cap.release()"
      ],
      "metadata": {
        "id": "rtnz3JtSe2hz"
      },
      "execution_count": 84,
      "outputs": []
    },
    {
      "cell_type": "code",
      "source": [
        "# For each Vowel\n",
        "for vowel_folder in os.listdir(videos_src):\n",
        "  print(vowel_folder)\n",
        "  folder_path = os.path.join(videos_src,vowel_folder)\n",
        "  for vid in os.listdir(folder_path):\n",
        "    print('video: ', vid)\n",
        "    video_file = os.path.join(folder_path,vid)\n",
        "    vid_data_folder = os.path.join(data_path,vowel_folder,os.path.splitext(vid)[0])\n",
        "    try:\n",
        "      # make a folder if its not there\n",
        "      os.makedirs(vid_data_folder)\n",
        "    except:\n",
        "      pass\n",
        "    \n",
        "    key_value_extractor(vid, video_file, vid_data_folder)    # Done"
      ],
      "metadata": {
        "id": "rT0CwDYtWpgL",
        "colab": {
          "base_uri": "https://localhost:8080/"
        },
        "outputId": "cbafe6e4-5237-4e44-8958-7748ada0d3a5"
      },
      "execution_count": 85,
      "outputs": [
        {
          "output_type": "stream",
          "name": "stdout",
          "text": [
            "A\n",
            "video:  A_1.mp4\n",
            "valid frames:  28\n",
            "video:  A_2.mp4\n",
            "valid frames:  51\n",
            "video:  A_3.mp4\n",
            "valid frames:  51\n",
            "video:  A_4.mp4\n",
            "valid frames:  1\n",
            "video:  A_5.mp4\n",
            "valid frames:  0\n",
            "video:  A_6.mp4\n",
            "valid frames:  0\n",
            "video:  A_7.mp4\n",
            "valid frames:  0\n",
            "video:  A_11.mp4\n",
            "valid frames:  0\n",
            "video:  A_12.mp4\n",
            "valid frames:  1\n",
            "video:  A_13.mp4\n",
            "valid frames:  120\n",
            "video:  A_14.mp4\n",
            "valid frames:  121\n",
            "video:  A_15.mp4\n",
            "valid frames:  120\n",
            "video:  A_16.mp4\n",
            "valid frames:  2\n",
            "video:  A_17.mp4\n",
            "valid frames:  43\n",
            "video:  A_29.mp4\n",
            "valid frames:  6\n",
            "video:  A_30.mp4\n",
            "valid frames:  91\n",
            "video:  A_31.mp4\n",
            "valid frames:  91\n",
            "video:  A_32.mp4\n",
            "valid frames:  91\n",
            "video:  A_33.mp4\n",
            "valid frames:  0\n",
            "video:  A_34.mp4\n",
            "valid frames:  0\n",
            "video:  A_35.mp4\n",
            "valid frames:  0\n",
            "video:  A_36.mp4\n",
            "valid frames:  89\n",
            "video:  A_37.mp4\n",
            "valid frames:  89\n",
            "video:  A_38.mp4\n",
            "valid frames:  89\n",
            "video:  A_39.mp4\n",
            "valid frames:  73\n",
            "video:  A_40.mp4\n",
            "valid frames:  79\n",
            "video:  A_41.mp4\n",
            "valid frames:  6\n",
            "video:  A_42.mp4\n",
            "valid frames:  87\n",
            "video:  A_43.mp4\n",
            "valid frames:  87\n",
            "video:  A_44.mp4\n",
            "valid frames:  80\n",
            "video:  A_45.mp4\n",
            "valid frames:  80\n",
            "video:  A_46.mp4\n",
            "valid frames:  84\n",
            "video:  A_47.mp4\n",
            "valid frames:  81\n",
            "video:  A_48.mp4\n",
            "valid frames:  86\n",
            "video:  A_49.mp4\n",
            "valid frames:  86\n",
            "video:  A_50.mp4\n",
            "valid frames:  82\n",
            "video:  A_51.mp4\n",
            "valid frames:  82\n",
            "video:  A_52.mp4\n",
            "valid frames:  83\n",
            "video:  A_53.mp4\n",
            "valid frames:  6\n",
            "video:  A_54.mp4\n",
            "valid frames:  65\n",
            "video:  A_55.mp4\n",
            "valid frames:  65\n",
            "video:  A_56.mp4\n",
            "valid frames:  27\n",
            "video:  A_57.mp4\n",
            "valid frames:  16\n",
            "video:  A_58.mp4\n",
            "valid frames:  0\n",
            "video:  A_59.mp4\n",
            "valid frames:  87\n",
            "video:  A_60.mp4\n",
            "valid frames:  75\n",
            "video:  A_61.mp4\n",
            "valid frames:  75\n",
            "video:  A_62.mp4\n",
            "valid frames:  74\n",
            "video:  A_63.mp4\n",
            "valid frames:  74\n",
            "video:  A_64.mp4\n",
            "valid frames:  67\n",
            "video:  A_65.mp4\n",
            "valid frames:  67\n",
            "video:  A_66.mp4\n",
            "valid frames:  77\n",
            "video:  A_67.mp4\n",
            "valid frames:  77\n",
            "video:  A_68.mp4\n",
            "valid frames:  83\n",
            "video:  A_69.mp4\n",
            "valid frames:  82\n",
            "video:  A_70.mp4\n",
            "valid frames:  69\n",
            "video:  A_71.mp4\n",
            "valid frames:  69\n",
            "video:  A_72.mp4\n",
            "valid frames:  85\n",
            "video:  A_73.mp4\n",
            "valid frames:  83\n",
            "video:  A_74.mp4\n",
            "valid frames:  0\n",
            "video:  A_75.mp4\n",
            "valid frames:  15\n",
            "video:  A_76.mp4\n",
            "valid frames:  80\n",
            "video:  A_77.mp4\n",
            "valid frames:  19\n",
            "video:  A_78.mp4\n",
            "valid frames:  77\n",
            "video:  A_79.mp4\n",
            "valid frames:  76\n",
            "video:  A_80.mp4\n",
            "valid frames:  12\n",
            "video:  A_81.mp4\n",
            "valid frames:  0\n",
            "video:  A_82.mp4\n",
            "valid frames:  0\n",
            "video:  A_83.mp4\n",
            "valid frames:  0\n",
            "E\n",
            "video:  E_1.mp4\n",
            "valid frames:  41\n",
            "video:  E_2.mp4\n",
            "valid frames:  65\n",
            "video:  E_3.mp4\n",
            "valid frames:  65\n",
            "video:  E_4.mp4\n",
            "valid frames:  0\n",
            "video:  E_5.mp4\n",
            "valid frames:  14\n",
            "video:  E_6.mp4\n",
            "valid frames:  0\n",
            "video:  E_7.mp4\n",
            "valid frames:  0\n",
            "video:  E_9.mp4\n",
            "valid frames:  50\n",
            "video:  E_8.mp4\n",
            "valid frames:  50\n",
            "video:  E_10.mp4\n",
            "valid frames:  50\n",
            "video:  E_11.mp4\n",
            "valid frames:  1\n",
            "video:  E_12.mp4\n",
            "valid frames:  10\n",
            "video:  E_13.mp4\n",
            "valid frames:  120\n",
            "video:  E_14.mp4\n",
            "valid frames:  120\n",
            "video:  E_15.mp4\n",
            "valid frames:  114\n",
            "video:  E_16.mp4\n",
            "valid frames:  120\n",
            "video:  E_17.mp4\n",
            "valid frames:  0\n",
            "video:  E_19.mp4\n",
            "valid frames:  5\n",
            "video:  E_30.mp4\n",
            "valid frames:  91\n",
            "video:  E_31.mp4\n",
            "valid frames:  91\n",
            "video:  E_32.mp4\n",
            "valid frames:  91\n",
            "video:  E_33.mp4\n",
            "valid frames:  91\n",
            "video:  E_34.mp4\n",
            "valid frames:  11\n",
            "video:  E_35.mp4\n",
            "valid frames:  0\n",
            "video:  E_36.mp4\n",
            "valid frames:  91\n",
            "video:  E_37.mp4\n",
            "valid frames:  91\n",
            "video:  E_38.mp4\n",
            "valid frames:  85\n",
            "video:  E_39.mp4\n",
            "valid frames:  91\n",
            "video:  E_40.mp4\n",
            "valid frames:  1\n",
            "video:  E_41.mp4\n",
            "valid frames:  2\n",
            "video:  E_42.mp4\n",
            "valid frames:  84\n",
            "video:  E_43.mp4\n",
            "valid frames:  47\n",
            "video:  E_44.mp4\n",
            "valid frames:  91\n",
            "video:  E_45.mp4\n",
            "valid frames:  89\n",
            "video:  E_46.mp4\n",
            "valid frames:  82\n",
            "video:  E_47.mp4\n",
            "valid frames:  82\n",
            "video:  E_48.mp4\n",
            "valid frames:  89\n",
            "video:  E_49.mp4\n",
            "valid frames:  89\n",
            "video:  E_50.mp4\n",
            "valid frames:  91\n",
            "video:  E_51.mp4\n",
            "valid frames:  91\n",
            "video:  E_52.mp4\n",
            "valid frames:  87\n",
            "video:  E_53.mp4\n",
            "valid frames:  44\n",
            "video:  E_54.mp4\n",
            "valid frames:  79\n",
            "video:  E_55.mp4\n",
            "valid frames:  79\n",
            "video:  E_56.mp4\n",
            "valid frames:  27\n",
            "video:  E_57.mp4\n",
            "valid frames:  24\n",
            "video:  E_58.mp4\n",
            "valid frames:  85\n",
            "video:  E_59.mp4\n",
            "valid frames:  85\n",
            "video:  E_60.mp4\n",
            "valid frames:  66\n",
            "video:  E_61.mp4\n",
            "valid frames:  66\n",
            "video:  E_62.mp4\n",
            "valid frames:  71\n",
            "video:  E_63.mp4\n",
            "valid frames:  60\n",
            "video:  E_64.mp4\n",
            "valid frames:  91\n",
            "video:  E_65.mp4\n",
            "valid frames:  67\n",
            "video:  E_66.mp4\n",
            "valid frames:  85\n",
            "video:  E_67.mp4\n",
            "valid frames:  85\n",
            "video:  E_68.mp4\n",
            "valid frames:  89\n",
            "video:  E_69.mp4\n",
            "valid frames:  89\n",
            "video:  E_70.mp4\n",
            "valid frames:  74\n",
            "video:  E_71.mp4\n",
            "valid frames:  74\n",
            "video:  E_72.mp4\n",
            "valid frames:  88\n",
            "video:  E_73.mp4\n",
            "valid frames:  88\n",
            "video:  E_74.mp4\n",
            "valid frames:  64\n",
            "video:  E_75.mp4\n",
            "valid frames:  0\n",
            "video:  E_76.mp4\n",
            "valid frames:  90\n",
            "video:  E_77.mp4\n",
            "valid frames:  90\n",
            "video:  E_78.mp4\n",
            "valid frames:  87\n",
            "video:  E_79.mp4\n",
            "valid frames:  0\n",
            "video:  E_80.mp4\n",
            "valid frames:  5\n",
            "video:  E_81.mp4\n",
            "valid frames:  0\n",
            "video:  E_82.mp4\n",
            "valid frames:  30\n",
            "video:  E_83.mp4\n",
            "valid frames:  0\n",
            "I\n",
            "video:  I_1.mp4\n",
            "valid frames:  16\n",
            "video:  I_3.mp4\n",
            "valid frames:  74\n",
            "video:  I_4.mp4\n",
            "valid frames:  74\n",
            "video:  I_5.mp4\n",
            "valid frames:  1\n",
            "video:  I_6.mp4\n",
            "valid frames:  0\n",
            "video:  I_7.mp4\n",
            "valid frames:  0\n",
            "video:  I_8.mp4\n",
            "valid frames:  1\n",
            "video:  I_9.mp4\n",
            "valid frames:  65\n",
            "video:  I_10.mp4\n",
            "valid frames:  65\n",
            "video:  I_11.mp4\n",
            "valid frames:  65\n",
            "video:  I_12.mp4\n",
            "valid frames:  0\n",
            "video:  I_13.mp4\n",
            "valid frames:  119\n",
            "video:  I_14.mp4\n",
            "valid frames:  120\n",
            "video:  I_15.mp4\n",
            "valid frames:  120\n",
            "video:  I_16.mp4\n",
            "valid frames:  110\n",
            "video:  I_17.mp4\n",
            "valid frames:  111\n",
            "video:  I_18.mp4\n",
            "valid frames:  0\n",
            "video:  I_20.mp4\n",
            "valid frames:  69\n",
            "video:  I_31.mp4\n",
            "valid frames:  91\n",
            "video:  I_32.mp4\n",
            "valid frames:  91\n",
            "video:  I_33.mp4\n",
            "valid frames:  91\n",
            "video:  I_34.mp4\n",
            "valid frames:  91\n",
            "video:  I_35.mp4\n",
            "valid frames:  1\n",
            "video:  I_36.mp4\n",
            "valid frames:  1\n",
            "video:  I_37.mp4\n",
            "valid frames:  89\n",
            "video:  I_38.mp4\n",
            "valid frames:  88\n",
            "video:  I_39.mp4\n",
            "valid frames:  1\n",
            "video:  I_40.mp4\n",
            "valid frames:  2\n",
            "video:  I_41.mp4\n",
            "valid frames:  0\n",
            "video:  I_42.mp4\n",
            "valid frames:  2\n",
            "video:  I_43.mp4\n",
            "valid frames:  0\n",
            "video:  I_44.mp4\n",
            "valid frames:  84\n",
            "video:  I_45.mp4\n",
            "valid frames:  56\n",
            "video:  I_46.mp4\n",
            "valid frames:  56\n",
            "video:  I_47.mp4\n",
            "valid frames:  87\n",
            "video:  I_48.mp4\n",
            "valid frames:  87\n",
            "video:  I_49.mp4\n",
            "valid frames:  82\n",
            "video:  I_50.mp4\n",
            "valid frames:  82\n",
            "video:  I_51.mp4\n",
            "valid frames:  80\n",
            "video:  I_52.mp4\n",
            "valid frames:  80\n",
            "video:  I_53.mp4\n",
            "valid frames:  60\n",
            "video:  I_54.mp4\n",
            "valid frames:  58\n",
            "video:  I_55.mp4\n",
            "valid frames:  81\n",
            "video:  I_56.mp4\n",
            "valid frames:  81\n",
            "video:  I_57.mp4\n",
            "valid frames:  79\n",
            "video:  I_58.mp4\n",
            "valid frames:  0\n",
            "video:  I_59.mp4\n",
            "valid frames:  86\n",
            "video:  I_60.mp4\n",
            "valid frames:  86\n",
            "video:  I_61.mp4\n",
            "valid frames:  73\n",
            "video:  I_62.mp4\n",
            "valid frames:  73\n",
            "video:  I_63.mp4\n",
            "valid frames:  78\n",
            "video:  I_64.mp4\n",
            "valid frames:  77\n",
            "video:  I_65.mp4\n",
            "valid frames:  87\n",
            "video:  I_66.mp4\n",
            "valid frames:  86\n",
            "video:  I_67.mp4\n",
            "valid frames:  90\n",
            "video:  I_68.mp4\n",
            "valid frames:  90\n",
            "video:  I_69.mp4\n",
            "valid frames:  90\n",
            "video:  I_70.mp4\n",
            "valid frames:  0\n",
            "video:  I_71.mp4\n",
            "valid frames:  79\n",
            "video:  I_72.mp4\n",
            "valid frames:  79\n",
            "video:  I_73.mp4\n",
            "valid frames:  56\n",
            "video:  I_74.mp4\n",
            "valid frames:  56\n",
            "video:  I_75.mp4\n",
            "valid frames:  86\n",
            "video:  I_76.mp4\n",
            "valid frames:  86\n",
            "video:  I_77.mp4\n",
            "valid frames:  0\n",
            "video:  I_78.mp4\n",
            "valid frames:  0\n",
            "video:  I_79.mp4\n",
            "valid frames:  86\n",
            "video:  I_80.mp4\n",
            "valid frames:  86\n",
            "video:  I_81.mp4\n",
            "valid frames:  88\n",
            "video:  I_82.mp4\n",
            "valid frames:  88\n",
            "video:  I_83.mp4\n",
            "valid frames:  0\n",
            "video:  I_84.mp4\n",
            "valid frames:  3\n",
            "video:  I_85.mp4\n",
            "valid frames:  0\n",
            "video:  I_86.mp4\n",
            "valid frames:  0\n",
            "O\n",
            "video:  O_1.mp4\n",
            "valid frames:  0\n",
            "video:  O_2.mp4\n",
            "valid frames:  64\n",
            "video:  O_3.mp4\n",
            "valid frames:  64\n",
            "video:  O_4.mp4\n",
            "valid frames:  0\n",
            "video:  O_5.mp4\n",
            "valid frames:  24\n",
            "video:  O_6.mp4\n",
            "valid frames:  0\n",
            "video:  O_7.mp4\n",
            "valid frames:  0\n",
            "video:  O_8.mp4\n",
            "valid frames:  70\n",
            "video:  O_9.mp4\n",
            "valid frames:  70\n",
            "video:  O_10.mp4\n",
            "valid frames:  68\n",
            "video:  O_11.mp4\n",
            "valid frames:  0\n",
            "video:  O_12.mp4\n",
            "valid frames:  119\n",
            "video:  O_13.mp4\n",
            "valid frames:  1\n",
            "video:  O_14.mp4\n",
            "valid frames:  119\n",
            "video:  O_15.mp4\n",
            "valid frames:  108\n",
            "video:  O_16.mp4\n",
            "valid frames:  120\n",
            "video:  O_17.mp4\n",
            "valid frames:  3\n",
            "video:  O_19.mp4\n",
            "valid frames:  4\n",
            "video:  O_30.mp4\n",
            "valid frames:  91\n",
            "video:  O_31.mp4\n",
            "valid frames:  91\n",
            "video:  O_32.mp4\n",
            "valid frames:  91\n",
            "video:  O_33.mp4\n",
            "valid frames:  91\n",
            "video:  O_34.mp4\n",
            "valid frames:  7\n",
            "video:  O_35.mp4\n",
            "valid frames:  9\n",
            "video:  O_36.mp4\n",
            "valid frames:  88\n",
            "video:  O_37.mp4\n",
            "valid frames:  88\n",
            "video:  O_38.mp4\n",
            "valid frames:  85\n",
            "video:  O_39.mp4\n",
            "valid frames:  48\n",
            "video:  O_40.mp4\n",
            "valid frames:  22\n",
            "video:  O_41.mp4\n",
            "valid frames:  19\n",
            "video:  O_42.mp4\n",
            "valid frames:  90\n",
            "video:  O_43.mp4\n",
            "valid frames:  3\n",
            "video:  O_44.mp4\n",
            "valid frames:  90\n",
            "video:  O_45.mp4\n",
            "valid frames:  77\n",
            "video:  O_46.mp4\n",
            "valid frames:  89\n",
            "video:  O_47.mp4\n",
            "valid frames:  89\n",
            "video:  O_48.mp4\n",
            "valid frames:  86\n",
            "video:  O_49.mp4\n",
            "valid frames:  86\n",
            "video:  O_50.mp4\n",
            "valid frames:  87\n",
            "video:  O_51.mp4\n",
            "valid frames:  87\n",
            "video:  O_52.mp4\n",
            "valid frames:  76\n",
            "video:  O_53.mp4\n",
            "valid frames:  76\n",
            "video:  O_54.mp4\n",
            "valid frames:  81\n",
            "video:  O_55.mp4\n",
            "valid frames:  81\n",
            "video:  O_56.mp4\n",
            "valid frames:  1\n",
            "video:  O_57.mp4\n",
            "valid frames:  0\n",
            "video:  O_58.mp4\n",
            "valid frames:  74\n",
            "video:  O_59.mp4\n",
            "valid frames:  74\n",
            "video:  O_60.mp4\n",
            "valid frames:  71\n",
            "video:  O_61.mp4\n",
            "valid frames:  71\n",
            "video:  O_62.mp4\n",
            "valid frames:  91\n",
            "video:  O_63.mp4\n",
            "valid frames:  91\n",
            "video:  O_64.mp4\n",
            "valid frames:  78\n",
            "video:  O_65.mp4\n",
            "valid frames:  78\n",
            "video:  O_66.mp4\n",
            "valid frames:  80\n",
            "video:  O_67.mp4\n",
            "valid frames:  9\n",
            "video:  O_68.mp4\n",
            "valid frames:  90\n",
            "video:  O_69.mp4\n",
            "valid frames:  90\n",
            "video:  O_70.mp4\n",
            "valid frames:  86\n",
            "video:  O_71.mp4\n",
            "valid frames:  86\n",
            "video:  O_72.mp4\n",
            "valid frames:  74\n",
            "video:  O_73.mp4\n",
            "valid frames:  1\n",
            "video:  O_74.mp4\n",
            "valid frames:  79\n",
            "video:  O_75.mp4\n",
            "valid frames:  79\n",
            "video:  O_76.mp4\n",
            "valid frames:  83\n",
            "video:  O_77.mp4\n",
            "valid frames:  78\n",
            "video:  O_78.mp4\n",
            "valid frames:  7\n",
            "video:  O_79.mp4\n",
            "valid frames:  0\n",
            "video:  O_80.mp4\n",
            "valid frames:  90\n",
            "video:  O_81.mp4\n",
            "valid frames:  90\n",
            "video:  O_82.mp4\n",
            "valid frames:  87\n",
            "video:  O_83.mp4\n",
            "valid frames:  87\n",
            "video:  O_84.mp4\n",
            "valid frames:  3\n",
            "video:  O_85.mp4\n",
            "valid frames:  0\n",
            "video:  O_86.mp4\n",
            "valid frames:  0\n",
            "video:  O_87.mp4\n",
            "valid frames:  0\n",
            "U\n",
            "video:  U_1.mp4\n",
            "valid frames:  117\n",
            "video:  U_2.mp4\n",
            "valid frames:  73\n",
            "video:  U_3.mp4\n",
            "valid frames:  19\n",
            "video:  U_4.mp4\n",
            "valid frames:  0\n",
            "video:  U_5.mp4\n",
            "valid frames:  0\n",
            "video:  U_6.mp4\n",
            "valid frames:  71\n",
            "video:  U_7.mp4\n",
            "valid frames:  71\n",
            "video:  U_8.mp4\n",
            "valid frames:  71\n",
            "video:  U_9.mp4\n",
            "valid frames:  0\n",
            "video:  U_10.mp4\n",
            "valid frames:  9\n",
            "video:  U_11.mp4\n",
            "valid frames:  2\n",
            "video:  U_12.mp4\n",
            "valid frames:  119\n",
            "video:  U_13.mp4\n",
            "valid frames:  112\n",
            "video:  U_14.mp4\n",
            "valid frames:  115\n",
            "video:  U_15.mp4\n",
            "valid frames:  1\n",
            "video:  U_17.mp4\n",
            "valid frames:  115\n",
            "video:  U_26.mp4\n",
            "valid frames:  91\n",
            "video:  U_27.mp4\n",
            "valid frames:  10\n",
            "video:  U_28.mp4\n",
            "valid frames:  91\n",
            "video:  U_29.mp4\n",
            "valid frames:  50\n",
            "video:  U_30.mp4\n",
            "valid frames:  10\n",
            "video:  U_31.mp4\n",
            "valid frames:  0\n",
            "video:  U_32.mp4\n",
            "valid frames:  91\n",
            "video:  U_33.mp4\n",
            "valid frames:  1\n",
            "video:  U_34.mp4\n",
            "valid frames:  0\n",
            "video:  U_35.mp4\n",
            "valid frames:  0\n",
            "video:  U_36.mp4\n",
            "valid frames:  0\n",
            "video:  U_37.mp4\n",
            "valid frames:  19\n",
            "video:  U_38.mp4\n",
            "valid frames:  57\n",
            "video:  U_39.mp4\n",
            "valid frames:  0\n",
            "video:  U_40.mp4\n",
            "valid frames:  82\n",
            "video:  U_41.mp4\n",
            "valid frames:  82\n",
            "video:  U_42.mp4\n",
            "valid frames:  91\n",
            "video:  U_43.mp4\n",
            "valid frames:  91\n",
            "video:  U_44.mp4\n",
            "valid frames:  86\n",
            "video:  U_45.mp4\n",
            "valid frames:  86\n",
            "video:  U_46.mp4\n",
            "valid frames:  82\n",
            "video:  U_47.mp4\n",
            "valid frames:  82\n",
            "video:  U_48.mp4\n",
            "valid frames:  90\n",
            "video:  U_49.mp4\n",
            "valid frames:  90\n",
            "video:  U_50.mp4\n",
            "valid frames:  80\n",
            "video:  U_51.mp4\n",
            "valid frames:  80\n",
            "video:  U_52.mp4\n",
            "valid frames:  80\n",
            "video:  U_53.mp4\n",
            "valid frames:  0\n",
            "video:  U_54.mp4\n",
            "valid frames:  82\n",
            "video:  U_55.mp4\n",
            "valid frames:  82\n",
            "video:  U_56.mp4\n",
            "valid frames:  76\n",
            "video:  U_57.mp4\n",
            "valid frames:  76\n",
            "video:  U_58.mp4\n",
            "valid frames:  75\n",
            "video:  U_59.mp4\n",
            "valid frames:  52\n",
            "video:  U_60.mp4\n",
            "valid frames:  82\n",
            "video:  U_61.mp4\n",
            "valid frames:  82\n",
            "video:  U_62.mp4\n",
            "valid frames:  85\n",
            "video:  U_63.mp4\n",
            "valid frames:  85\n",
            "video:  U_64.mp4\n",
            "valid frames:  70\n",
            "video:  U_65.mp4\n",
            "valid frames:  7\n",
            "video:  U_66.mp4\n",
            "valid frames:  77\n",
            "video:  U_67.mp4\n",
            "valid frames:  77\n",
            "video:  U_68.mp4\n",
            "valid frames:  82\n",
            "video:  U_69.mp4\n",
            "valid frames:  81\n",
            "video:  U_70.mp4\n",
            "valid frames:  0\n",
            "video:  U_71.mp4\n",
            "valid frames:  0\n",
            "video:  U_72.mp4\n",
            "valid frames:  82\n",
            "video:  U_73.mp4\n",
            "valid frames:  82\n",
            "video:  U_74.mp4\n",
            "valid frames:  80\n",
            "video:  U_75.mp4\n",
            "valid frames:  0\n",
            "video:  U_76.mp4\n",
            "valid frames:  8\n",
            "video:  U_77.mp4\n",
            "valid frames:  0\n",
            "video:  U_78.mp4\n",
            "valid frames:  1\n",
            "video:  U_79.mp4\n",
            "valid frames:  0\n"
          ]
        }
      ]
    },
    {
      "cell_type": "code",
      "source": [
        "vid_count = [ {vowel_folder: len(os.listdir(os.path.join(videos_src,vowel_folder)))} for vowel_folder in os.listdir(videos_src) ]\n",
        "vid_count"
      ],
      "metadata": {
        "colab": {
          "base_uri": "https://localhost:8080/"
        },
        "id": "JyY5FqC8zP69",
        "outputId": "b93c5b49-e804-4a06-b2b1-724462643b32"
      },
      "execution_count": 86,
      "outputs": [
        {
          "output_type": "execute_result",
          "data": {
            "text/plain": [
              "[{'A': 69}, {'E': 72}, {'I': 74}, {'O': 76}, {'U': 70}]"
            ]
          },
          "metadata": {},
          "execution_count": 86
        }
      ]
    },
    {
      "cell_type": "code",
      "source": [
        "len(invalid_videos_n_frames)   # videos with less than 25 frame"
      ],
      "metadata": {
        "colab": {
          "base_uri": "https://localhost:8080/"
        },
        "id": "TCvlqZZHcCYG",
        "outputId": "d82be929-aed0-4f5c-e7a8-522f70b821c5"
      },
      "execution_count": 87,
      "outputs": [
        {
          "output_type": "execute_result",
          "data": {
            "text/plain": [
              "111"
            ]
          },
          "metadata": {},
          "execution_count": 87
        }
      ]
    },
    {
      "cell_type": "code",
      "source": [
        "valid_vid_count = []\n",
        "valid_frames_count = 50\n",
        "\n",
        "for vowel_folder in os.listdir(data_path):\n",
        "  vf_path = os.path.join(data_path,vowel_folder)\n",
        "  counter = 0\n",
        "  for vid in os.listdir(vf_path):\n",
        "    v_path = os.path.join(vf_path,vid)\n",
        "    if len(os.listdir(v_path)) > valid_frames_count:\n",
        "      counter = counter + 1\n",
        "  valid_vid_count.append({vowel_folder : counter})\n",
        "\n",
        "valid_vid_count"
      ],
      "metadata": {
        "colab": {
          "base_uri": "https://localhost:8080/"
        },
        "id": "LI1tJcjrcWjP",
        "outputId": "e285aeae-31c5-43ca-8582-64897cd8d6ae"
      },
      "execution_count": 88,
      "outputs": [
        {
          "output_type": "execute_result",
          "data": {
            "text/plain": [
              "[{'A': 44}, {'E': 46}, {'I': 52}, {'O': 51}, {'U': 44}]"
            ]
          },
          "metadata": {},
          "execution_count": 88
        }
      ]
    },
    {
      "cell_type": "markdown",
      "source": [
        "## **Data Preparation**"
      ],
      "metadata": {
        "id": "qNhgpENxvq8X"
      }
    },
    {
      "cell_type": "code",
      "source": [
        "from sklearn.model_selection import train_test_split\n",
        "from tensorflow.keras.utils import to_categorical"
      ],
      "metadata": {
        "id": "g7X9cJsHvyFg"
      },
      "execution_count": 89,
      "outputs": []
    },
    {
      "cell_type": "code",
      "source": [
        "# 5 Vowels\n",
        "# 44 videos each\n",
        "# frames >50\n",
        "\n",
        "label_map = {lable: num for num, lable in enumerate(vowels)} # A dictinary\n",
        "label_map"
      ],
      "metadata": {
        "colab": {
          "base_uri": "https://localhost:8080/"
        },
        "id": "R0vUUJQnwgfi",
        "outputId": "aa8682f2-15a0-44f5-bf09-b085fd4c2e0f"
      },
      "execution_count": 90,
      "outputs": [
        {
          "output_type": "execute_result",
          "data": {
            "text/plain": [
              "{'A': 0, 'E': 1, 'I': 2, 'O': 3, 'U': 4}"
            ]
          },
          "metadata": {},
          "execution_count": 90
        }
      ]
    },
    {
      "cell_type": "markdown",
      "source": [
        "# Load the data"
      ],
      "metadata": {
        "id": "Upz1XZ4y-iqV"
      }
    },
    {
      "cell_type": "code",
      "source": [
        "\n",
        "num_videos = 44\n",
        "num_frames = 50\n",
        "sequences = []\n",
        "labels = []\n",
        "\n",
        "for folder in os.listdir(data_path):\n",
        "  print(folder)\n",
        "  vid_num = 0\n",
        "  seq_path = os.path.join(data_path,folder)\n",
        "  for seq_data in os.listdir(seq_path):\n",
        "    if vid_num == num_videos:  \n",
        "      break\n",
        "    window = []\n",
        "    frame_num = 0\n",
        "    seq_data_path = os.path.join(seq_path,seq_data)\n",
        "    if len(os.listdir(seq_data_path)) > num_frames:\n",
        "      vid_num = vid_num + 1\n",
        "      for data_file in os.listdir(seq_data_path):\n",
        "        if frame_num == num_frames:\n",
        "          break\n",
        "        res = np.load(os.path.join(seq_data_path,data_file))\n",
        "        window.append(res)\n",
        "        frame_num = frame_num + 1\n",
        "      sequences.append(window)\n",
        "      labels.append(label_map[folder])\n"
      ],
      "metadata": {
        "colab": {
          "base_uri": "https://localhost:8080/"
        },
        "id": "uR4-cbBRxEHU",
        "outputId": "306702a7-f373-4845-bc31-c90e8cc98151"
      },
      "execution_count": 91,
      "outputs": [
        {
          "output_type": "stream",
          "name": "stdout",
          "text": [
            "A\n",
            "E\n",
            "I\n",
            "O\n",
            "U\n"
          ]
        }
      ]
    },
    {
      "cell_type": "markdown",
      "source": [
        "Change data to np array and y data to categorical data"
      ],
      "metadata": {
        "id": "R2AlVHzU-vVa"
      }
    },
    {
      "cell_type": "code",
      "source": [
        "np.array(sequences).shape"
      ],
      "metadata": {
        "colab": {
          "base_uri": "https://localhost:8080/"
        },
        "id": "HFdKZKK66iOV",
        "outputId": "8a18229b-c9d6-4f76-e301-02c33939f582"
      },
      "execution_count": 92,
      "outputs": [
        {
          "output_type": "execute_result",
          "data": {
            "text/plain": [
              "(220, 50, 63)"
            ]
          },
          "metadata": {},
          "execution_count": 92
        }
      ]
    },
    {
      "cell_type": "code",
      "source": [
        "np.array(labels).shape"
      ],
      "metadata": {
        "colab": {
          "base_uri": "https://localhost:8080/"
        },
        "id": "rmwI7MfB5UHp",
        "outputId": "add7e82f-aab0-4436-d701-26c45a6d0baf"
      },
      "execution_count": 93,
      "outputs": [
        {
          "output_type": "execute_result",
          "data": {
            "text/plain": [
              "(220,)"
            ]
          },
          "metadata": {},
          "execution_count": 93
        }
      ]
    },
    {
      "cell_type": "code",
      "source": [
        "x = np.array(sequences)"
      ],
      "metadata": {
        "id": "Wso5hNIy4jkz"
      },
      "execution_count": 94,
      "outputs": []
    },
    {
      "cell_type": "code",
      "source": [
        "x.shape"
      ],
      "metadata": {
        "colab": {
          "base_uri": "https://localhost:8080/"
        },
        "id": "Cqy3SaVR9TGN",
        "outputId": "977dd120-2664-4fcf-e021-a390a7762159"
      },
      "execution_count": 95,
      "outputs": [
        {
          "output_type": "execute_result",
          "data": {
            "text/plain": [
              "(220, 50, 63)"
            ]
          },
          "metadata": {},
          "execution_count": 95
        }
      ]
    },
    {
      "cell_type": "code",
      "source": [
        "y = to_categorical(labels).astype(int)"
      ],
      "metadata": {
        "id": "6ch1kl7m9bc0"
      },
      "execution_count": 96,
      "outputs": []
    },
    {
      "cell_type": "code",
      "source": [
        "y.shape"
      ],
      "metadata": {
        "colab": {
          "base_uri": "https://localhost:8080/"
        },
        "id": "WsP6Lgh09njM",
        "outputId": "57ff8020-ab0c-4f72-e275-296aacee7019"
      },
      "execution_count": 97,
      "outputs": [
        {
          "output_type": "execute_result",
          "data": {
            "text/plain": [
              "(220, 5)"
            ]
          },
          "metadata": {},
          "execution_count": 97
        }
      ]
    },
    {
      "cell_type": "markdown",
      "source": [
        "# Train-Test Split The data"
      ],
      "metadata": {
        "id": "KylvJI-P-8wf"
      }
    },
    {
      "cell_type": "code",
      "source": [
        "x_train, x_test, y_train, y_test = train_test_split(x,y,test_size=0.2)"
      ],
      "metadata": {
        "id": "lBWflIVW908o"
      },
      "execution_count": 98,
      "outputs": []
    },
    {
      "cell_type": "code",
      "source": [
        "x_train.shape"
      ],
      "metadata": {
        "colab": {
          "base_uri": "https://localhost:8080/"
        },
        "id": "RLx5GUDS-KDX",
        "outputId": "2e2e3539-228e-44f3-d3aa-21da897d12fb"
      },
      "execution_count": 99,
      "outputs": [
        {
          "output_type": "execute_result",
          "data": {
            "text/plain": [
              "(176, 50, 63)"
            ]
          },
          "metadata": {},
          "execution_count": 99
        }
      ]
    },
    {
      "cell_type": "markdown",
      "source": [
        "## **Build and Train LSTM NN**"
      ],
      "metadata": {
        "id": "aBLMKyFi_Fhc"
      }
    },
    {
      "cell_type": "code",
      "source": [
        "import tensorflow as tf\n",
        "device_name = tf.test.gpu_device_name()\n",
        "if device_name != '/device:GPU:0':\n",
        "  raise SystemError('GPU device not found')\n",
        "print('Found GPU at: {}'.format(device_name))"
      ],
      "metadata": {
        "colab": {
          "base_uri": "https://localhost:8080/"
        },
        "id": "OEaNV3FRl_9D",
        "outputId": "96db6c0b-171a-47fb-934f-b50efc728342"
      },
      "execution_count": 100,
      "outputs": [
        {
          "output_type": "stream",
          "name": "stdout",
          "text": [
            "Found GPU at: /device:GPU:0\n"
          ]
        }
      ]
    },
    {
      "cell_type": "code",
      "source": [
        "from tensorflow.keras.models import Sequential\n",
        "from tensorflow.keras.layers import LSTM, Dense\n",
        "from tensorflow.keras.callbacks import TensorBoard"
      ],
      "metadata": {
        "id": "GGXjmfT1_Vt_"
      },
      "execution_count": 101,
      "outputs": []
    },
    {
      "cell_type": "code",
      "source": [
        "vowels.shape[0]"
      ],
      "metadata": {
        "colab": {
          "base_uri": "https://localhost:8080/"
        },
        "id": "La9Tbb0SEwCU",
        "outputId": "59f7b2f4-e723-4186-dd78-7dd9c11fe948"
      },
      "execution_count": 102,
      "outputs": [
        {
          "output_type": "execute_result",
          "data": {
            "text/plain": [
              "5"
            ]
          },
          "metadata": {},
          "execution_count": 102
        }
      ]
    },
    {
      "cell_type": "code",
      "source": [
        "model = Sequential()\n",
        "model.add(LSTM(64, return_sequences=True, activation='relu', input_shape=(50,features)))\n",
        "model.add(LSTM(128, return_sequences=True, activation='relu'))\n",
        "model.add(LSTM(64, return_sequences=False, activation='relu'))\n",
        "model.add(Dense(64, activation='relu'))\n",
        "model.add(Dense(32, activation='relu'))\n",
        "model.add(Dense(vowels.shape[0], activation='softmax'))"
      ],
      "metadata": {
        "colab": {
          "base_uri": "https://localhost:8080/"
        },
        "id": "ibisLqutDbLu",
        "outputId": "3e70c211-ff74-44e2-904e-806261882d8b"
      },
      "execution_count": 128,
      "outputs": [
        {
          "output_type": "stream",
          "name": "stdout",
          "text": [
            "WARNING:tensorflow:Layer lstm_9 will not use cuDNN kernel since it doesn't meet the cuDNN kernel criteria. It will use generic GPU kernel as fallback when running on GPU\n",
            "WARNING:tensorflow:Layer lstm_10 will not use cuDNN kernel since it doesn't meet the cuDNN kernel criteria. It will use generic GPU kernel as fallback when running on GPU\n",
            "WARNING:tensorflow:Layer lstm_11 will not use cuDNN kernel since it doesn't meet the cuDNN kernel criteria. It will use generic GPU kernel as fallback when running on GPU\n"
          ]
        }
      ]
    },
    {
      "cell_type": "code",
      "source": [
        "model.compile(optimizer='Adam', loss='categorical_crossentropy', metrics=[ 'acc'])"
      ],
      "metadata": {
        "id": "eolHJ0JHFOLM"
      },
      "execution_count": 129,
      "outputs": []
    },
    {
      "cell_type": "code",
      "source": [
        "model.summary()"
      ],
      "metadata": {
        "colab": {
          "base_uri": "https://localhost:8080/"
        },
        "id": "g2jrSm7yFrbO",
        "outputId": "b3382fc1-2dc7-4f11-e56d-4b82a8e68527"
      },
      "execution_count": 130,
      "outputs": [
        {
          "output_type": "stream",
          "name": "stdout",
          "text": [
            "Model: \"sequential_3\"\n",
            "_________________________________________________________________\n",
            "Layer (type)                 Output Shape              Param #   \n",
            "=================================================================\n",
            "lstm_9 (LSTM)                (None, 50, 64)            32768     \n",
            "_________________________________________________________________\n",
            "lstm_10 (LSTM)               (None, 50, 128)           98816     \n",
            "_________________________________________________________________\n",
            "lstm_11 (LSTM)               (None, 64)                49408     \n",
            "_________________________________________________________________\n",
            "dense_9 (Dense)              (None, 64)                4160      \n",
            "_________________________________________________________________\n",
            "dense_10 (Dense)             (None, 32)                2080      \n",
            "_________________________________________________________________\n",
            "dense_11 (Dense)             (None, 5)                 165       \n",
            "=================================================================\n",
            "Total params: 187,397\n",
            "Trainable params: 187,397\n",
            "Non-trainable params: 0\n",
            "_________________________________________________________________\n"
          ]
        }
      ]
    },
    {
      "cell_type": "code",
      "source": [
        "hist = model.fit(x_train,y_train, epochs=12, validation_data = (x_test, y_test ))"
      ],
      "metadata": {
        "colab": {
          "base_uri": "https://localhost:8080/"
        },
        "id": "m2JWndj2GC33",
        "outputId": "db65fb50-3d3f-471f-b58a-ea8d54a2261d"
      },
      "execution_count": 124,
      "outputs": [
        {
          "output_type": "stream",
          "name": "stdout",
          "text": [
            "Epoch 1/12\n",
            "6/6 [==============================] - 4s 308ms/step - loss: 2.2316 - acc: 0.6318 - val_loss: 2.0893 - val_acc: 0.3864\n",
            "Epoch 2/12\n",
            "6/6 [==============================] - 1s 217ms/step - loss: 1.1451 - acc: 0.6610 - val_loss: 1.0029 - val_acc: 0.6136\n",
            "Epoch 3/12\n",
            "6/6 [==============================] - 1s 232ms/step - loss: 0.6352 - acc: 0.7719 - val_loss: 0.9400 - val_acc: 0.7955\n",
            "Epoch 4/12\n",
            "6/6 [==============================] - 1s 229ms/step - loss: 0.4741 - acc: 0.8030 - val_loss: 0.6393 - val_acc: 0.7727\n",
            "Epoch 5/12\n",
            "6/6 [==============================] - 1s 219ms/step - loss: 0.5597 - acc: 0.8022 - val_loss: 0.9393 - val_acc: 0.5227\n",
            "Epoch 6/12\n",
            "6/6 [==============================] - 1s 238ms/step - loss: 0.5486 - acc: 0.8007 - val_loss: 0.6052 - val_acc: 0.8182\n",
            "Epoch 7/12\n",
            "6/6 [==============================] - 1s 222ms/step - loss: 0.4872 - acc: 0.8111 - val_loss: 0.5222 - val_acc: 0.8409\n",
            "Epoch 8/12\n",
            "6/6 [==============================] - 1s 228ms/step - loss: 0.3663 - acc: 0.8865 - val_loss: 0.4055 - val_acc: 0.8636\n",
            "Epoch 9/12\n",
            "6/6 [==============================] - 1s 219ms/step - loss: 0.3676 - acc: 0.8722 - val_loss: 0.3668 - val_acc: 0.8182\n",
            "Epoch 10/12\n",
            "6/6 [==============================] - 1s 216ms/step - loss: 0.2757 - acc: 0.9412 - val_loss: 0.3305 - val_acc: 0.8864\n",
            "Epoch 11/12\n",
            "6/6 [==============================] - 1s 221ms/step - loss: 0.2959 - acc: 0.9188 - val_loss: 0.3960 - val_acc: 0.9091\n",
            "Epoch 12/12\n",
            "6/6 [==============================] - 1s 219ms/step - loss: 0.2281 - acc: 0.9465 - val_loss: 0.3238 - val_acc: 0.9318\n"
          ]
        }
      ]
    },
    {
      "cell_type": "code",
      "source": [
        "import matplotlib.pyplot as plt\n",
        "\n",
        "acc = hist.history['acc']\n",
        "val_acc = hist.history['val_acc']\n",
        "loss = hist.history['loss']\n",
        "val_loss = hist.history['val_loss']\n",
        "\n",
        "epochs = range(len(acc))\n",
        "\n",
        "plt.plot(epochs, acc, 'bo', label = 'Training acc')\n",
        "plt.plot(epochs, val_acc, 'b', label = 'Validation acc')\n",
        "plt.title('Training and validation accuracy')\n",
        "plt.ylabel('Accuracy')\n",
        "plt.xlabel('Epochs')\n",
        "\n",
        "plt.legend()\n",
        "\n",
        "plt.figure()\n",
        "\n",
        "plt.plot(epochs, loss, 'bo', label = 'Training loss')\n",
        "plt.plot(epochs, val_loss, 'b', label = 'Validation loss')\n",
        "plt.title('Training and validation loss')\n",
        "plt.ylabel('Loss')\n",
        "plt.xlabel('Epochs')\n",
        "plt.legend()\n",
        "\n",
        "plt.show()"
      ],
      "metadata": {
        "colab": {
          "base_uri": "https://localhost:8080/",
          "height": 573
        },
        "id": "tafm0iOzJd3C",
        "outputId": "445f0752-b2e8-4651-f3dd-635ced2b001b"
      },
      "execution_count": 117,
      "outputs": [
        {
          "output_type": "display_data",
          "data": {
            "text/plain": [
              "<Figure size 432x288 with 1 Axes>"
            ],
            "image/png": "[encoded data removed]"
          },
          "metadata": {
            "needs_background": "light"
          }
        },
        {
          "output_type": "display_data",
          "data": {
            "text/plain": [
              "<Figure size 432x288 with 1 Axes>"
            ],
            "image/png": "[encoded data removed]"
          },
          "metadata": {
            "needs_background": "light"
          }
        }
      ]
    },
    {
      "cell_type": "markdown",
      "source": [
        "# Save weights"
      ],
      "metadata": {
        "id": "GxmZcCOQGTIj"
      }
    },
    {
      "cell_type": "code",
      "source": [
        "\n",
        "core_dir = '/content/drive/My Drive'\n",
        "weights_path = os.path.join(core_dir, 'Vowels Weights','vowels.h5')\n",
        "model.save(weights_path)"
      ],
      "metadata": {
        "id": "IKY4Uq6-GSib"
      },
      "execution_count": 125,
      "outputs": []
    },
    {
      "cell_type": "code",
      "source": [
        "del model"
      ],
      "metadata": {
        "id": "B7LaUWbdIPEm"
      },
      "execution_count": 126,
      "outputs": []
    },
    {
      "cell_type": "markdown",
      "source": [
        "note: re reun the model definition (no training required) before loading weights"
      ],
      "metadata": {
        "id": "wOw3x7N8IwcN"
      }
    },
    {
      "cell_type": "code",
      "source": [
        "model.load_weights(weights_path)"
      ],
      "metadata": {
        "id": "BdhefiIDISQA"
      },
      "execution_count": 131,
      "outputs": []
    },
    {
      "cell_type": "markdown",
      "source": [
        ""
      ],
      "metadata": {
        "id": "KM2aeQzkIrwd"
      }
    }
  ],
  "metadata": {
    "colab": {
      "collapsed_sections": [],
      "name": "Vowels Action Detection.ipynb",
      "provenance": [],
      "authorship_tag": "ABX9TyNqGFp+bMK6GnO0Y4VFboqU"
    },
    "kernelspec": {
      "display_name": "Python 3",
      "name": "python3"
    },
    "language_info": {
      "name": "python"
    },
    "accelerator": "GPU",
    "gpuClass": "standard"
  },
  "nbformat": 4,
  "nbformat_minor": 0
}