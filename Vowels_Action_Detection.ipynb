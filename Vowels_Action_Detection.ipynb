{
  "cells": [
    {
      "cell_type": "markdown",
      "metadata": {
        "id": "view-in-github",
        "colab_type": "text"
      },
      "source": [
        "<a href=\"https://colab.research.google.com/github/MadimetjaMadix/action-recognition-vowels/blob/main/Vowels_Action_Detection.ipynb\" target=\"_parent\"><img src=\"https://colab.research.google.com/assets/colab-badge.svg\" alt=\"Open In Colab\"/></a>"
      ]
    },
    {
      "cell_type": "markdown",
      "metadata": {
        "id": "DrSbYAlwfRye"
      },
      "source": [
        "## **Import and Install dependencies**"
      ]
    },
    {
      "cell_type": "code",
      "execution_count": 3,
      "metadata": {
        "colab": {
          "base_uri": "https://localhost:8080/"
        },
        "id": "hrVoxyyghVIi",
        "outputId": "4894cc73-dbd7-42e9-ef2e-7ae160088a3e"
      },
      "outputs": [
        {
          "output_type": "stream",
          "name": "stdout",
          "text": [
            "Mounted at /content/drive\n"
          ]
        }
      ],
      "source": [
        "from google.colab import drive\n",
        "drive.mount('/content/drive')"
      ]
    },
    {
      "cell_type": "code",
      "execution_count": 4,
      "metadata": {
        "id": "LoQdgFSPdYoC",
        "colab": {
          "base_uri": "https://localhost:8080/",
          "height": 1000
        },
        "outputId": "a7a6bd5a-eaa1-49fa-eba4-bed91ecd0c0d"
      },
      "outputs": [
        {
          "output_type": "stream",
          "name": "stdout",
          "text": [
            "Looking in indexes: https://pypi.org/simple, https://us-python.pkg.dev/colab-wheels/public/simple/\n",
            "Collecting tensorflow==2.4.1\n",
            "  Downloading tensorflow-2.4.1-cp37-cp37m-manylinux2010_x86_64.whl (394.3 MB)\n",
            "\u001b[K     |████████████████████████████████| 394.3 MB 13 kB/s \n",
            "\u001b[?25hCollecting tensorflow-gpu==2.4.1\n",
            "  Downloading tensorflow_gpu-2.4.1-cp37-cp37m-manylinux2010_x86_64.whl (394.3 MB)\n",
            "\u001b[K     |████████████████████████████████| 394.3 MB 16 kB/s \n",
            "\u001b[?25hRequirement already satisfied: opencv-python in /usr/local/lib/python3.7/dist-packages (4.1.2.30)\n",
            "Collecting mediapipe\n",
            "  Downloading mediapipe-0.8.10-cp37-cp37m-manylinux_2_17_x86_64.manylinux2014_x86_64.whl (32.8 MB)\n",
            "\u001b[K     |████████████████████████████████| 32.8 MB 1.3 MB/s \n",
            "\u001b[?25hRequirement already satisfied: sklearn in /usr/local/lib/python3.7/dist-packages (0.0)\n",
            "Requirement already satisfied: matplotlib in /usr/local/lib/python3.7/dist-packages (3.2.2)\n",
            "Collecting typing-extensions~=3.7.4\n",
            "  Downloading typing_extensions-3.7.4.3-py3-none-any.whl (22 kB)\n",
            "Collecting grpcio~=1.32.0\n",
            "  Downloading grpcio-1.32.0-cp37-cp37m-manylinux2014_x86_64.whl (3.8 MB)\n",
            "\u001b[K     |████████████████████████████████| 3.8 MB 50.0 MB/s \n",
            "\u001b[?25hRequirement already satisfied: wheel~=0.35 in /usr/local/lib/python3.7/dist-packages (from tensorflow==2.4.1) (0.37.1)\n",
            "Requirement already satisfied: protobuf>=3.9.2 in /usr/local/lib/python3.7/dist-packages (from tensorflow==2.4.1) (3.17.3)\n",
            "Requirement already satisfied: termcolor~=1.1.0 in /usr/local/lib/python3.7/dist-packages (from tensorflow==2.4.1) (1.1.0)\n",
            "Collecting wrapt~=1.12.1\n",
            "  Downloading wrapt-1.12.1.tar.gz (27 kB)\n",
            "Requirement already satisfied: keras-preprocessing~=1.1.2 in /usr/local/lib/python3.7/dist-packages (from tensorflow==2.4.1) (1.1.2)\n",
            "Collecting gast==0.3.3\n",
            "  Downloading gast-0.3.3-py2.py3-none-any.whl (9.7 kB)\n",
            "Collecting tensorflow-estimator<2.5.0,>=2.4.0\n",
            "  Downloading tensorflow_estimator-2.4.0-py2.py3-none-any.whl (462 kB)\n",
            "\u001b[K     |████████████████████████████████| 462 kB 70.5 MB/s \n",
            "\u001b[?25hRequirement already satisfied: six~=1.15.0 in /usr/local/lib/python3.7/dist-packages (from tensorflow==2.4.1) (1.15.0)\n",
            "Requirement already satisfied: opt-einsum~=3.3.0 in /usr/local/lib/python3.7/dist-packages (from tensorflow==2.4.1) (3.3.0)\n",
            "Collecting flatbuffers~=1.12.0\n",
            "  Downloading flatbuffers-1.12-py2.py3-none-any.whl (15 kB)\n",
            "Collecting h5py~=2.10.0\n",
            "  Downloading h5py-2.10.0-cp37-cp37m-manylinux1_x86_64.whl (2.9 MB)\n",
            "\u001b[K     |████████████████████████████████| 2.9 MB 55.0 MB/s \n",
            "\u001b[?25hCollecting absl-py~=0.10\n",
            "  Downloading absl_py-0.15.0-py3-none-any.whl (132 kB)\n",
            "\u001b[K     |████████████████████████████████| 132 kB 78.7 MB/s \n",
            "\u001b[?25hRequirement already satisfied: tensorboard~=2.4 in /usr/local/lib/python3.7/dist-packages (from tensorflow==2.4.1) (2.8.0)\n",
            "Collecting numpy~=1.19.2\n",
            "  Downloading numpy-1.19.5-cp37-cp37m-manylinux2010_x86_64.whl (14.8 MB)\n",
            "\u001b[K     |████████████████████████████████| 14.8 MB 51.9 MB/s \n",
            "\u001b[?25hRequirement already satisfied: astunparse~=1.6.3 in /usr/local/lib/python3.7/dist-packages (from tensorflow==2.4.1) (1.6.3)\n",
            "Requirement already satisfied: google-pasta~=0.2 in /usr/local/lib/python3.7/dist-packages (from tensorflow==2.4.1) (0.2.0)\n",
            "Requirement already satisfied: markdown>=2.6.8 in /usr/local/lib/python3.7/dist-packages (from tensorboard~=2.4->tensorflow==2.4.1) (3.3.7)\n",
            "Requirement already satisfied: requests<3,>=2.21.0 in /usr/local/lib/python3.7/dist-packages (from tensorboard~=2.4->tensorflow==2.4.1) (2.23.0)\n",
            "Requirement already satisfied: google-auth-oauthlib<0.5,>=0.4.1 in /usr/local/lib/python3.7/dist-packages (from tensorboard~=2.4->tensorflow==2.4.1) (0.4.6)\n",
            "Requirement already satisfied: google-auth<3,>=1.6.3 in /usr/local/lib/python3.7/dist-packages (from tensorboard~=2.4->tensorflow==2.4.1) (1.35.0)\n",
            "Requirement already satisfied: tensorboard-plugin-wit>=1.6.0 in /usr/local/lib/python3.7/dist-packages (from tensorboard~=2.4->tensorflow==2.4.1) (1.8.1)\n",
            "Requirement already satisfied: werkzeug>=0.11.15 in /usr/local/lib/python3.7/dist-packages (from tensorboard~=2.4->tensorflow==2.4.1) (1.0.1)\n",
            "Requirement already satisfied: tensorboard-data-server<0.7.0,>=0.6.0 in /usr/local/lib/python3.7/dist-packages (from tensorboard~=2.4->tensorflow==2.4.1) (0.6.1)\n",
            "Requirement already satisfied: setuptools>=41.0.0 in /usr/local/lib/python3.7/dist-packages (from tensorboard~=2.4->tensorflow==2.4.1) (57.4.0)\n",
            "Requirement already satisfied: pyasn1-modules>=0.2.1 in /usr/local/lib/python3.7/dist-packages (from google-auth<3,>=1.6.3->tensorboard~=2.4->tensorflow==2.4.1) (0.2.8)\n",
            "Requirement already satisfied: rsa<5,>=3.1.4 in /usr/local/lib/python3.7/dist-packages (from google-auth<3,>=1.6.3->tensorboard~=2.4->tensorflow==2.4.1) (4.8)\n",
            "Requirement already satisfied: cachetools<5.0,>=2.0.0 in /usr/local/lib/python3.7/dist-packages (from google-auth<3,>=1.6.3->tensorboard~=2.4->tensorflow==2.4.1) (4.2.4)\n",
            "Requirement already satisfied: requests-oauthlib>=0.7.0 in /usr/local/lib/python3.7/dist-packages (from google-auth-oauthlib<0.5,>=0.4.1->tensorboard~=2.4->tensorflow==2.4.1) (1.3.1)\n",
            "Requirement already satisfied: importlib-metadata>=4.4 in /usr/local/lib/python3.7/dist-packages (from markdown>=2.6.8->tensorboard~=2.4->tensorflow==2.4.1) (4.11.4)\n",
            "Requirement already satisfied: zipp>=0.5 in /usr/local/lib/python3.7/dist-packages (from importlib-metadata>=4.4->markdown>=2.6.8->tensorboard~=2.4->tensorflow==2.4.1) (3.8.0)\n",
            "Requirement already satisfied: pyasn1<0.5.0,>=0.4.6 in /usr/local/lib/python3.7/dist-packages (from pyasn1-modules>=0.2.1->google-auth<3,>=1.6.3->tensorboard~=2.4->tensorflow==2.4.1) (0.4.8)\n",
            "Requirement already satisfied: idna<3,>=2.5 in /usr/local/lib/python3.7/dist-packages (from requests<3,>=2.21.0->tensorboard~=2.4->tensorflow==2.4.1) (2.10)\n",
            "Requirement already satisfied: urllib3!=1.25.0,!=1.25.1,<1.26,>=1.21.1 in /usr/local/lib/python3.7/dist-packages (from requests<3,>=2.21.0->tensorboard~=2.4->tensorflow==2.4.1) (1.24.3)\n",
            "Requirement already satisfied: chardet<4,>=3.0.2 in /usr/local/lib/python3.7/dist-packages (from requests<3,>=2.21.0->tensorboard~=2.4->tensorflow==2.4.1) (3.0.4)\n",
            "Requirement already satisfied: certifi>=2017.4.17 in /usr/local/lib/python3.7/dist-packages (from requests<3,>=2.21.0->tensorboard~=2.4->tensorflow==2.4.1) (2022.6.15)\n",
            "Requirement already satisfied: oauthlib>=3.0.0 in /usr/local/lib/python3.7/dist-packages (from requests-oauthlib>=0.7.0->google-auth-oauthlib<0.5,>=0.4.1->tensorboard~=2.4->tensorflow==2.4.1) (3.2.0)\n",
            "Requirement already satisfied: attrs>=19.1.0 in /usr/local/lib/python3.7/dist-packages (from mediapipe) (21.4.0)\n",
            "Requirement already satisfied: opencv-contrib-python in /usr/local/lib/python3.7/dist-packages (from mediapipe) (4.1.2.30)\n",
            "Requirement already satisfied: scikit-learn in /usr/local/lib/python3.7/dist-packages (from sklearn) (1.0.2)\n",
            "Requirement already satisfied: cycler>=0.10 in /usr/local/lib/python3.7/dist-packages (from matplotlib) (0.11.0)\n",
            "Requirement already satisfied: pyparsing!=2.0.4,!=2.1.2,!=2.1.6,>=2.0.1 in /usr/local/lib/python3.7/dist-packages (from matplotlib) (3.0.9)\n",
            "Requirement already satisfied: kiwisolver>=1.0.1 in /usr/local/lib/python3.7/dist-packages (from matplotlib) (1.4.3)\n",
            "Requirement already satisfied: python-dateutil>=2.1 in /usr/local/lib/python3.7/dist-packages (from matplotlib) (2.8.2)\n",
            "Requirement already satisfied: scipy>=1.1.0 in /usr/local/lib/python3.7/dist-packages (from scikit-learn->sklearn) (1.4.1)\n",
            "Requirement already satisfied: joblib>=0.11 in /usr/local/lib/python3.7/dist-packages (from scikit-learn->sklearn) (1.1.0)\n",
            "Requirement already satisfied: threadpoolctl>=2.0.0 in /usr/local/lib/python3.7/dist-packages (from scikit-learn->sklearn) (3.1.0)\n",
            "Building wheels for collected packages: wrapt\n",
            "  Building wheel for wrapt (setup.py) ... \u001b[?25l\u001b[?25hdone\n",
            "  Created wheel for wrapt: filename=wrapt-1.12.1-cp37-cp37m-linux_x86_64.whl size=68710 sha256=6721a12a08d8a767f4b5bfdec701e1140a46e05babc512ff8599d31513f13322\n",
            "  Stored in directory: /root/.cache/pip/wheels/62/76/4c/aa25851149f3f6d9785f6c869387ad82b3fd37582fa8147ac6\n",
            "Successfully built wrapt\n",
            "Installing collected packages: typing-extensions, numpy, grpcio, absl-py, wrapt, tensorflow-estimator, h5py, gast, flatbuffers, tensorflow-gpu, tensorflow, mediapipe\n",
            "  Attempting uninstall: typing-extensions\n",
            "    Found existing installation: typing-extensions 4.1.1\n",
            "    Uninstalling typing-extensions-4.1.1:\n",
            "      Successfully uninstalled typing-extensions-4.1.1\n",
            "  Attempting uninstall: numpy\n",
            "    Found existing installation: numpy 1.21.6\n",
            "    Uninstalling numpy-1.21.6:\n",
            "      Successfully uninstalled numpy-1.21.6\n",
            "  Attempting uninstall: grpcio\n",
            "    Found existing installation: grpcio 1.46.3\n",
            "    Uninstalling grpcio-1.46.3:\n",
            "      Successfully uninstalled grpcio-1.46.3\n",
            "  Attempting uninstall: absl-py\n",
            "    Found existing installation: absl-py 1.1.0\n",
            "    Uninstalling absl-py-1.1.0:\n",
            "      Successfully uninstalled absl-py-1.1.0\n",
            "  Attempting uninstall: wrapt\n",
            "    Found existing installation: wrapt 1.14.1\n",
            "    Uninstalling wrapt-1.14.1:\n",
            "      Successfully uninstalled wrapt-1.14.1\n",
            "  Attempting uninstall: tensorflow-estimator\n",
            "    Found existing installation: tensorflow-estimator 2.8.0\n",
            "    Uninstalling tensorflow-estimator-2.8.0:\n",
            "      Successfully uninstalled tensorflow-estimator-2.8.0\n",
            "  Attempting uninstall: h5py\n",
            "    Found existing installation: h5py 3.1.0\n",
            "    Uninstalling h5py-3.1.0:\n",
            "      Successfully uninstalled h5py-3.1.0\n",
            "  Attempting uninstall: gast\n",
            "    Found existing installation: gast 0.5.3\n",
            "    Uninstalling gast-0.5.3:\n",
            "      Successfully uninstalled gast-0.5.3\n",
            "  Attempting uninstall: flatbuffers\n",
            "    Found existing installation: flatbuffers 2.0\n",
            "    Uninstalling flatbuffers-2.0:\n",
            "      Successfully uninstalled flatbuffers-2.0\n",
            "  Attempting uninstall: tensorflow\n",
            "    Found existing installation: tensorflow 2.8.2+zzzcolab20220527125636\n",
            "    Uninstalling tensorflow-2.8.2+zzzcolab20220527125636:\n",
            "      Successfully uninstalled tensorflow-2.8.2+zzzcolab20220527125636\n",
            "\u001b[31mERROR: pip's dependency resolver does not currently take into account all the packages that are installed. This behaviour is the source of the following dependency conflicts.\n",
            "xarray-einstats 0.2.2 requires numpy>=1.21, but you have numpy 1.19.5 which is incompatible.\n",
            "datascience 0.10.6 requires folium==0.2.1, but you have folium 0.8.3 which is incompatible.\n",
            "albumentations 0.1.12 requires imgaug<0.2.7,>=0.2.5, but you have imgaug 0.2.9 which is incompatible.\u001b[0m\n",
            "Successfully installed absl-py-0.15.0 flatbuffers-1.12 gast-0.3.3 grpcio-1.32.0 h5py-2.10.0 mediapipe-0.8.10 numpy-1.19.5 tensorflow-2.4.1 tensorflow-estimator-2.4.0 tensorflow-gpu-2.4.1 typing-extensions-3.7.4.3 wrapt-1.12.1\n"
          ]
        },
        {
          "output_type": "display_data",
          "data": {
            "application/vnd.colab-display-data+json": {
              "pip_warning": {
                "packages": [
                  "numpy",
                  "typing_extensions"
                ]
              }
            }
          },
          "metadata": {}
        }
      ],
      "source": [
        "!pip install tensorflow==2.4.1 tensorflow-gpu==2.4.1 opencv-python mediapipe sklearn matplotlib"
      ]
    },
    {
      "cell_type": "code",
      "execution_count": 1,
      "metadata": {
        "id": "KSxXlXuxfe0q"
      },
      "outputs": [],
      "source": [
        "import cv2\n",
        "import numpy as np\n",
        "import os\n",
        "import time\n",
        "import mediapipe as mp\n",
        "from matplotlib import pyplot as plt"
      ]
    },
    {
      "cell_type": "markdown",
      "metadata": {
        "id": "JKopPSv2gqPo"
      },
      "source": [
        "## Keypoints using MP Holistic\n"
      ]
    },
    {
      "cell_type": "code",
      "execution_count": 2,
      "metadata": {
        "id": "2ak5v3334wt-"
      },
      "outputs": [],
      "source": [
        "mp_holistic = mp.solutions.holistic #holistic model\n",
        "mp_drawing = mp.solutions.drawing_utils #drawing utilities"
      ]
    },
    {
      "cell_type": "code",
      "execution_count": 3,
      "metadata": {
        "id": "ObwTNrWe5NRp"
      },
      "outputs": [],
      "source": [
        "def mediapipe_detection(image, model):\n",
        "  image = cv2.cvtColor(image, cv2.COLOR_BGR2RGB)  # Color conversion BGR -> RGB\n",
        "  image.flags.writeable = False                   # disable Image writeable\n",
        "  results = model.process(image)                  # Make Holistic Predictions\n",
        "  image.flags.writeable = True                    # enable Image Writeable\n",
        "  image = cv2.cvtColor(image, cv2.COLOR_RGB2BGR)  # Color conversion RGB -> BGR\n",
        "  return image, results"
      ]
    },
    {
      "cell_type": "code",
      "execution_count": 4,
      "metadata": {
        "id": "eJ-wV53ZA7TD"
      },
      "outputs": [],
      "source": [
        "def draw_landmarks(image, results):\n",
        "  mp_drawing.draw_landmarks(image, results.face_landmarks, mp_holistic.FACEMESH_CONTOURS)       # Draw face Connections\n",
        "  mp_drawing.draw_landmarks(image, results.pose_landmarks, mp_holistic.POSE_CONNECTIONS)        # Draw pose Connections\n",
        "  mp_drawing.draw_landmarks(image, results.left_hand_landmarks, mp_holistic.HAND_CONNECTIONS)   # Draw left hand Connections\n",
        "  mp_drawing.draw_landmarks(image, results.right_hand_landmarks, mp_holistic.HAND_CONNECTIONS)  # Draw right hand Connections"
      ]
    },
    {
      "cell_type": "code",
      "execution_count": 8,
      "metadata": {
        "id": "SJJRJl716VHM"
      },
      "outputs": [],
      "source": [
        "vid_path = '/content/drive/My Drive/SASL_Vowels/A/A_1.mp4'\n",
        "cap = cv2.VideoCapture(vid_path)\n",
        "last_fr = None\n",
        "last_res = None\n",
        "\n",
        "# Set mediapipe model\n",
        "with mp_holistic.Holistic(min_detection_confidence=0.1, min_tracking_confidence=0.5) as holistic:\n",
        "  # process the video\n",
        "  while cap.isOpened():\n",
        "\n",
        "    # read frame\n",
        "    ret, frame = cap.read()\n",
        "\n",
        "    # break if there are no frames to be read\n",
        "    if not ret:\n",
        "          break\n",
        "    \n",
        "    # make detections\n",
        "    image, results = mediapipe_detection(frame, holistic)\n",
        "    if results.right_hand_landmarks:\n",
        "      #print(results.right_hand_landmarks)\n",
        "      #cv2_imshow( frame)\n",
        "      last_fr = frame\n",
        "      last_res = results\n",
        "\n",
        "    # live web cam\n",
        "      #draw_landmarks(image, results)\n",
        "      #cv2_imshow(image)\n",
        "\n",
        "    # breake if i say so\n",
        "    if cv2.waitKey(10) and 0xff == ord('q'):\n",
        "      break\n",
        "  cv2.destroyAllWindows()\n",
        "  cap.release()\n"
      ]
    },
    {
      "cell_type": "markdown",
      "source": [
        "Test to see the landmarks"
      ],
      "metadata": {
        "id": "bCHAAp7GJX0x"
      }
    },
    {
      "cell_type": "code",
      "execution_count": 9,
      "metadata": {
        "id": "okoMr91QDtBn",
        "colab": {
          "base_uri": "https://localhost:8080/",
          "height": 257
        },
        "outputId": "2a1d1032-cf45-405d-dff1-b7f61f1d5548"
      },
      "outputs": [
        {
          "output_type": "execute_result",
          "data": {
            "text/plain": [
              "<matplotlib.image.AxesImage at 0x7f314727aed0>"
            ]
          },
          "metadata": {},
          "execution_count": 9
        },
        {
          "output_type": "display_data",
          "data": {
            "text/plain": [
              "<Figure size 432x288 with 1 Axes>"
            ],
            "image/png": "[encoded data removed]"
          },
          "metadata": {
            "needs_background": "light"
          }
        }
      ],
      "source": [
        "draw_landmarks(last_fr, last_res)\n",
        "plt.imshow(cv2.cvtColor(last_fr, cv2.COLOR_BGR2RGB))"
      ]
    },
    {
      "cell_type": "markdown",
      "source": [
        "## **Extracting Keypoint Values**"
      ],
      "metadata": {
        "id": "_E2fux2BJopM"
      }
    },
    {
      "cell_type": "code",
      "source": [
        ""
      ],
      "metadata": {
        "id": "AZJQl1StM5KP"
      },
      "execution_count": null,
      "outputs": []
    },
    {
      "cell_type": "code",
      "source": [
        "def extract_keypoints(results):\n",
        "  hand_kp = 21*3    # number of hand key points 63\n",
        "  pose_kp = 33*4    # number of pose key points 132\n",
        "  face_kp = 468*3    # number of face key points 1404\n",
        "\n",
        "  face = np.array([[res.x, res.y, res.z] for res in results.face_landmarks.landmark]).flatten() if results.face_landmarks else np.zeros(face_kp)\n",
        "  pose = np.array([[res.x, res.y, res.z, res.visibility] for res in results.pose_landmarks.landmark]).flatten() if results.pose_landmarks else np.zeros(pose_kp)\n",
        "  l_hand = np.array([[res.x, res.y, res.z] for res in results.left_hand_landmarks.landmark]).flatten() if results.left_hand_landmarks else np.zeros(hand_kp)\n",
        "  r_hand = np.array([[res.x, res.y, res.z] for res in results.right_hand_landmarks.landmark]).flatten() if results.right_hand_landmarks else np.zeros(hand_kp)\n",
        "\n",
        "  #focus on pose and r_hand for now\n",
        "  # else return np.concatenate([pose, face, l_hand, r_hand])\n",
        "\n",
        "  return np.concatenate([pose, r_hand]) # 63 + 132 = 195 values\n"
      ],
      "metadata": {
        "id": "HDU8vwIHJ1oc"
      },
      "execution_count": null,
      "outputs": []
    },
    {
      "cell_type": "code",
      "source": [
        "len(extract_keypoints(results))"
      ],
      "metadata": {
        "colab": {
          "base_uri": "https://localhost:8080/"
        },
        "id": "ALEX6x9cMOXh",
        "outputId": "c15c2607-4b6a-42b2-bb68-2b8a8a7a5f85"
      },
      "execution_count": null,
      "outputs": [
        {
          "output_type": "execute_result",
          "data": {
            "text/plain": [
              "195"
            ]
          },
          "metadata": {},
          "execution_count": 108
        }
      ]
    },
    {
      "cell_type": "markdown",
      "source": [
        "## **Data Folders**"
      ],
      "metadata": {
        "id": "mHFgT4WRT9Xn"
      }
    },
    {
      "cell_type": "code",
      "source": [
        "core_dir = '/content/drive/My Drive'\n",
        "videos_src = '/content/drive/My Drive/SASL_Vowels'\n",
        "folder_name = 'Vowels_Data'\n",
        "data_path = os.path.join(core_dir,folder_name)\n",
        "\n",
        "#Vowels Folders\n",
        "vowels = np.array(['A', 'E', 'I', 'O', 'U'])\n",
        "\n",
        "# no of videos ?? at least 50 valid videos\n",
        "num_frames = 50\n",
        "\n"
      ],
      "metadata": {
        "id": "-IkNe3I-UC4M"
      },
      "execution_count": 10,
      "outputs": []
    },
    {
      "cell_type": "markdown",
      "source": [
        "Data Extraction"
      ],
      "metadata": {
        "id": "0F5dv4gNeyy5"
      }
    },
    {
      "cell_type": "code",
      "source": [
        "\n",
        "def key_value_extractor(vid_path, output_path):\n",
        "  \n",
        "  cap = cv2.VideoCapture(vid_path)\n",
        "  frame_count = 0\n",
        "  # Set mediapipe model\n",
        "  with mp_holistic.Holistic(min_detection_confidence=0.1, min_tracking_confidence=0.5) as holistic:\n",
        "    # process the video\n",
        "    while cap.isOpened():\n",
        "\n",
        "      # read frame\n",
        "      ret, frame = cap.read()\n",
        "\n",
        "      # break if there are no frames to be read\n",
        "      if not ret:\n",
        "            break\n",
        "      \n",
        "      # make detections\n",
        "      image, results = mediapipe_detection(frame, holistic)\n",
        "      keypoints = extract_keypoints(results)\n",
        "      npy_path = os.path.join(output_path, str(frame_count))\n",
        "      np.save(npy_path, keypoints)\n",
        "\n",
        "      frame_count = frame_count + 1\n",
        "      # live web cam\n",
        "        #draw_landmarks(image, results)\n",
        "        #cv2_imshow(image)\n",
        "\n",
        "      # breake if i say so\n",
        "      if cv2.waitKey(10) and 0xff == ord('q'):\n",
        "        break\n",
        "    cv2.destroyAllWindows()\n",
        "    cap.release()"
      ],
      "metadata": {
        "id": "rtnz3JtSe2hz"
      },
      "execution_count": null,
      "outputs": []
    },
    {
      "cell_type": "code",
      "source": [
        "# For each Vowel\n",
        "for vowel_folder in os.listdir(videos_src):\n",
        "  folder_path = os.path.join(videos_src,vowel_folder)\n",
        "  for vid in os.listdir(folder_path):\n",
        "    video_file = os.path.join(folder_path,vid)\n",
        "    vid_data_folder = os.path.join(data_path,vowel_folder,os.path.splitext(vid)[0])\n",
        "    try:\n",
        "      # make a folder if its not there\n",
        "      os.makedirs(vid_data_folder)\n",
        "    except:\n",
        "      pass\n",
        "    \n",
        "    # key_value_extractor(video_file, vid_data_folder)    # Done"
      ],
      "metadata": {
        "id": "rT0CwDYtWpgL"
      },
      "execution_count": null,
      "outputs": []
    },
    {
      "cell_type": "code",
      "source": [
        "vid_count = [ {vowel_folder: len(os.path.join(videos_src,vowel_folder))} for vowel_folder in os.listdir(videos_src) ]\n",
        "vid_count"
      ],
      "metadata": {
        "colab": {
          "base_uri": "https://localhost:8080/"
        },
        "id": "JyY5FqC8zP69",
        "outputId": "68a617ff-2c1a-4543-9377-05ab36e26210"
      },
      "execution_count": null,
      "outputs": [
        {
          "output_type": "execute_result",
          "data": {
            "text/plain": [
              "[{'A': 37}, {'E': 37}, {'I': 37}, {'O': 37}, {'U': 37}]"
            ]
          },
          "metadata": {},
          "execution_count": 132
        }
      ]
    },
    {
      "cell_type": "markdown",
      "source": [
        "## **Data Preparation**"
      ],
      "metadata": {
        "id": "qNhgpENxvq8X"
      }
    },
    {
      "cell_type": "code",
      "source": [
        "from sklearn.model_selection import train_test_split\n",
        "from tensorflow.keras.utils import to_categorical"
      ],
      "metadata": {
        "id": "g7X9cJsHvyFg"
      },
      "execution_count": 11,
      "outputs": []
    },
    {
      "cell_type": "code",
      "source": [
        "# 5 Vowels\n",
        "# 37 videos each\n",
        "# frames >50\n",
        "\n",
        "label_map = {lable: num for num, lable in enumerate(vowels)} # A dictinary\n",
        "label_map"
      ],
      "metadata": {
        "colab": {
          "base_uri": "https://localhost:8080/"
        },
        "id": "R0vUUJQnwgfi",
        "outputId": "1c4a7d02-bb82-424f-ddeb-df8c6684064c"
      },
      "execution_count": 12,
      "outputs": [
        {
          "output_type": "execute_result",
          "data": {
            "text/plain": [
              "{'A': 0, 'E': 1, 'I': 2, 'O': 3, 'U': 4}"
            ]
          },
          "metadata": {},
          "execution_count": 12
        }
      ]
    },
    {
      "cell_type": "markdown",
      "source": [
        "# Load the data"
      ],
      "metadata": {
        "id": "Upz1XZ4y-iqV"
      }
    },
    {
      "cell_type": "code",
      "source": [
        "\n",
        "num_videos = 37\n",
        "num_frames = 50\n",
        "sequences = []\n",
        "labels = []\n",
        "\n",
        "for folder in os.listdir(data_path):\n",
        "  print(folder)\n",
        "  vid_num = 0\n",
        "  seq_path = os.path.join(data_path,folder)\n",
        "  for seq_data in os.listdir(seq_path):\n",
        "    if vid_num == num_videos:\n",
        "      break\n",
        "    vid_num = vid_num + 1\n",
        "    \n",
        "    window = []\n",
        "    frame_num = 0\n",
        "    seq_data_path = os.path.join(seq_path,seq_data)\n",
        "    for data_file in os.listdir(seq_data_path):\n",
        "      if frame_num == num_frames:\n",
        "        break\n",
        "      res = np.load(os.path.join(seq_data_path,data_file))\n",
        "      window.append(res)\n",
        "      frame_num = frame_num + 1\n",
        "    sequences.append(window)\n",
        "    labels.append(label_map[folder])\n"
      ],
      "metadata": {
        "colab": {
          "base_uri": "https://localhost:8080/"
        },
        "id": "uR4-cbBRxEHU",
        "outputId": "6cdb830a-0e63-4e62-d8a9-0f9f3b00a584"
      },
      "execution_count": 13,
      "outputs": [
        {
          "output_type": "stream",
          "name": "stdout",
          "text": [
            "A\n",
            "E\n",
            "I\n",
            "O\n",
            "U\n"
          ]
        }
      ]
    },
    {
      "cell_type": "markdown",
      "source": [
        "Change data to np array and y data to categorical data"
      ],
      "metadata": {
        "id": "R2AlVHzU-vVa"
      }
    },
    {
      "cell_type": "code",
      "source": [
        "np.array(sequences).shape"
      ],
      "metadata": {
        "colab": {
          "base_uri": "https://localhost:8080/"
        },
        "id": "HFdKZKK66iOV",
        "outputId": "e7468e39-cac2-495e-ee02-f0a2d7028657"
      },
      "execution_count": 14,
      "outputs": [
        {
          "output_type": "execute_result",
          "data": {
            "text/plain": [
              "(185, 50, 195)"
            ]
          },
          "metadata": {},
          "execution_count": 14
        }
      ]
    },
    {
      "cell_type": "code",
      "source": [
        "np.array(labels).shape"
      ],
      "metadata": {
        "colab": {
          "base_uri": "https://localhost:8080/"
        },
        "id": "rmwI7MfB5UHp",
        "outputId": "8906fc10-4fb5-497c-fcbb-ddaf3b843b33"
      },
      "execution_count": 15,
      "outputs": [
        {
          "output_type": "execute_result",
          "data": {
            "text/plain": [
              "(185,)"
            ]
          },
          "metadata": {},
          "execution_count": 15
        }
      ]
    },
    {
      "cell_type": "code",
      "source": [
        "x = np.array(sequences)"
      ],
      "metadata": {
        "id": "Wso5hNIy4jkz"
      },
      "execution_count": 16,
      "outputs": []
    },
    {
      "cell_type": "code",
      "source": [
        "x.shape"
      ],
      "metadata": {
        "colab": {
          "base_uri": "https://localhost:8080/"
        },
        "id": "Cqy3SaVR9TGN",
        "outputId": "e085a490-69e1-4c4b-8713-f44eb1fd082c"
      },
      "execution_count": 17,
      "outputs": [
        {
          "output_type": "execute_result",
          "data": {
            "text/plain": [
              "(185, 50, 195)"
            ]
          },
          "metadata": {},
          "execution_count": 17
        }
      ]
    },
    {
      "cell_type": "code",
      "source": [
        "y = to_categorical(labels).astype(int)"
      ],
      "metadata": {
        "id": "6ch1kl7m9bc0"
      },
      "execution_count": 18,
      "outputs": []
    },
    {
      "cell_type": "code",
      "source": [
        "y.shape"
      ],
      "metadata": {
        "colab": {
          "base_uri": "https://localhost:8080/"
        },
        "id": "WsP6Lgh09njM",
        "outputId": "4dbb0c0f-24e4-40ed-c342-0d7bb39652fa"
      },
      "execution_count": 19,
      "outputs": [
        {
          "output_type": "execute_result",
          "data": {
            "text/plain": [
              "(185, 5)"
            ]
          },
          "metadata": {},
          "execution_count": 19
        }
      ]
    },
    {
      "cell_type": "markdown",
      "source": [
        "# Train-Test Split The data"
      ],
      "metadata": {
        "id": "KylvJI-P-8wf"
      }
    },
    {
      "cell_type": "code",
      "source": [
        "x_train, x_test, y_train, y_test = train_test_split(x,y,test_size=0.2)"
      ],
      "metadata": {
        "id": "lBWflIVW908o"
      },
      "execution_count": 20,
      "outputs": []
    },
    {
      "cell_type": "code",
      "source": [
        "x_train.shape"
      ],
      "metadata": {
        "colab": {
          "base_uri": "https://localhost:8080/"
        },
        "id": "RLx5GUDS-KDX",
        "outputId": "f1600f1b-ff92-4902-9fd0-67c2bc4c13fe"
      },
      "execution_count": 21,
      "outputs": [
        {
          "output_type": "execute_result",
          "data": {
            "text/plain": [
              "(148, 50, 195)"
            ]
          },
          "metadata": {},
          "execution_count": 21
        }
      ]
    },
    {
      "cell_type": "markdown",
      "source": [
        "## **Build and Train LSTM NN**"
      ],
      "metadata": {
        "id": "aBLMKyFi_Fhc"
      }
    },
    {
      "cell_type": "code",
      "source": [
        "from tensorflow.keras.models import Sequential\n",
        "from tensorflow.keras.layers import LSTM, Dense\n",
        "from tensorflow.keras.callbacks import TensorBoard"
      ],
      "metadata": {
        "id": "GGXjmfT1_Vt_"
      },
      "execution_count": 22,
      "outputs": []
    },
    {
      "cell_type": "code",
      "source": [
        "vowels.shape[0]"
      ],
      "metadata": {
        "colab": {
          "base_uri": "https://localhost:8080/"
        },
        "id": "La9Tbb0SEwCU",
        "outputId": "867ae5b0-8564-45c9-d5d8-5ab0e88aba7f"
      },
      "execution_count": 23,
      "outputs": [
        {
          "output_type": "execute_result",
          "data": {
            "text/plain": [
              "5"
            ]
          },
          "metadata": {},
          "execution_count": 23
        }
      ]
    },
    {
      "cell_type": "code",
      "source": [
        "model = Sequential()\n",
        "model.add(LSTM(64, return_sequences=True, activation='relu', input_shape=(50,195)))\n",
        "model.add(LSTM(128, return_sequences=True, activation='relu'))\n",
        "model.add(LSTM(64, return_sequences=False, activation='relu'))\n",
        "model.add(Dense(64, activation='relu'))\n",
        "model.add(Dense(32, activation='relu'))\n",
        "model.add(Dense(vowels.shape[0], activation='softmax'))"
      ],
      "metadata": {
        "colab": {
          "base_uri": "https://localhost:8080/"
        },
        "id": "ibisLqutDbLu",
        "outputId": "3357820d-f458-420c-f70b-efb1842a5b5a"
      },
      "execution_count": 24,
      "outputs": [
        {
          "output_type": "stream",
          "name": "stdout",
          "text": [
            "WARNING:tensorflow:Layer lstm will not use cuDNN kernel since it doesn't meet the cuDNN kernel criteria. It will use generic GPU kernel as fallback when running on GPU\n",
            "WARNING:tensorflow:Layer lstm_1 will not use cuDNN kernel since it doesn't meet the cuDNN kernel criteria. It will use generic GPU kernel as fallback when running on GPU\n",
            "WARNING:tensorflow:Layer lstm_2 will not use cuDNN kernel since it doesn't meet the cuDNN kernel criteria. It will use generic GPU kernel as fallback when running on GPU\n"
          ]
        }
      ]
    },
    {
      "cell_type": "code",
      "source": [
        "model.compile(optimizer='Adam', loss='categorical_crossentropy', metrics=['categorical_accuracy', 'acc'])"
      ],
      "metadata": {
        "id": "eolHJ0JHFOLM"
      },
      "execution_count": 27,
      "outputs": []
    },
    {
      "cell_type": "code",
      "source": [
        "model.summary()"
      ],
      "metadata": {
        "colab": {
          "base_uri": "https://localhost:8080/"
        },
        "id": "g2jrSm7yFrbO",
        "outputId": "f2d0cea1-c719-43f6-f4ee-48b153b89954"
      },
      "execution_count": 28,
      "outputs": [
        {
          "output_type": "stream",
          "name": "stdout",
          "text": [
            "Model: \"sequential\"\n",
            "_________________________________________________________________\n",
            "Layer (type)                 Output Shape              Param #   \n",
            "=================================================================\n",
            "lstm (LSTM)                  (None, 50, 64)            66560     \n",
            "_________________________________________________________________\n",
            "lstm_1 (LSTM)                (None, 50, 128)           98816     \n",
            "_________________________________________________________________\n",
            "lstm_2 (LSTM)                (None, 64)                49408     \n",
            "_________________________________________________________________\n",
            "dense (Dense)                (None, 64)                4160      \n",
            "_________________________________________________________________\n",
            "dense_1 (Dense)              (None, 32)                2080      \n",
            "_________________________________________________________________\n",
            "dense_2 (Dense)              (None, 5)                 165       \n",
            "=================================================================\n",
            "Total params: 221,189\n",
            "Trainable params: 221,189\n",
            "Non-trainable params: 0\n",
            "_________________________________________________________________\n"
          ]
        }
      ]
    },
    {
      "cell_type": "code",
      "source": [
        "hist = model.fit(x_train,y_train, epochs=500, validation_data = (x_test, y_test ))"
      ],
      "metadata": {
        "colab": {
          "base_uri": "https://localhost:8080/"
        },
        "id": "m2JWndj2GC33",
        "outputId": "ee6c026b-44f3-4465-d938-b455091d2fc6"
      },
      "execution_count": 29,
      "outputs": [
        {
          "output_type": "stream",
          "name": "stdout",
          "text": [
            "Epoch 1/500\n",
            "5/5 [==============================] - 11s 815ms/step - loss: 1.9731 - categorical_accuracy: 0.1911 - acc: 0.1911 - val_loss: 1.6230 - val_categorical_accuracy: 0.2162 - val_acc: 0.2162\n",
            "Epoch 2/500\n",
            "5/5 [==============================] - 2s 397ms/step - loss: 2.0046 - categorical_accuracy: 0.2153 - acc: 0.2153 - val_loss: 1.5740 - val_categorical_accuracy: 0.2703 - val_acc: 0.2703\n",
            "Epoch 3/500\n",
            "5/5 [==============================] - 2s 456ms/step - loss: 1.7749 - categorical_accuracy: 0.2192 - acc: 0.2192 - val_loss: 1.9079 - val_categorical_accuracy: 0.1351 - val_acc: 0.1351\n",
            "Epoch 4/500\n",
            "5/5 [==============================] - 2s 495ms/step - loss: 1.6733 - categorical_accuracy: 0.2305 - acc: 0.2305 - val_loss: 1.6126 - val_categorical_accuracy: 0.2162 - val_acc: 0.2162\n",
            "Epoch 5/500\n",
            "5/5 [==============================] - 3s 550ms/step - loss: 1.6403 - categorical_accuracy: 0.1797 - acc: 0.1797 - val_loss: 1.6022 - val_categorical_accuracy: 0.1892 - val_acc: 0.1892\n",
            "Epoch 6/500\n",
            "5/5 [==============================] - 2s 474ms/step - loss: 1.6021 - categorical_accuracy: 0.1959 - acc: 0.1959 - val_loss: 1.6036 - val_categorical_accuracy: 0.2432 - val_acc: 0.2432\n",
            "Epoch 7/500\n",
            "5/5 [==============================] - 2s 481ms/step - loss: 1.6140 - categorical_accuracy: 0.2392 - acc: 0.2392 - val_loss: 1.5926 - val_categorical_accuracy: 0.2973 - val_acc: 0.2973\n",
            "Epoch 8/500\n",
            "5/5 [==============================] - 3s 561ms/step - loss: 1.5991 - categorical_accuracy: 0.2479 - acc: 0.2479 - val_loss: 1.5855 - val_categorical_accuracy: 0.2162 - val_acc: 0.2162\n",
            "Epoch 9/500\n",
            "5/5 [==============================] - 1s 221ms/step - loss: 1.5813 - categorical_accuracy: 0.3183 - acc: 0.3183 - val_loss: 1.5726 - val_categorical_accuracy: 0.1892 - val_acc: 0.1892\n",
            "Epoch 10/500\n",
            "5/5 [==============================] - 1s 208ms/step - loss: 1.5655 - categorical_accuracy: 0.3582 - acc: 0.3582 - val_loss: 1.5783 - val_categorical_accuracy: 0.2432 - val_acc: 0.2432\n",
            "Epoch 11/500\n",
            "5/5 [==============================] - 1s 208ms/step - loss: 1.5418 - categorical_accuracy: 0.3553 - acc: 0.3553 - val_loss: 1.6386 - val_categorical_accuracy: 0.1622 - val_acc: 0.1622\n",
            "Epoch 12/500\n",
            "5/5 [==============================] - 1s 209ms/step - loss: 1.5016 - categorical_accuracy: 0.3848 - acc: 0.3848 - val_loss: 1.6102 - val_categorical_accuracy: 0.2162 - val_acc: 0.2162\n",
            "Epoch 13/500\n",
            "5/5 [==============================] - 1s 205ms/step - loss: 1.7305 - categorical_accuracy: 0.2792 - acc: 0.2792 - val_loss: 1.6398 - val_categorical_accuracy: 0.1081 - val_acc: 0.1081\n",
            "Epoch 14/500\n",
            "5/5 [==============================] - 1s 217ms/step - loss: 1.5600 - categorical_accuracy: 0.2750 - acc: 0.2750 - val_loss: 1.6329 - val_categorical_accuracy: 0.1081 - val_acc: 0.1081\n",
            "Epoch 15/500\n",
            "5/5 [==============================] - 1s 199ms/step - loss: 1.5683 - categorical_accuracy: 0.2712 - acc: 0.2712 - val_loss: 1.6603 - val_categorical_accuracy: 0.1081 - val_acc: 0.1081\n",
            "Epoch 16/500\n",
            "5/5 [==============================] - 1s 212ms/step - loss: 1.5314 - categorical_accuracy: 0.2855 - acc: 0.2855 - val_loss: 2.5603 - val_categorical_accuracy: 0.1351 - val_acc: 0.1351\n",
            "Epoch 17/500\n",
            "5/5 [==============================] - 1s 211ms/step - loss: 1.5841 - categorical_accuracy: 0.3279 - acc: 0.3279 - val_loss: 1.6229 - val_categorical_accuracy: 0.1351 - val_acc: 0.1351\n",
            "Epoch 18/500\n",
            "5/5 [==============================] - 1s 207ms/step - loss: 1.5821 - categorical_accuracy: 0.2633 - acc: 0.2633 - val_loss: 1.6190 - val_categorical_accuracy: 0.1622 - val_acc: 0.1622\n",
            "Epoch 19/500\n",
            "5/5 [==============================] - 1s 218ms/step - loss: 1.5902 - categorical_accuracy: 0.2745 - acc: 0.2745 - val_loss: 1.6174 - val_categorical_accuracy: 0.1622 - val_acc: 0.1622\n",
            "Epoch 20/500\n",
            "5/5 [==============================] - 1s 201ms/step - loss: 1.5912 - categorical_accuracy: 0.2355 - acc: 0.2355 - val_loss: 1.6180 - val_categorical_accuracy: 0.1892 - val_acc: 0.1892\n",
            "Epoch 21/500\n",
            "5/5 [==============================] - 1s 201ms/step - loss: 1.5683 - categorical_accuracy: 0.2506 - acc: 0.2506 - val_loss: 1.6184 - val_categorical_accuracy: 0.1892 - val_acc: 0.1892\n",
            "Epoch 22/500\n",
            "5/5 [==============================] - 1s 225ms/step - loss: 1.5711 - categorical_accuracy: 0.2487 - acc: 0.2487 - val_loss: 1.6232 - val_categorical_accuracy: 0.1892 - val_acc: 0.1892\n",
            "Epoch 23/500\n",
            "5/5 [==============================] - 1s 197ms/step - loss: 1.5754 - categorical_accuracy: 0.2517 - acc: 0.2517 - val_loss: 1.6286 - val_categorical_accuracy: 0.1892 - val_acc: 0.1892\n",
            "Epoch 24/500\n",
            "5/5 [==============================] - 1s 218ms/step - loss: 1.5615 - categorical_accuracy: 0.2737 - acc: 0.2737 - val_loss: 1.6267 - val_categorical_accuracy: 0.1081 - val_acc: 0.1081\n",
            "Epoch 25/500\n",
            "5/5 [==============================] - 1s 211ms/step - loss: 1.5767 - categorical_accuracy: 0.2358 - acc: 0.2358 - val_loss: 1.6297 - val_categorical_accuracy: 0.1081 - val_acc: 0.1081\n",
            "Epoch 26/500\n",
            "5/5 [==============================] - 1s 213ms/step - loss: 1.5628 - categorical_accuracy: 0.2392 - acc: 0.2392 - val_loss: 1.6755 - val_categorical_accuracy: 0.1622 - val_acc: 0.1622\n",
            "Epoch 27/500\n",
            "5/5 [==============================] - 1s 200ms/step - loss: 1.5381 - categorical_accuracy: 0.2745 - acc: 0.2745 - val_loss: 3.4664 - val_categorical_accuracy: 0.1351 - val_acc: 0.1351\n",
            "Epoch 28/500\n",
            "5/5 [==============================] - 1s 200ms/step - loss: 22.4308 - categorical_accuracy: 0.2977 - acc: 0.2977 - val_loss: 35.0653 - val_categorical_accuracy: 0.2432 - val_acc: 0.2432\n",
            "Epoch 29/500\n",
            "5/5 [==============================] - 1s 212ms/step - loss: 33.4124 - categorical_accuracy: 0.2218 - acc: 0.2218 - val_loss: 1.8919 - val_categorical_accuracy: 0.2162 - val_acc: 0.2162\n",
            "Epoch 30/500\n",
            "5/5 [==============================] - 1s 220ms/step - loss: 7.4370 - categorical_accuracy: 0.2003 - acc: 0.2003 - val_loss: 6.5748 - val_categorical_accuracy: 0.1622 - val_acc: 0.1622\n",
            "Epoch 31/500\n",
            "5/5 [==============================] - 1s 206ms/step - loss: 51.2254 - categorical_accuracy: 0.2069 - acc: 0.2069 - val_loss: 173.2520 - val_categorical_accuracy: 0.1622 - val_acc: 0.1622\n",
            "Epoch 32/500\n",
            "5/5 [==============================] - 1s 221ms/step - loss: 123.7718 - categorical_accuracy: 0.2192 - acc: 0.2192 - val_loss: 28.8464 - val_categorical_accuracy: 0.2432 - val_acc: 0.2432\n",
            "Epoch 33/500\n",
            "5/5 [==============================] - 1s 216ms/step - loss: 47.3346 - categorical_accuracy: 0.2834 - acc: 0.2834 - val_loss: 196.3687 - val_categorical_accuracy: 0.1892 - val_acc: 0.1892\n",
            "Epoch 34/500\n",
            "5/5 [==============================] - 1s 207ms/step - loss: 325.5629 - categorical_accuracy: 0.1949 - acc: 0.1949 - val_loss: 160.6365 - val_categorical_accuracy: 0.1081 - val_acc: 0.1081\n",
            "Epoch 35/500\n",
            "5/5 [==============================] - 1s 210ms/step - loss: 78.4417 - categorical_accuracy: 0.2009 - acc: 0.2009 - val_loss: 6.0965 - val_categorical_accuracy: 0.2432 - val_acc: 0.2432\n",
            "Epoch 36/500\n",
            "5/5 [==============================] - 1s 209ms/step - loss: 10.1372 - categorical_accuracy: 0.2025 - acc: 0.2025 - val_loss: 92.6112 - val_categorical_accuracy: 0.2162 - val_acc: 0.2162\n",
            "Epoch 37/500\n",
            "5/5 [==============================] - 1s 206ms/step - loss: 101.3446 - categorical_accuracy: 0.1632 - acc: 0.1632 - val_loss: 45.0856 - val_categorical_accuracy: 0.2703 - val_acc: 0.2703\n",
            "Epoch 38/500\n",
            "5/5 [==============================] - 1s 211ms/step - loss: 50.1632 - categorical_accuracy: 0.2351 - acc: 0.2351 - val_loss: 28.0663 - val_categorical_accuracy: 0.2432 - val_acc: 0.2432\n",
            "Epoch 39/500\n",
            "5/5 [==============================] - 1s 204ms/step - loss: 37.7378 - categorical_accuracy: 0.1951 - acc: 0.1951 - val_loss: 42.9886 - val_categorical_accuracy: 0.1892 - val_acc: 0.1892\n",
            "Epoch 40/500\n",
            "5/5 [==============================] - 1s 217ms/step - loss: 38.2953 - categorical_accuracy: 0.1784 - acc: 0.1784 - val_loss: 44.0399 - val_categorical_accuracy: 0.1622 - val_acc: 0.1622\n",
            "Epoch 41/500\n",
            "5/5 [==============================] - 1s 240ms/step - loss: 51.2379 - categorical_accuracy: 0.2490 - acc: 0.2490 - val_loss: 30.0191 - val_categorical_accuracy: 0.1892 - val_acc: 0.1892\n",
            "Epoch 42/500\n",
            "5/5 [==============================] - 1s 207ms/step - loss: 39.5007 - categorical_accuracy: 0.2332 - acc: 0.2332 - val_loss: 32.3848 - val_categorical_accuracy: 0.1351 - val_acc: 0.1351\n",
            "Epoch 43/500\n",
            "5/5 [==============================] - 1s 218ms/step - loss: 35.8758 - categorical_accuracy: 0.1627 - acc: 0.1627 - val_loss: 23.5195 - val_categorical_accuracy: 0.1351 - val_acc: 0.1351\n",
            "Epoch 44/500\n",
            "5/5 [==============================] - 1s 217ms/step - loss: 30.1647 - categorical_accuracy: 0.1796 - acc: 0.1796 - val_loss: 31.5293 - val_categorical_accuracy: 0.1892 - val_acc: 0.1892\n",
            "Epoch 45/500\n",
            "5/5 [==============================] - 1s 208ms/step - loss: 47.1708 - categorical_accuracy: 0.1588 - acc: 0.1588 - val_loss: 27.0894 - val_categorical_accuracy: 0.1351 - val_acc: 0.1351\n",
            "Epoch 46/500\n",
            "5/5 [==============================] - 1s 220ms/step - loss: 19.6390 - categorical_accuracy: 0.1897 - acc: 0.1897 - val_loss: 9.9008 - val_categorical_accuracy: 0.1892 - val_acc: 0.1892\n",
            "Epoch 47/500\n",
            "5/5 [==============================] - 1s 214ms/step - loss: 13.9744 - categorical_accuracy: 0.2402 - acc: 0.2402 - val_loss: 8.8226 - val_categorical_accuracy: 0.1351 - val_acc: 0.1351\n",
            "Epoch 48/500\n",
            "5/5 [==============================] - 1s 222ms/step - loss: 11.0724 - categorical_accuracy: 0.1844 - acc: 0.1844 - val_loss: 3.8803 - val_categorical_accuracy: 0.2432 - val_acc: 0.2432\n",
            "Epoch 49/500\n",
            "5/5 [==============================] - 1s 210ms/step - loss: 5.3563 - categorical_accuracy: 0.1783 - acc: 0.1783 - val_loss: 4.3766 - val_categorical_accuracy: 0.1622 - val_acc: 0.1622\n",
            "Epoch 50/500\n",
            "5/5 [==============================] - 1s 207ms/step - loss: 4.8113 - categorical_accuracy: 0.1576 - acc: 0.1576 - val_loss: 3.0390 - val_categorical_accuracy: 0.2162 - val_acc: 0.2162\n",
            "Epoch 51/500\n",
            "5/5 [==============================] - 1s 206ms/step - loss: 3.9443 - categorical_accuracy: 0.2151 - acc: 0.2151 - val_loss: 3.0893 - val_categorical_accuracy: 0.1351 - val_acc: 0.1351\n",
            "Epoch 52/500\n",
            "5/5 [==============================] - 1s 227ms/step - loss: 2.9468 - categorical_accuracy: 0.2798 - acc: 0.2798 - val_loss: 2.3166 - val_categorical_accuracy: 0.1622 - val_acc: 0.1622\n",
            "Epoch 53/500\n",
            "5/5 [==============================] - 1s 213ms/step - loss: 2.7256 - categorical_accuracy: 0.2129 - acc: 0.2129 - val_loss: 2.1061 - val_categorical_accuracy: 0.2162 - val_acc: 0.2162\n",
            "Epoch 54/500\n",
            "5/5 [==============================] - 1s 216ms/step - loss: 2.2314 - categorical_accuracy: 0.2401 - acc: 0.2401 - val_loss: 1.8017 - val_categorical_accuracy: 0.2162 - val_acc: 0.2162\n",
            "Epoch 55/500\n",
            "5/5 [==============================] - 1s 203ms/step - loss: 1.9455 - categorical_accuracy: 0.1995 - acc: 0.1995 - val_loss: 1.8480 - val_categorical_accuracy: 0.1351 - val_acc: 0.1351\n",
            "Epoch 56/500\n",
            "5/5 [==============================] - 1s 224ms/step - loss: 1.8590 - categorical_accuracy: 0.2132 - acc: 0.2132 - val_loss: 1.9287 - val_categorical_accuracy: 0.1892 - val_acc: 0.1892\n",
            "Epoch 57/500\n",
            "5/5 [==============================] - 1s 200ms/step - loss: 2.4180 - categorical_accuracy: 0.2240 - acc: 0.2240 - val_loss: 2.5562 - val_categorical_accuracy: 0.1892 - val_acc: 0.1892\n",
            "Epoch 58/500\n",
            "5/5 [==============================] - 1s 220ms/step - loss: 2.9718 - categorical_accuracy: 0.1777 - acc: 0.1777 - val_loss: 1.9014 - val_categorical_accuracy: 0.2432 - val_acc: 0.2432\n",
            "Epoch 59/500\n",
            "5/5 [==============================] - 1s 208ms/step - loss: 1.7679 - categorical_accuracy: 0.2544 - acc: 0.2544 - val_loss: 1.7225 - val_categorical_accuracy: 0.1892 - val_acc: 0.1892\n",
            "Epoch 60/500\n",
            "5/5 [==============================] - 1s 214ms/step - loss: 1.6612 - categorical_accuracy: 0.2706 - acc: 0.2706 - val_loss: 1.6326 - val_categorical_accuracy: 0.2162 - val_acc: 0.2162\n",
            "Epoch 61/500\n",
            "5/5 [==============================] - 1s 217ms/step - loss: 1.6190 - categorical_accuracy: 0.2503 - acc: 0.2503 - val_loss: 1.6970 - val_categorical_accuracy: 0.2973 - val_acc: 0.2973\n",
            "Epoch 62/500\n",
            "5/5 [==============================] - 1s 213ms/step - loss: 1.6379 - categorical_accuracy: 0.2623 - acc: 0.2623 - val_loss: 1.6041 - val_categorical_accuracy: 0.2432 - val_acc: 0.2432\n",
            "Epoch 63/500\n",
            "5/5 [==============================] - 1s 210ms/step - loss: 1.5903 - categorical_accuracy: 0.2485 - acc: 0.2485 - val_loss: 1.5560 - val_categorical_accuracy: 0.2973 - val_acc: 0.2973\n",
            "Epoch 64/500\n",
            "5/5 [==============================] - 1s 207ms/step - loss: 1.6202 - categorical_accuracy: 0.2284 - acc: 0.2284 - val_loss: 1.6557 - val_categorical_accuracy: 0.1622 - val_acc: 0.1622\n",
            "Epoch 65/500\n",
            "5/5 [==============================] - 1s 210ms/step - loss: 1.5684 - categorical_accuracy: 0.3461 - acc: 0.3461 - val_loss: 1.7228 - val_categorical_accuracy: 0.1351 - val_acc: 0.1351\n",
            "Epoch 66/500\n",
            "5/5 [==============================] - 1s 199ms/step - loss: 1.5946 - categorical_accuracy: 0.2772 - acc: 0.2772 - val_loss: 1.7098 - val_categorical_accuracy: 0.1622 - val_acc: 0.1622\n",
            "Epoch 67/500\n",
            "5/5 [==============================] - 1s 214ms/step - loss: 1.6033 - categorical_accuracy: 0.2554 - acc: 0.2554 - val_loss: 1.6477 - val_categorical_accuracy: 0.0811 - val_acc: 0.0811\n",
            "Epoch 68/500\n",
            "5/5 [==============================] - 1s 218ms/step - loss: 1.5723 - categorical_accuracy: 0.2976 - acc: 0.2976 - val_loss: 1.6501 - val_categorical_accuracy: 0.0811 - val_acc: 0.0811\n",
            "Epoch 69/500\n",
            "5/5 [==============================] - 1s 214ms/step - loss: 1.5742 - categorical_accuracy: 0.2605 - acc: 0.2605 - val_loss: 1.6420 - val_categorical_accuracy: 0.1622 - val_acc: 0.1622\n",
            "Epoch 70/500\n",
            "5/5 [==============================] - 1s 205ms/step - loss: 1.5747 - categorical_accuracy: 0.2379 - acc: 0.2379 - val_loss: 1.6375 - val_categorical_accuracy: 0.1081 - val_acc: 0.1081\n",
            "Epoch 71/500\n",
            "5/5 [==============================] - 1s 207ms/step - loss: 1.5498 - categorical_accuracy: 0.2713 - acc: 0.2713 - val_loss: 1.6473 - val_categorical_accuracy: 0.0811 - val_acc: 0.0811\n",
            "Epoch 72/500\n",
            "5/5 [==============================] - 1s 197ms/step - loss: 1.5498 - categorical_accuracy: 0.2830 - acc: 0.2830 - val_loss: 1.6451 - val_categorical_accuracy: 0.1351 - val_acc: 0.1351\n",
            "Epoch 73/500\n",
            "5/5 [==============================] - 1s 211ms/step - loss: 1.5848 - categorical_accuracy: 0.2154 - acc: 0.2154 - val_loss: 1.6473 - val_categorical_accuracy: 0.1351 - val_acc: 0.1351\n",
            "Epoch 74/500\n",
            "5/5 [==============================] - 1s 205ms/step - loss: 1.5627 - categorical_accuracy: 0.2867 - acc: 0.2867 - val_loss: 1.6551 - val_categorical_accuracy: 0.1081 - val_acc: 0.1081\n",
            "Epoch 75/500\n",
            "5/5 [==============================] - 1s 205ms/step - loss: 1.5596 - categorical_accuracy: 0.3031 - acc: 0.3031 - val_loss: 1.6505 - val_categorical_accuracy: 0.1351 - val_acc: 0.1351\n",
            "Epoch 76/500\n",
            "5/5 [==============================] - 1s 229ms/step - loss: 1.5484 - categorical_accuracy: 0.2998 - acc: 0.2998 - val_loss: 1.6309 - val_categorical_accuracy: 0.1351 - val_acc: 0.1351\n",
            "Epoch 77/500\n",
            "5/5 [==============================] - 1s 217ms/step - loss: 1.5578 - categorical_accuracy: 0.2839 - acc: 0.2839 - val_loss: 1.6546 - val_categorical_accuracy: 0.1081 - val_acc: 0.1081\n",
            "Epoch 78/500\n",
            "5/5 [==============================] - 1s 216ms/step - loss: 1.5333 - categorical_accuracy: 0.3053 - acc: 0.3053 - val_loss: 1.6298 - val_categorical_accuracy: 0.1351 - val_acc: 0.1351\n",
            "Epoch 79/500\n",
            "5/5 [==============================] - 1s 213ms/step - loss: 1.5672 - categorical_accuracy: 0.2583 - acc: 0.2583 - val_loss: 1.6220 - val_categorical_accuracy: 0.1622 - val_acc: 0.1622\n",
            "Epoch 80/500\n",
            "5/5 [==============================] - 1s 209ms/step - loss: 1.5449 - categorical_accuracy: 0.2791 - acc: 0.2791 - val_loss: 1.6502 - val_categorical_accuracy: 0.1622 - val_acc: 0.1622\n",
            "Epoch 81/500\n",
            "5/5 [==============================] - 1s 202ms/step - loss: 1.5265 - categorical_accuracy: 0.2856 - acc: 0.2856 - val_loss: 1.6293 - val_categorical_accuracy: 0.1622 - val_acc: 0.1622\n",
            "Epoch 82/500\n",
            "5/5 [==============================] - 1s 214ms/step - loss: 1.5432 - categorical_accuracy: 0.2644 - acc: 0.2644 - val_loss: 1.6305 - val_categorical_accuracy: 0.1622 - val_acc: 0.1622\n",
            "Epoch 83/500\n",
            "5/5 [==============================] - 1s 214ms/step - loss: 1.5308 - categorical_accuracy: 0.3493 - acc: 0.3493 - val_loss: 1.6593 - val_categorical_accuracy: 0.1892 - val_acc: 0.1892\n",
            "Epoch 84/500\n",
            "5/5 [==============================] - 1s 203ms/step - loss: 1.5473 - categorical_accuracy: 0.2957 - acc: 0.2957 - val_loss: 1.6482 - val_categorical_accuracy: 0.1351 - val_acc: 0.1351\n",
            "Epoch 85/500\n",
            "5/5 [==============================] - 1s 200ms/step - loss: 1.5406 - categorical_accuracy: 0.3092 - acc: 0.3092 - val_loss: 1.6505 - val_categorical_accuracy: 0.1622 - val_acc: 0.1622\n",
            "Epoch 86/500\n",
            "5/5 [==============================] - 1s 204ms/step - loss: 1.5216 - categorical_accuracy: 0.3231 - acc: 0.3231 - val_loss: 1.6631 - val_categorical_accuracy: 0.1892 - val_acc: 0.1892\n",
            "Epoch 87/500\n",
            "5/5 [==============================] - 1s 208ms/step - loss: 1.5169 - categorical_accuracy: 0.3149 - acc: 0.3149 - val_loss: 1.6412 - val_categorical_accuracy: 0.1622 - val_acc: 0.1622\n",
            "Epoch 88/500\n",
            "5/5 [==============================] - 1s 269ms/step - loss: 1.5444 - categorical_accuracy: 0.2659 - acc: 0.2659 - val_loss: 1.6675 - val_categorical_accuracy: 0.1622 - val_acc: 0.1622\n",
            "Epoch 89/500\n",
            "5/5 [==============================] - 1s 230ms/step - loss: 1.5091 - categorical_accuracy: 0.3391 - acc: 0.3391 - val_loss: 1.6886 - val_categorical_accuracy: 0.1622 - val_acc: 0.1622\n",
            "Epoch 90/500\n",
            "5/5 [==============================] - 1s 216ms/step - loss: 1.5304 - categorical_accuracy: 0.2959 - acc: 0.2959 - val_loss: 1.6394 - val_categorical_accuracy: 0.1351 - val_acc: 0.1351\n",
            "Epoch 91/500\n",
            "5/5 [==============================] - 1s 204ms/step - loss: 1.5508 - categorical_accuracy: 0.2817 - acc: 0.2817 - val_loss: 1.6525 - val_categorical_accuracy: 0.1622 - val_acc: 0.1622\n",
            "Epoch 92/500\n",
            "5/5 [==============================] - 1s 207ms/step - loss: 1.5344 - categorical_accuracy: 0.2742 - acc: 0.2742 - val_loss: 1.6730 - val_categorical_accuracy: 0.1351 - val_acc: 0.1351\n",
            "Epoch 93/500\n",
            "5/5 [==============================] - 1s 227ms/step - loss: 1.5107 - categorical_accuracy: 0.3581 - acc: 0.3581 - val_loss: 1.6082 - val_categorical_accuracy: 0.1892 - val_acc: 0.1892\n",
            "Epoch 94/500\n",
            "5/5 [==============================] - 1s 209ms/step - loss: 1.5208 - categorical_accuracy: 0.2969 - acc: 0.2969 - val_loss: 1.6365 - val_categorical_accuracy: 0.1892 - val_acc: 0.1892\n",
            "Epoch 95/500\n",
            "5/5 [==============================] - 1s 211ms/step - loss: 1.5234 - categorical_accuracy: 0.3376 - acc: 0.3376 - val_loss: 1.6292 - val_categorical_accuracy: 0.2162 - val_acc: 0.2162\n",
            "Epoch 96/500\n",
            "5/5 [==============================] - 1s 204ms/step - loss: 1.4993 - categorical_accuracy: 0.3425 - acc: 0.3425 - val_loss: 1.6548 - val_categorical_accuracy: 0.1622 - val_acc: 0.1622\n",
            "Epoch 97/500\n",
            "5/5 [==============================] - 1s 208ms/step - loss: 1.5345 - categorical_accuracy: 0.2835 - acc: 0.2835 - val_loss: 1.6321 - val_categorical_accuracy: 0.1351 - val_acc: 0.1351\n",
            "Epoch 98/500\n",
            "5/5 [==============================] - 1s 217ms/step - loss: 1.5021 - categorical_accuracy: 0.3274 - acc: 0.3274 - val_loss: 1.6635 - val_categorical_accuracy: 0.1351 - val_acc: 0.1351\n",
            "Epoch 99/500\n",
            "5/5 [==============================] - 1s 212ms/step - loss: 1.5044 - categorical_accuracy: 0.3367 - acc: 0.3367 - val_loss: 1.6833 - val_categorical_accuracy: 0.1351 - val_acc: 0.1351\n",
            "Epoch 100/500\n",
            "5/5 [==============================] - 1s 215ms/step - loss: 1.4802 - categorical_accuracy: 0.3756 - acc: 0.3756 - val_loss: 1.6371 - val_categorical_accuracy: 0.1351 - val_acc: 0.1351\n",
            "Epoch 101/500\n",
            "5/5 [==============================] - 1s 234ms/step - loss: 1.4885 - categorical_accuracy: 0.3283 - acc: 0.3283 - val_loss: 1.6826 - val_categorical_accuracy: 0.1622 - val_acc: 0.1622\n",
            "Epoch 102/500\n",
            "5/5 [==============================] - 1s 213ms/step - loss: 1.4889 - categorical_accuracy: 0.3522 - acc: 0.3522 - val_loss: 1.6488 - val_categorical_accuracy: 0.1622 - val_acc: 0.1622\n",
            "Epoch 103/500\n",
            "5/5 [==============================] - 1s 209ms/step - loss: 1.4740 - categorical_accuracy: 0.3624 - acc: 0.3624 - val_loss: 1.6435 - val_categorical_accuracy: 0.2162 - val_acc: 0.2162\n",
            "Epoch 104/500\n",
            "5/5 [==============================] - 1s 213ms/step - loss: 1.5467 - categorical_accuracy: 0.3608 - acc: 0.3608 - val_loss: 1.6860 - val_categorical_accuracy: 0.1892 - val_acc: 0.1892\n",
            "Epoch 105/500\n",
            "5/5 [==============================] - 1s 220ms/step - loss: 1.5213 - categorical_accuracy: 0.3297 - acc: 0.3297 - val_loss: 1.6317 - val_categorical_accuracy: 0.1622 - val_acc: 0.1622\n",
            "Epoch 106/500\n",
            "5/5 [==============================] - 1s 215ms/step - loss: 1.5022 - categorical_accuracy: 0.3090 - acc: 0.3090 - val_loss: 1.5888 - val_categorical_accuracy: 0.2432 - val_acc: 0.2432\n",
            "Epoch 107/500\n",
            "5/5 [==============================] - 1s 206ms/step - loss: 1.4809 - categorical_accuracy: 0.3739 - acc: 0.3739 - val_loss: 1.6469 - val_categorical_accuracy: 0.1622 - val_acc: 0.1622\n",
            "Epoch 108/500\n",
            "5/5 [==============================] - 2s 379ms/step - loss: 1.4895 - categorical_accuracy: 0.3551 - acc: 0.3551 - val_loss: 1.6380 - val_categorical_accuracy: 0.1081 - val_acc: 0.1081\n",
            "Epoch 109/500\n",
            "5/5 [==============================] - 1s 216ms/step - loss: 1.4912 - categorical_accuracy: 0.3421 - acc: 0.3421 - val_loss: 1.6356 - val_categorical_accuracy: 0.1351 - val_acc: 0.1351\n",
            "Epoch 110/500\n",
            "5/5 [==============================] - 1s 213ms/step - loss: 1.4936 - categorical_accuracy: 0.3534 - acc: 0.3534 - val_loss: 1.6570 - val_categorical_accuracy: 0.1351 - val_acc: 0.1351\n",
            "Epoch 111/500\n",
            "5/5 [==============================] - 1s 209ms/step - loss: 1.4869 - categorical_accuracy: 0.3903 - acc: 0.3903 - val_loss: 1.6454 - val_categorical_accuracy: 0.1351 - val_acc: 0.1351\n",
            "Epoch 112/500\n",
            "5/5 [==============================] - 1s 215ms/step - loss: 1.4911 - categorical_accuracy: 0.3204 - acc: 0.3204 - val_loss: 1.6510 - val_categorical_accuracy: 0.1351 - val_acc: 0.1351\n",
            "Epoch 113/500\n",
            "5/5 [==============================] - 1s 208ms/step - loss: 1.4666 - categorical_accuracy: 0.3571 - acc: 0.3571 - val_loss: 1.6377 - val_categorical_accuracy: 0.1622 - val_acc: 0.1622\n",
            "Epoch 114/500\n",
            "5/5 [==============================] - 1s 204ms/step - loss: 1.4612 - categorical_accuracy: 0.3717 - acc: 0.3717 - val_loss: 1.6652 - val_categorical_accuracy: 0.1622 - val_acc: 0.1622\n",
            "Epoch 115/500\n",
            "5/5 [==============================] - 1s 209ms/step - loss: 1.4535 - categorical_accuracy: 0.3231 - acc: 0.3231 - val_loss: 1.7375 - val_categorical_accuracy: 0.0811 - val_acc: 0.0811\n",
            "Epoch 116/500\n",
            "5/5 [==============================] - 1s 224ms/step - loss: 1.4570 - categorical_accuracy: 0.3858 - acc: 0.3858 - val_loss: 1.6610 - val_categorical_accuracy: 0.0811 - val_acc: 0.0811\n",
            "Epoch 117/500\n",
            "5/5 [==============================] - 1s 210ms/step - loss: 1.4898 - categorical_accuracy: 0.2961 - acc: 0.2961 - val_loss: 1.6071 - val_categorical_accuracy: 0.1081 - val_acc: 0.1081\n",
            "Epoch 118/500\n",
            "5/5 [==============================] - 1s 221ms/step - loss: 1.4895 - categorical_accuracy: 0.3261 - acc: 0.3261 - val_loss: 1.9414 - val_categorical_accuracy: 0.1081 - val_acc: 0.1081\n",
            "Epoch 119/500\n",
            "5/5 [==============================] - 1s 206ms/step - loss: 1.5512 - categorical_accuracy: 0.3510 - acc: 0.3510 - val_loss: 1.5973 - val_categorical_accuracy: 0.1892 - val_acc: 0.1892\n",
            "Epoch 120/500\n",
            "5/5 [==============================] - 1s 206ms/step - loss: 1.5115 - categorical_accuracy: 0.3368 - acc: 0.3368 - val_loss: 1.6402 - val_categorical_accuracy: 0.1622 - val_acc: 0.1622\n",
            "Epoch 121/500\n",
            "5/5 [==============================] - 1s 220ms/step - loss: 1.5541 - categorical_accuracy: 0.3358 - acc: 0.3358 - val_loss: 1.6296 - val_categorical_accuracy: 0.1081 - val_acc: 0.1081\n",
            "Epoch 122/500\n",
            "5/5 [==============================] - 1s 218ms/step - loss: 1.5560 - categorical_accuracy: 0.3178 - acc: 0.3178 - val_loss: 1.6127 - val_categorical_accuracy: 0.1892 - val_acc: 0.1892\n",
            "Epoch 123/500\n",
            "5/5 [==============================] - 1s 208ms/step - loss: 1.5575 - categorical_accuracy: 0.3102 - acc: 0.3102 - val_loss: 1.6751 - val_categorical_accuracy: 0.1622 - val_acc: 0.1622\n",
            "Epoch 124/500\n",
            "5/5 [==============================] - 1s 217ms/step - loss: 1.5456 - categorical_accuracy: 0.3438 - acc: 0.3438 - val_loss: 1.6512 - val_categorical_accuracy: 0.1081 - val_acc: 0.1081\n",
            "Epoch 125/500\n",
            "5/5 [==============================] - 1s 217ms/step - loss: 1.5493 - categorical_accuracy: 0.3011 - acc: 0.3011 - val_loss: 1.6387 - val_categorical_accuracy: 0.1892 - val_acc: 0.1892\n",
            "Epoch 126/500\n",
            "5/5 [==============================] - 1s 202ms/step - loss: 1.5345 - categorical_accuracy: 0.3372 - acc: 0.3372 - val_loss: 1.6936 - val_categorical_accuracy: 0.1622 - val_acc: 0.1622\n",
            "Epoch 127/500\n",
            "5/5 [==============================] - 1s 203ms/step - loss: 1.5984 - categorical_accuracy: 0.3430 - acc: 0.3430 - val_loss: 1.7123 - val_categorical_accuracy: 0.1351 - val_acc: 0.1351\n",
            "Epoch 128/500\n",
            "5/5 [==============================] - 1s 211ms/step - loss: 1.5868 - categorical_accuracy: 0.2890 - acc: 0.2890 - val_loss: 1.5991 - val_categorical_accuracy: 0.1622 - val_acc: 0.1622\n",
            "Epoch 129/500\n",
            "5/5 [==============================] - 1s 205ms/step - loss: 1.5713 - categorical_accuracy: 0.2766 - acc: 0.2766 - val_loss: 1.5916 - val_categorical_accuracy: 0.2432 - val_acc: 0.2432\n",
            "Epoch 130/500\n",
            "5/5 [==============================] - 1s 218ms/step - loss: 1.5888 - categorical_accuracy: 0.2848 - acc: 0.2848 - val_loss: 1.6395 - val_categorical_accuracy: 0.2162 - val_acc: 0.2162\n",
            "Epoch 131/500\n",
            "5/5 [==============================] - 1s 214ms/step - loss: 1.5613 - categorical_accuracy: 0.2867 - acc: 0.2867 - val_loss: 1.6514 - val_categorical_accuracy: 0.1351 - val_acc: 0.1351\n",
            "Epoch 132/500\n",
            "5/5 [==============================] - 1s 203ms/step - loss: 1.5298 - categorical_accuracy: 0.3887 - acc: 0.3887 - val_loss: 1.6031 - val_categorical_accuracy: 0.2703 - val_acc: 0.2703\n",
            "Epoch 133/500\n",
            "5/5 [==============================] - 1s 198ms/step - loss: 1.5622 - categorical_accuracy: 0.3590 - acc: 0.3590 - val_loss: 1.6461 - val_categorical_accuracy: 0.1622 - val_acc: 0.1622\n",
            "Epoch 134/500\n",
            "5/5 [==============================] - 1s 211ms/step - loss: 1.5400 - categorical_accuracy: 0.3366 - acc: 0.3366 - val_loss: 1.6779 - val_categorical_accuracy: 0.1351 - val_acc: 0.1351\n",
            "Epoch 135/500\n",
            "5/5 [==============================] - 1s 214ms/step - loss: 1.5490 - categorical_accuracy: 0.3346 - acc: 0.3346 - val_loss: 1.6480 - val_categorical_accuracy: 0.1081 - val_acc: 0.1081\n",
            "Epoch 136/500\n",
            "5/5 [==============================] - 1s 206ms/step - loss: 1.5325 - categorical_accuracy: 0.3077 - acc: 0.3077 - val_loss: 1.6133 - val_categorical_accuracy: 0.1622 - val_acc: 0.1622\n",
            "Epoch 137/500\n",
            "5/5 [==============================] - 1s 212ms/step - loss: 1.5371 - categorical_accuracy: 0.2764 - acc: 0.2764 - val_loss: 1.6616 - val_categorical_accuracy: 0.1081 - val_acc: 0.1081\n",
            "Epoch 138/500\n",
            "5/5 [==============================] - 1s 217ms/step - loss: 1.5392 - categorical_accuracy: 0.3285 - acc: 0.3285 - val_loss: 1.6742 - val_categorical_accuracy: 0.1081 - val_acc: 0.1081\n",
            "Epoch 139/500\n",
            "5/5 [==============================] - 1s 216ms/step - loss: 1.5132 - categorical_accuracy: 0.3344 - acc: 0.3344 - val_loss: 1.6273 - val_categorical_accuracy: 0.1351 - val_acc: 0.1351\n",
            "Epoch 140/500\n",
            "5/5 [==============================] - 1s 211ms/step - loss: 1.5278 - categorical_accuracy: 0.3216 - acc: 0.3216 - val_loss: 1.6202 - val_categorical_accuracy: 0.1351 - val_acc: 0.1351\n",
            "Epoch 141/500\n",
            "5/5 [==============================] - 1s 223ms/step - loss: 1.5152 - categorical_accuracy: 0.3290 - acc: 0.3290 - val_loss: 1.6351 - val_categorical_accuracy: 0.0811 - val_acc: 0.0811\n",
            "Epoch 142/500\n",
            "5/5 [==============================] - 3s 685ms/step - loss: 1.5290 - categorical_accuracy: 0.2989 - acc: 0.2989 - val_loss: 1.6959 - val_categorical_accuracy: 0.1622 - val_acc: 0.1622\n",
            "Epoch 143/500\n",
            "5/5 [==============================] - 1s 240ms/step - loss: 1.5083 - categorical_accuracy: 0.3665 - acc: 0.3665 - val_loss: 1.6765 - val_categorical_accuracy: 0.1351 - val_acc: 0.1351\n",
            "Epoch 144/500\n",
            "5/5 [==============================] - 1s 211ms/step - loss: 1.4785 - categorical_accuracy: 0.3503 - acc: 0.3503 - val_loss: 1.6236 - val_categorical_accuracy: 0.1892 - val_acc: 0.1892\n",
            "Epoch 145/500\n",
            "5/5 [==============================] - 1s 211ms/step - loss: 1.5028 - categorical_accuracy: 0.3015 - acc: 0.3015 - val_loss: 1.6286 - val_categorical_accuracy: 0.1622 - val_acc: 0.1622\n",
            "Epoch 146/500\n",
            "5/5 [==============================] - 1s 200ms/step - loss: 1.4919 - categorical_accuracy: 0.3213 - acc: 0.3213 - val_loss: 1.6641 - val_categorical_accuracy: 0.1081 - val_acc: 0.1081\n",
            "Epoch 147/500\n",
            "5/5 [==============================] - 1s 226ms/step - loss: 1.5082 - categorical_accuracy: 0.3005 - acc: 0.3005 - val_loss: 1.7019 - val_categorical_accuracy: 0.0811 - val_acc: 0.0811\n",
            "Epoch 148/500\n",
            "5/5 [==============================] - 1s 216ms/step - loss: 1.5174 - categorical_accuracy: 0.3604 - acc: 0.3604 - val_loss: 1.6870 - val_categorical_accuracy: 0.0811 - val_acc: 0.0811\n",
            "Epoch 149/500\n",
            "5/5 [==============================] - 1s 216ms/step - loss: 1.4836 - categorical_accuracy: 0.4270 - acc: 0.4270 - val_loss: 1.6225 - val_categorical_accuracy: 0.1622 - val_acc: 0.1622\n",
            "Epoch 150/500\n",
            "5/5 [==============================] - 1s 211ms/step - loss: 1.5180 - categorical_accuracy: 0.3078 - acc: 0.3078 - val_loss: 1.6651 - val_categorical_accuracy: 0.1351 - val_acc: 0.1351\n",
            "Epoch 151/500\n",
            "5/5 [==============================] - 1s 215ms/step - loss: 1.4685 - categorical_accuracy: 0.3861 - acc: 0.3861 - val_loss: 1.7644 - val_categorical_accuracy: 0.1351 - val_acc: 0.1351\n",
            "Epoch 152/500\n",
            "5/5 [==============================] - 1s 213ms/step - loss: 1.5846 - categorical_accuracy: 0.3189 - acc: 0.3189 - val_loss: 1.7308 - val_categorical_accuracy: 0.1351 - val_acc: 0.1351\n",
            "Epoch 153/500\n",
            "5/5 [==============================] - 1s 205ms/step - loss: 1.6143 - categorical_accuracy: 0.2563 - acc: 0.2563 - val_loss: 1.6717 - val_categorical_accuracy: 0.2162 - val_acc: 0.2162\n",
            "Epoch 154/500\n",
            "5/5 [==============================] - 1s 228ms/step - loss: 1.5248 - categorical_accuracy: 0.3167 - acc: 0.3167 - val_loss: 1.6175 - val_categorical_accuracy: 0.2162 - val_acc: 0.2162\n",
            "Epoch 155/500\n",
            "5/5 [==============================] - 1s 202ms/step - loss: 1.4927 - categorical_accuracy: 0.3788 - acc: 0.3788 - val_loss: 1.5982 - val_categorical_accuracy: 0.2432 - val_acc: 0.2432\n",
            "Epoch 156/500\n",
            "5/5 [==============================] - 1s 221ms/step - loss: 1.4691 - categorical_accuracy: 0.3462 - acc: 0.3462 - val_loss: 1.6663 - val_categorical_accuracy: 0.1622 - val_acc: 0.1622\n",
            "Epoch 157/500\n",
            "5/5 [==============================] - 1s 210ms/step - loss: 1.4899 - categorical_accuracy: 0.4082 - acc: 0.4082 - val_loss: 1.6933 - val_categorical_accuracy: 0.1081 - val_acc: 0.1081\n",
            "Epoch 158/500\n",
            "5/5 [==============================] - 1s 208ms/step - loss: 1.5205 - categorical_accuracy: 0.4008 - acc: 0.4008 - val_loss: 1.6700 - val_categorical_accuracy: 0.1351 - val_acc: 0.1351\n",
            "Epoch 159/500\n",
            "5/5 [==============================] - 1s 208ms/step - loss: 1.4831 - categorical_accuracy: 0.3717 - acc: 0.3717 - val_loss: 1.6712 - val_categorical_accuracy: 0.1622 - val_acc: 0.1622\n",
            "Epoch 160/500\n",
            "5/5 [==============================] - 1s 216ms/step - loss: 1.4638 - categorical_accuracy: 0.4042 - acc: 0.4042 - val_loss: 1.6949 - val_categorical_accuracy: 0.1081 - val_acc: 0.1081\n",
            "Epoch 161/500\n",
            "5/5 [==============================] - 1s 223ms/step - loss: 1.4811 - categorical_accuracy: 0.3399 - acc: 0.3399 - val_loss: 1.6818 - val_categorical_accuracy: 0.1081 - val_acc: 0.1081\n",
            "Epoch 162/500\n",
            "5/5 [==============================] - 1s 198ms/step - loss: 1.4704 - categorical_accuracy: 0.3406 - acc: 0.3406 - val_loss: 1.7029 - val_categorical_accuracy: 0.1081 - val_acc: 0.1081\n",
            "Epoch 163/500\n",
            "5/5 [==============================] - 1s 208ms/step - loss: 1.4525 - categorical_accuracy: 0.3743 - acc: 0.3743 - val_loss: 1.7098 - val_categorical_accuracy: 0.1622 - val_acc: 0.1622\n",
            "Epoch 164/500\n",
            "5/5 [==============================] - 1s 205ms/step - loss: 1.4810 - categorical_accuracy: 0.3805 - acc: 0.3805 - val_loss: 1.6853 - val_categorical_accuracy: 0.1622 - val_acc: 0.1622\n",
            "Epoch 165/500\n",
            "5/5 [==============================] - 1s 206ms/step - loss: 1.4498 - categorical_accuracy: 0.3767 - acc: 0.3767 - val_loss: 1.6731 - val_categorical_accuracy: 0.1622 - val_acc: 0.1622\n",
            "Epoch 166/500\n",
            "5/5 [==============================] - 1s 213ms/step - loss: 1.4535 - categorical_accuracy: 0.3619 - acc: 0.3619 - val_loss: 1.7154 - val_categorical_accuracy: 0.1351 - val_acc: 0.1351\n",
            "Epoch 167/500\n",
            "5/5 [==============================] - 1s 216ms/step - loss: 1.4484 - categorical_accuracy: 0.3723 - acc: 0.3723 - val_loss: 1.6725 - val_categorical_accuracy: 0.1622 - val_acc: 0.1622\n",
            "Epoch 168/500\n",
            "5/5 [==============================] - 1s 202ms/step - loss: 1.4288 - categorical_accuracy: 0.3456 - acc: 0.3456 - val_loss: 1.7234 - val_categorical_accuracy: 0.1351 - val_acc: 0.1351\n",
            "Epoch 169/500\n",
            "5/5 [==============================] - 1s 201ms/step - loss: 1.4525 - categorical_accuracy: 0.3890 - acc: 0.3890 - val_loss: 1.7086 - val_categorical_accuracy: 0.1351 - val_acc: 0.1351\n",
            "Epoch 170/500\n",
            "5/5 [==============================] - 1s 205ms/step - loss: 1.4717 - categorical_accuracy: 0.3982 - acc: 0.3982 - val_loss: 1.6525 - val_categorical_accuracy: 0.1351 - val_acc: 0.1351\n",
            "Epoch 171/500\n",
            "5/5 [==============================] - 1s 206ms/step - loss: 1.4120 - categorical_accuracy: 0.4119 - acc: 0.4119 - val_loss: 1.6398 - val_categorical_accuracy: 0.1351 - val_acc: 0.1351\n",
            "Epoch 172/500\n",
            "5/5 [==============================] - 1s 204ms/step - loss: 1.4065 - categorical_accuracy: 0.4128 - acc: 0.4128 - val_loss: 1.6780 - val_categorical_accuracy: 0.1622 - val_acc: 0.1622\n",
            "Epoch 173/500\n",
            "5/5 [==============================] - 1s 211ms/step - loss: 1.4055 - categorical_accuracy: 0.4076 - acc: 0.4076 - val_loss: 1.6487 - val_categorical_accuracy: 0.1622 - val_acc: 0.1622\n",
            "Epoch 174/500\n",
            "5/5 [==============================] - 1s 207ms/step - loss: 1.3927 - categorical_accuracy: 0.4074 - acc: 0.4074 - val_loss: 1.6869 - val_categorical_accuracy: 0.1622 - val_acc: 0.1622\n",
            "Epoch 175/500\n",
            "5/5 [==============================] - 1s 205ms/step - loss: 1.3686 - categorical_accuracy: 0.4299 - acc: 0.4299 - val_loss: 1.6906 - val_categorical_accuracy: 0.1351 - val_acc: 0.1351\n",
            "Epoch 176/500\n",
            "5/5 [==============================] - 1s 210ms/step - loss: 1.4064 - categorical_accuracy: 0.4279 - acc: 0.4279 - val_loss: 1.6964 - val_categorical_accuracy: 0.1892 - val_acc: 0.1892\n",
            "Epoch 177/500\n",
            "5/5 [==============================] - 1s 214ms/step - loss: 1.4071 - categorical_accuracy: 0.3672 - acc: 0.3672 - val_loss: 1.7051 - val_categorical_accuracy: 0.1622 - val_acc: 0.1622\n",
            "Epoch 178/500\n",
            "5/5 [==============================] - 1s 211ms/step - loss: 1.3547 - categorical_accuracy: 0.4757 - acc: 0.4757 - val_loss: 1.7041 - val_categorical_accuracy: 0.1622 - val_acc: 0.1622\n",
            "Epoch 179/500\n",
            "5/5 [==============================] - 1s 220ms/step - loss: 1.3881 - categorical_accuracy: 0.3974 - acc: 0.3974 - val_loss: 1.6962 - val_categorical_accuracy: 0.1622 - val_acc: 0.1622\n",
            "Epoch 180/500\n",
            "5/5 [==============================] - 1s 223ms/step - loss: 1.3982 - categorical_accuracy: 0.4192 - acc: 0.4192 - val_loss: 1.6844 - val_categorical_accuracy: 0.1622 - val_acc: 0.1622\n",
            "Epoch 181/500\n",
            "5/5 [==============================] - 1s 219ms/step - loss: 1.3840 - categorical_accuracy: 0.4387 - acc: 0.4387 - val_loss: 1.6777 - val_categorical_accuracy: 0.1351 - val_acc: 0.1351\n",
            "Epoch 182/500\n",
            "5/5 [==============================] - 1s 218ms/step - loss: 1.3221 - categorical_accuracy: 0.4508 - acc: 0.4508 - val_loss: 1.7150 - val_categorical_accuracy: 0.1351 - val_acc: 0.1351\n",
            "Epoch 183/500\n",
            "5/5 [==============================] - 1s 208ms/step - loss: 1.3247 - categorical_accuracy: 0.4720 - acc: 0.4720 - val_loss: 1.7712 - val_categorical_accuracy: 0.1622 - val_acc: 0.1622\n",
            "Epoch 184/500\n",
            "5/5 [==============================] - 1s 220ms/step - loss: 1.3315 - categorical_accuracy: 0.4635 - acc: 0.4635 - val_loss: 1.7153 - val_categorical_accuracy: 0.1622 - val_acc: 0.1622\n",
            "Epoch 185/500\n",
            "5/5 [==============================] - 1s 209ms/step - loss: 1.2672 - categorical_accuracy: 0.4765 - acc: 0.4765 - val_loss: 1.7144 - val_categorical_accuracy: 0.1622 - val_acc: 0.1622\n",
            "Epoch 186/500\n",
            "5/5 [==============================] - 1s 225ms/step - loss: 1.3358 - categorical_accuracy: 0.4926 - acc: 0.4926 - val_loss: 1.7039 - val_categorical_accuracy: 0.1622 - val_acc: 0.1622\n",
            "Epoch 187/500\n",
            "5/5 [==============================] - 1s 200ms/step - loss: 1.3117 - categorical_accuracy: 0.4493 - acc: 0.4493 - val_loss: 1.7401 - val_categorical_accuracy: 0.2162 - val_acc: 0.2162\n",
            "Epoch 188/500\n",
            "5/5 [==============================] - 1s 207ms/step - loss: 1.3090 - categorical_accuracy: 0.4521 - acc: 0.4521 - val_loss: 1.7330 - val_categorical_accuracy: 0.1892 - val_acc: 0.1892\n",
            "Epoch 189/500\n",
            "5/5 [==============================] - 1s 207ms/step - loss: 1.4029 - categorical_accuracy: 0.3669 - acc: 0.3669 - val_loss: 1.7723 - val_categorical_accuracy: 0.1351 - val_acc: 0.1351\n",
            "Epoch 190/500\n",
            "5/5 [==============================] - 1s 208ms/step - loss: 1.3634 - categorical_accuracy: 0.4184 - acc: 0.4184 - val_loss: 1.7985 - val_categorical_accuracy: 0.1351 - val_acc: 0.1351\n",
            "Epoch 191/500\n",
            "5/5 [==============================] - 1s 223ms/step - loss: 1.3049 - categorical_accuracy: 0.4252 - acc: 0.4252 - val_loss: 1.7957 - val_categorical_accuracy: 0.1622 - val_acc: 0.1622\n",
            "Epoch 192/500\n",
            "5/5 [==============================] - 1s 224ms/step - loss: 1.3588 - categorical_accuracy: 0.4268 - acc: 0.4268 - val_loss: 1.8232 - val_categorical_accuracy: 0.1622 - val_acc: 0.1622\n",
            "Epoch 193/500\n",
            "5/5 [==============================] - 1s 211ms/step - loss: 1.3371 - categorical_accuracy: 0.4325 - acc: 0.4325 - val_loss: 1.8699 - val_categorical_accuracy: 0.1351 - val_acc: 0.1351\n",
            "Epoch 194/500\n",
            "5/5 [==============================] - 1s 206ms/step - loss: 1.3329 - categorical_accuracy: 0.4679 - acc: 0.4679 - val_loss: 1.7554 - val_categorical_accuracy: 0.1892 - val_acc: 0.1892\n",
            "Epoch 195/500\n",
            "5/5 [==============================] - 1s 222ms/step - loss: 1.3714 - categorical_accuracy: 0.4586 - acc: 0.4586 - val_loss: 1.8632 - val_categorical_accuracy: 0.1892 - val_acc: 0.1892\n",
            "Epoch 196/500\n",
            "5/5 [==============================] - 1s 211ms/step - loss: 1.3476 - categorical_accuracy: 0.3756 - acc: 0.3756 - val_loss: 1.7872 - val_categorical_accuracy: 0.1622 - val_acc: 0.1622\n",
            "Epoch 197/500\n",
            "5/5 [==============================] - 1s 212ms/step - loss: 1.3988 - categorical_accuracy: 0.4270 - acc: 0.4270 - val_loss: 1.8021 - val_categorical_accuracy: 0.1081 - val_acc: 0.1081\n",
            "Epoch 198/500\n",
            "5/5 [==============================] - 1s 210ms/step - loss: 1.3521 - categorical_accuracy: 0.4018 - acc: 0.4018 - val_loss: 1.8346 - val_categorical_accuracy: 0.1622 - val_acc: 0.1622\n",
            "Epoch 199/500\n",
            "5/5 [==============================] - 1s 226ms/step - loss: 1.4045 - categorical_accuracy: 0.3833 - acc: 0.3833 - val_loss: 1.7650 - val_categorical_accuracy: 0.1351 - val_acc: 0.1351\n",
            "Epoch 200/500\n",
            "5/5 [==============================] - 1s 200ms/step - loss: 1.3766 - categorical_accuracy: 0.4289 - acc: 0.4289 - val_loss: 1.8469 - val_categorical_accuracy: 0.1351 - val_acc: 0.1351\n",
            "Epoch 201/500\n",
            "5/5 [==============================] - 1s 222ms/step - loss: 1.2833 - categorical_accuracy: 0.4927 - acc: 0.4927 - val_loss: 1.8834 - val_categorical_accuracy: 0.1351 - val_acc: 0.1351\n",
            "Epoch 202/500\n",
            "5/5 [==============================] - 1s 216ms/step - loss: 1.3571 - categorical_accuracy: 0.4423 - acc: 0.4423 - val_loss: 1.9170 - val_categorical_accuracy: 0.1081 - val_acc: 0.1081\n",
            "Epoch 203/500\n",
            "5/5 [==============================] - 1s 219ms/step - loss: 1.4024 - categorical_accuracy: 0.3778 - acc: 0.3778 - val_loss: 1.8695 - val_categorical_accuracy: 0.1081 - val_acc: 0.1081\n",
            "Epoch 204/500\n",
            "5/5 [==============================] - 1s 208ms/step - loss: 1.4733 - categorical_accuracy: 0.3777 - acc: 0.3777 - val_loss: 74.8560 - val_categorical_accuracy: 0.1622 - val_acc: 0.1622\n",
            "Epoch 205/500\n",
            "5/5 [==============================] - 1s 209ms/step - loss: 142.7021 - categorical_accuracy: 0.3369 - acc: 0.3369 - val_loss: 2.4933 - val_categorical_accuracy: 0.1892 - val_acc: 0.1892\n",
            "Epoch 206/500\n",
            "5/5 [==============================] - 1s 212ms/step - loss: 3.0653 - categorical_accuracy: 0.2039 - acc: 0.2039 - val_loss: 5.1227 - val_categorical_accuracy: 0.2162 - val_acc: 0.2162\n",
            "Epoch 207/500\n",
            "5/5 [==============================] - 2s 336ms/step - loss: 10.9841 - categorical_accuracy: 0.1638 - acc: 0.1638 - val_loss: 18.3524 - val_categorical_accuracy: 0.2162 - val_acc: 0.2162\n",
            "Epoch 208/500\n",
            "5/5 [==============================] - 1s 196ms/step - loss: 21.1557 - categorical_accuracy: 0.1574 - acc: 0.1574 - val_loss: 8.4030 - val_categorical_accuracy: 0.1351 - val_acc: 0.1351\n",
            "Epoch 209/500\n",
            "5/5 [==============================] - 1s 229ms/step - loss: 14.1885 - categorical_accuracy: 0.1717 - acc: 0.1717 - val_loss: 9.4880 - val_categorical_accuracy: 0.1622 - val_acc: 0.1622\n",
            "Epoch 210/500\n",
            "5/5 [==============================] - 1s 217ms/step - loss: 10.2718 - categorical_accuracy: 0.2036 - acc: 0.2036 - val_loss: 4.6087 - val_categorical_accuracy: 0.2432 - val_acc: 0.2432\n",
            "Epoch 211/500\n",
            "5/5 [==============================] - 1s 206ms/step - loss: 6.4191 - categorical_accuracy: 0.1903 - acc: 0.1903 - val_loss: 3.2410 - val_categorical_accuracy: 0.1622 - val_acc: 0.1622\n",
            "Epoch 212/500\n",
            "5/5 [==============================] - 1s 212ms/step - loss: 3.8165 - categorical_accuracy: 0.2014 - acc: 0.2014 - val_loss: 2.5026 - val_categorical_accuracy: 0.2162 - val_acc: 0.2162\n",
            "Epoch 213/500\n",
            "5/5 [==============================] - 1s 214ms/step - loss: 3.1791 - categorical_accuracy: 0.2292 - acc: 0.2292 - val_loss: 2.9648 - val_categorical_accuracy: 0.2162 - val_acc: 0.2162\n",
            "Epoch 214/500\n",
            "5/5 [==============================] - 1s 213ms/step - loss: 2.9750 - categorical_accuracy: 0.2110 - acc: 0.2110 - val_loss: 2.2051 - val_categorical_accuracy: 0.1892 - val_acc: 0.1892\n",
            "Epoch 215/500\n",
            "5/5 [==============================] - 1s 203ms/step - loss: 2.2318 - categorical_accuracy: 0.2254 - acc: 0.2254 - val_loss: 2.0653 - val_categorical_accuracy: 0.1351 - val_acc: 0.1351\n",
            "Epoch 216/500\n",
            "5/5 [==============================] - 1s 207ms/step - loss: 1.9576 - categorical_accuracy: 0.2451 - acc: 0.2451 - val_loss: 1.9716 - val_categorical_accuracy: 0.1351 - val_acc: 0.1351\n",
            "Epoch 217/500\n",
            "5/5 [==============================] - 1s 214ms/step - loss: 1.8089 - categorical_accuracy: 0.2252 - acc: 0.2252 - val_loss: 2.0679 - val_categorical_accuracy: 0.2162 - val_acc: 0.2162\n",
            "Epoch 218/500\n",
            "5/5 [==============================] - 1s 202ms/step - loss: 1.8147 - categorical_accuracy: 0.2952 - acc: 0.2952 - val_loss: 1.9318 - val_categorical_accuracy: 0.1892 - val_acc: 0.1892\n",
            "Epoch 219/500\n",
            "5/5 [==============================] - 1s 215ms/step - loss: 1.7975 - categorical_accuracy: 0.2769 - acc: 0.2769 - val_loss: 1.9257 - val_categorical_accuracy: 0.1622 - val_acc: 0.1622\n",
            "Epoch 220/500\n",
            "5/5 [==============================] - 1s 217ms/step - loss: 1.6928 - categorical_accuracy: 0.2682 - acc: 0.2682 - val_loss: 1.8768 - val_categorical_accuracy: 0.1622 - val_acc: 0.1622\n",
            "Epoch 221/500\n",
            "5/5 [==============================] - 1s 212ms/step - loss: 1.7040 - categorical_accuracy: 0.2366 - acc: 0.2366 - val_loss: 1.8964 - val_categorical_accuracy: 0.1622 - val_acc: 0.1622\n",
            "Epoch 222/500\n",
            "5/5 [==============================] - 1s 207ms/step - loss: 1.6929 - categorical_accuracy: 0.2588 - acc: 0.2588 - val_loss: 1.9000 - val_categorical_accuracy: 0.1622 - val_acc: 0.1622\n",
            "Epoch 223/500\n",
            "5/5 [==============================] - 1s 212ms/step - loss: 1.7119 - categorical_accuracy: 0.2312 - acc: 0.2312 - val_loss: 1.8654 - val_categorical_accuracy: 0.1622 - val_acc: 0.1622\n",
            "Epoch 224/500\n",
            "5/5 [==============================] - 1s 219ms/step - loss: 1.6894 - categorical_accuracy: 0.2281 - acc: 0.2281 - val_loss: 1.9300 - val_categorical_accuracy: 0.1622 - val_acc: 0.1622\n",
            "Epoch 225/500\n",
            "5/5 [==============================] - 1s 224ms/step - loss: 1.6863 - categorical_accuracy: 0.2568 - acc: 0.2568 - val_loss: 1.8621 - val_categorical_accuracy: 0.1892 - val_acc: 0.1892\n",
            "Epoch 226/500\n",
            "5/5 [==============================] - 1s 208ms/step - loss: 1.7591 - categorical_accuracy: 0.2817 - acc: 0.2817 - val_loss: 1.9453 - val_categorical_accuracy: 0.1892 - val_acc: 0.1892\n",
            "Epoch 227/500\n",
            "5/5 [==============================] - 1s 224ms/step - loss: 1.5938 - categorical_accuracy: 0.2641 - acc: 0.2641 - val_loss: 1.8504 - val_categorical_accuracy: 0.1622 - val_acc: 0.1622\n",
            "Epoch 228/500\n",
            "5/5 [==============================] - 1s 223ms/step - loss: 1.5964 - categorical_accuracy: 0.2806 - acc: 0.2806 - val_loss: 1.9103 - val_categorical_accuracy: 0.1622 - val_acc: 0.1622\n",
            "Epoch 229/500\n",
            "5/5 [==============================] - 1s 199ms/step - loss: 1.5581 - categorical_accuracy: 0.3235 - acc: 0.3235 - val_loss: 1.8907 - val_categorical_accuracy: 0.1351 - val_acc: 0.1351\n",
            "Epoch 230/500\n",
            "5/5 [==============================] - 1s 200ms/step - loss: 1.5875 - categorical_accuracy: 0.2929 - acc: 0.2929 - val_loss: 1.8676 - val_categorical_accuracy: 0.1892 - val_acc: 0.1892\n",
            "Epoch 231/500\n",
            "5/5 [==============================] - 1s 211ms/step - loss: 1.5485 - categorical_accuracy: 0.3514 - acc: 0.3514 - val_loss: 1.8470 - val_categorical_accuracy: 0.1622 - val_acc: 0.1622\n",
            "Epoch 232/500\n",
            "5/5 [==============================] - 1s 219ms/step - loss: 1.5729 - categorical_accuracy: 0.3276 - acc: 0.3276 - val_loss: 1.8488 - val_categorical_accuracy: 0.1892 - val_acc: 0.1892\n",
            "Epoch 233/500\n",
            "5/5 [==============================] - 1s 229ms/step - loss: 1.5590 - categorical_accuracy: 0.3230 - acc: 0.3230 - val_loss: 1.8328 - val_categorical_accuracy: 0.2162 - val_acc: 0.2162\n",
            "Epoch 234/500\n",
            "5/5 [==============================] - 1s 209ms/step - loss: 1.5751 - categorical_accuracy: 0.3385 - acc: 0.3385 - val_loss: 1.8381 - val_categorical_accuracy: 0.1892 - val_acc: 0.1892\n",
            "Epoch 235/500\n",
            "5/5 [==============================] - 1s 203ms/step - loss: 1.5172 - categorical_accuracy: 0.3342 - acc: 0.3342 - val_loss: 1.8800 - val_categorical_accuracy: 0.1892 - val_acc: 0.1892\n",
            "Epoch 236/500\n",
            "5/5 [==============================] - 1s 220ms/step - loss: 1.4827 - categorical_accuracy: 0.3234 - acc: 0.3234 - val_loss: 1.7940 - val_categorical_accuracy: 0.1892 - val_acc: 0.1892\n",
            "Epoch 237/500\n",
            "5/5 [==============================] - 1s 211ms/step - loss: 1.5156 - categorical_accuracy: 0.3406 - acc: 0.3406 - val_loss: 1.8880 - val_categorical_accuracy: 0.2432 - val_acc: 0.2432\n",
            "Epoch 238/500\n",
            "5/5 [==============================] - 1s 228ms/step - loss: 1.5421 - categorical_accuracy: 0.3030 - acc: 0.3030 - val_loss: 1.8306 - val_categorical_accuracy: 0.1892 - val_acc: 0.1892\n",
            "Epoch 239/500\n",
            "5/5 [==============================] - 1s 200ms/step - loss: 1.4422 - categorical_accuracy: 0.3406 - acc: 0.3406 - val_loss: 1.8539 - val_categorical_accuracy: 0.1892 - val_acc: 0.1892\n",
            "Epoch 240/500\n",
            "5/5 [==============================] - 1s 227ms/step - loss: 1.4673 - categorical_accuracy: 0.3696 - acc: 0.3696 - val_loss: 1.8170 - val_categorical_accuracy: 0.2162 - val_acc: 0.2162\n",
            "Epoch 241/500\n",
            "5/5 [==============================] - 1s 231ms/step - loss: 1.4712 - categorical_accuracy: 0.3234 - acc: 0.3234 - val_loss: 1.8841 - val_categorical_accuracy: 0.2162 - val_acc: 0.2162\n",
            "Epoch 242/500\n",
            "5/5 [==============================] - 1s 230ms/step - loss: 1.5226 - categorical_accuracy: 0.3359 - acc: 0.3359 - val_loss: 1.8585 - val_categorical_accuracy: 0.1892 - val_acc: 0.1892\n",
            "Epoch 243/500\n",
            "5/5 [==============================] - 1s 221ms/step - loss: 1.5172 - categorical_accuracy: 0.3740 - acc: 0.3740 - val_loss: 1.8354 - val_categorical_accuracy: 0.1892 - val_acc: 0.1892\n",
            "Epoch 244/500\n",
            "5/5 [==============================] - 1s 211ms/step - loss: 1.4880 - categorical_accuracy: 0.3305 - acc: 0.3305 - val_loss: 1.8626 - val_categorical_accuracy: 0.1892 - val_acc: 0.1892\n",
            "Epoch 245/500\n",
            "5/5 [==============================] - 1s 223ms/step - loss: 1.4626 - categorical_accuracy: 0.3983 - acc: 0.3983 - val_loss: 1.8459 - val_categorical_accuracy: 0.1892 - val_acc: 0.1892\n",
            "Epoch 246/500\n",
            "5/5 [==============================] - 1s 227ms/step - loss: 1.5120 - categorical_accuracy: 0.3605 - acc: 0.3605 - val_loss: 1.8783 - val_categorical_accuracy: 0.1892 - val_acc: 0.1892\n",
            "Epoch 247/500\n",
            "5/5 [==============================] - 1s 223ms/step - loss: 1.4336 - categorical_accuracy: 0.4044 - acc: 0.4044 - val_loss: 1.8189 - val_categorical_accuracy: 0.2162 - val_acc: 0.2162\n",
            "Epoch 248/500\n",
            "5/5 [==============================] - 1s 214ms/step - loss: 1.4525 - categorical_accuracy: 0.3257 - acc: 0.3257 - val_loss: 1.8418 - val_categorical_accuracy: 0.1892 - val_acc: 0.1892\n",
            "Epoch 249/500\n",
            "5/5 [==============================] - 1s 213ms/step - loss: 1.4801 - categorical_accuracy: 0.3157 - acc: 0.3157 - val_loss: 1.7691 - val_categorical_accuracy: 0.2162 - val_acc: 0.2162\n",
            "Epoch 250/500\n",
            "5/5 [==============================] - 1s 201ms/step - loss: 1.4408 - categorical_accuracy: 0.3486 - acc: 0.3486 - val_loss: 1.9050 - val_categorical_accuracy: 0.1892 - val_acc: 0.1892\n",
            "Epoch 251/500\n",
            "5/5 [==============================] - 1s 216ms/step - loss: 1.4841 - categorical_accuracy: 0.3527 - acc: 0.3527 - val_loss: 1.8263 - val_categorical_accuracy: 0.2162 - val_acc: 0.2162\n",
            "Epoch 252/500\n",
            "5/5 [==============================] - 1s 218ms/step - loss: 1.5273 - categorical_accuracy: 0.3207 - acc: 0.3207 - val_loss: 2.2136 - val_categorical_accuracy: 0.2162 - val_acc: 0.2162\n",
            "Epoch 253/500\n",
            "5/5 [==============================] - 1s 208ms/step - loss: 1.6855 - categorical_accuracy: 0.3208 - acc: 0.3208 - val_loss: 1.7983 - val_categorical_accuracy: 0.2432 - val_acc: 0.2432\n",
            "Epoch 254/500\n",
            "5/5 [==============================] - 1s 221ms/step - loss: 1.4947 - categorical_accuracy: 0.3203 - acc: 0.3203 - val_loss: 1.9061 - val_categorical_accuracy: 0.2432 - val_acc: 0.2432\n",
            "Epoch 255/500\n",
            "5/5 [==============================] - 1s 210ms/step - loss: 1.4596 - categorical_accuracy: 0.3500 - acc: 0.3500 - val_loss: 1.8295 - val_categorical_accuracy: 0.2162 - val_acc: 0.2162\n",
            "Epoch 256/500\n",
            "5/5 [==============================] - 1s 221ms/step - loss: 1.4871 - categorical_accuracy: 0.3445 - acc: 0.3445 - val_loss: 1.9561 - val_categorical_accuracy: 0.2162 - val_acc: 0.2162\n",
            "Epoch 257/500\n",
            "5/5 [==============================] - 1s 206ms/step - loss: 1.4196 - categorical_accuracy: 0.3690 - acc: 0.3690 - val_loss: 1.9669 - val_categorical_accuracy: 0.1892 - val_acc: 0.1892\n",
            "Epoch 258/500\n",
            "5/5 [==============================] - 1s 219ms/step - loss: 1.4739 - categorical_accuracy: 0.3426 - acc: 0.3426 - val_loss: 1.8704 - val_categorical_accuracy: 0.1892 - val_acc: 0.1892\n",
            "Epoch 259/500\n",
            "5/5 [==============================] - 1s 211ms/step - loss: 1.4797 - categorical_accuracy: 0.3208 - acc: 0.3208 - val_loss: 1.9474 - val_categorical_accuracy: 0.1892 - val_acc: 0.1892\n",
            "Epoch 260/500\n",
            "5/5 [==============================] - 1s 226ms/step - loss: 1.4540 - categorical_accuracy: 0.3486 - acc: 0.3486 - val_loss: 1.8785 - val_categorical_accuracy: 0.2162 - val_acc: 0.2162\n",
            "Epoch 261/500\n",
            "5/5 [==============================] - 1s 221ms/step - loss: 1.4738 - categorical_accuracy: 0.3037 - acc: 0.3037 - val_loss: 1.9034 - val_categorical_accuracy: 0.1892 - val_acc: 0.1892\n",
            "Epoch 262/500\n",
            "5/5 [==============================] - 1s 206ms/step - loss: 1.4160 - categorical_accuracy: 0.3603 - acc: 0.3603 - val_loss: 1.8708 - val_categorical_accuracy: 0.1892 - val_acc: 0.1892\n",
            "Epoch 263/500\n",
            "5/5 [==============================] - 1s 224ms/step - loss: 1.3499 - categorical_accuracy: 0.4319 - acc: 0.4319 - val_loss: 1.9176 - val_categorical_accuracy: 0.2162 - val_acc: 0.2162\n",
            "Epoch 264/500\n",
            "5/5 [==============================] - 1s 221ms/step - loss: 1.3804 - categorical_accuracy: 0.3484 - acc: 0.3484 - val_loss: 1.9033 - val_categorical_accuracy: 0.1892 - val_acc: 0.1892\n",
            "Epoch 265/500\n",
            "5/5 [==============================] - 1s 211ms/step - loss: 1.4119 - categorical_accuracy: 0.3412 - acc: 0.3412 - val_loss: 1.9483 - val_categorical_accuracy: 0.1622 - val_acc: 0.1622\n",
            "Epoch 266/500\n",
            "5/5 [==============================] - 1s 224ms/step - loss: 1.4253 - categorical_accuracy: 0.3563 - acc: 0.3563 - val_loss: 1.8660 - val_categorical_accuracy: 0.1622 - val_acc: 0.1622\n",
            "Epoch 267/500\n",
            "5/5 [==============================] - 1s 211ms/step - loss: 1.4859 - categorical_accuracy: 0.3006 - acc: 0.3006 - val_loss: 1.8643 - val_categorical_accuracy: 0.1892 - val_acc: 0.1892\n",
            "Epoch 268/500\n",
            "5/5 [==============================] - 1s 231ms/step - loss: 1.4190 - categorical_accuracy: 0.3456 - acc: 0.3456 - val_loss: 1.8866 - val_categorical_accuracy: 0.1892 - val_acc: 0.1892\n",
            "Epoch 269/500\n",
            "5/5 [==============================] - 1s 211ms/step - loss: 1.3834 - categorical_accuracy: 0.3700 - acc: 0.3700 - val_loss: 1.9211 - val_categorical_accuracy: 0.2162 - val_acc: 0.2162\n",
            "Epoch 270/500\n",
            "5/5 [==============================] - 1s 205ms/step - loss: 1.3821 - categorical_accuracy: 0.3910 - acc: 0.3910 - val_loss: 1.9396 - val_categorical_accuracy: 0.2162 - val_acc: 0.2162\n",
            "Epoch 271/500\n",
            "5/5 [==============================] - 1s 216ms/step - loss: 1.3942 - categorical_accuracy: 0.3661 - acc: 0.3661 - val_loss: 1.8275 - val_categorical_accuracy: 0.2162 - val_acc: 0.2162\n",
            "Epoch 272/500\n",
            "5/5 [==============================] - 1s 215ms/step - loss: 1.3516 - categorical_accuracy: 0.3780 - acc: 0.3780 - val_loss: 1.9601 - val_categorical_accuracy: 0.2162 - val_acc: 0.2162\n",
            "Epoch 273/500\n",
            "5/5 [==============================] - 1s 211ms/step - loss: 1.3734 - categorical_accuracy: 0.3630 - acc: 0.3630 - val_loss: 1.9275 - val_categorical_accuracy: 0.2162 - val_acc: 0.2162\n",
            "Epoch 274/500\n",
            "5/5 [==============================] - 1s 214ms/step - loss: 1.3710 - categorical_accuracy: 0.4022 - acc: 0.4022 - val_loss: 1.9657 - val_categorical_accuracy: 0.1622 - val_acc: 0.1622\n",
            "Epoch 275/500\n",
            "5/5 [==============================] - 1s 216ms/step - loss: 1.3741 - categorical_accuracy: 0.3567 - acc: 0.3567 - val_loss: 1.9347 - val_categorical_accuracy: 0.2162 - val_acc: 0.2162\n",
            "Epoch 276/500\n",
            "5/5 [==============================] - 1s 226ms/step - loss: 1.3963 - categorical_accuracy: 0.3691 - acc: 0.3691 - val_loss: 1.9129 - val_categorical_accuracy: 0.2432 - val_acc: 0.2432\n",
            "Epoch 277/500\n",
            "5/5 [==============================] - 1s 216ms/step - loss: 1.3462 - categorical_accuracy: 0.4259 - acc: 0.4259 - val_loss: 1.9570 - val_categorical_accuracy: 0.2432 - val_acc: 0.2432\n",
            "Epoch 278/500\n",
            "5/5 [==============================] - 1s 202ms/step - loss: 1.3608 - categorical_accuracy: 0.4150 - acc: 0.4150 - val_loss: 1.9243 - val_categorical_accuracy: 0.2162 - val_acc: 0.2162\n",
            "Epoch 279/500\n",
            "5/5 [==============================] - 1s 221ms/step - loss: 1.3770 - categorical_accuracy: 0.3494 - acc: 0.3494 - val_loss: 2.0221 - val_categorical_accuracy: 0.2432 - val_acc: 0.2432\n",
            "Epoch 280/500\n",
            "5/5 [==============================] - 1s 217ms/step - loss: 1.3417 - categorical_accuracy: 0.3724 - acc: 0.3724 - val_loss: 1.9653 - val_categorical_accuracy: 0.2432 - val_acc: 0.2432\n",
            "Epoch 281/500\n",
            "5/5 [==============================] - 1s 217ms/step - loss: 1.3418 - categorical_accuracy: 0.3501 - acc: 0.3501 - val_loss: 1.9977 - val_categorical_accuracy: 0.2162 - val_acc: 0.2162\n",
            "Epoch 282/500\n",
            "5/5 [==============================] - 1s 211ms/step - loss: 1.3821 - categorical_accuracy: 0.3733 - acc: 0.3733 - val_loss: 1.9797 - val_categorical_accuracy: 0.1892 - val_acc: 0.1892\n",
            "Epoch 283/500\n",
            "5/5 [==============================] - 1s 221ms/step - loss: 1.3932 - categorical_accuracy: 0.3406 - acc: 0.3406 - val_loss: 1.9909 - val_categorical_accuracy: 0.1892 - val_acc: 0.1892\n",
            "Epoch 284/500\n",
            "5/5 [==============================] - 1s 210ms/step - loss: 1.4153 - categorical_accuracy: 0.3664 - acc: 0.3664 - val_loss: 1.9303 - val_categorical_accuracy: 0.1892 - val_acc: 0.1892\n",
            "Epoch 285/500\n",
            "5/5 [==============================] - 1s 212ms/step - loss: 1.4093 - categorical_accuracy: 0.3913 - acc: 0.3913 - val_loss: 2.0212 - val_categorical_accuracy: 0.2162 - val_acc: 0.2162\n",
            "Epoch 286/500\n",
            "5/5 [==============================] - 1s 200ms/step - loss: 1.4913 - categorical_accuracy: 0.3031 - acc: 0.3031 - val_loss: 1.9602 - val_categorical_accuracy: 0.1892 - val_acc: 0.1892\n",
            "Epoch 287/500\n",
            "5/5 [==============================] - 1s 236ms/step - loss: 1.4521 - categorical_accuracy: 0.3482 - acc: 0.3482 - val_loss: 2.0505 - val_categorical_accuracy: 0.2432 - val_acc: 0.2432\n",
            "Epoch 288/500\n",
            "5/5 [==============================] - 1s 212ms/step - loss: 1.3865 - categorical_accuracy: 0.3335 - acc: 0.3335 - val_loss: 2.0379 - val_categorical_accuracy: 0.1622 - val_acc: 0.1622\n",
            "Epoch 289/500\n",
            "5/5 [==============================] - 1s 217ms/step - loss: 1.3781 - categorical_accuracy: 0.3919 - acc: 0.3919 - val_loss: 1.9163 - val_categorical_accuracy: 0.2162 - val_acc: 0.2162\n",
            "Epoch 290/500\n",
            "5/5 [==============================] - 1s 227ms/step - loss: 1.3730 - categorical_accuracy: 0.3748 - acc: 0.3748 - val_loss: 2.1042 - val_categorical_accuracy: 0.1892 - val_acc: 0.1892\n",
            "Epoch 291/500\n",
            "5/5 [==============================] - 1s 215ms/step - loss: 1.5023 - categorical_accuracy: 0.3190 - acc: 0.3190 - val_loss: 1.9392 - val_categorical_accuracy: 0.1892 - val_acc: 0.1892\n",
            "Epoch 292/500\n",
            "5/5 [==============================] - 1s 226ms/step - loss: 1.4316 - categorical_accuracy: 0.3359 - acc: 0.3359 - val_loss: 2.0584 - val_categorical_accuracy: 0.1351 - val_acc: 0.1351\n",
            "Epoch 293/500\n",
            "5/5 [==============================] - 1s 210ms/step - loss: 1.4115 - categorical_accuracy: 0.3352 - acc: 0.3352 - val_loss: 1.9838 - val_categorical_accuracy: 0.1892 - val_acc: 0.1892\n",
            "Epoch 294/500\n",
            "5/5 [==============================] - 1s 208ms/step - loss: 1.3991 - categorical_accuracy: 0.3340 - acc: 0.3340 - val_loss: 1.8277 - val_categorical_accuracy: 0.2162 - val_acc: 0.2162\n",
            "Epoch 295/500\n",
            "5/5 [==============================] - 1s 221ms/step - loss: 1.4036 - categorical_accuracy: 0.3827 - acc: 0.3827 - val_loss: 1.7432 - val_categorical_accuracy: 0.1892 - val_acc: 0.1892\n",
            "Epoch 296/500\n",
            "5/5 [==============================] - 1s 231ms/step - loss: 1.4372 - categorical_accuracy: 0.3673 - acc: 0.3673 - val_loss: 1.8043 - val_categorical_accuracy: 0.2162 - val_acc: 0.2162\n",
            "Epoch 297/500\n",
            "5/5 [==============================] - 1s 214ms/step - loss: 1.4627 - categorical_accuracy: 0.3744 - acc: 0.3744 - val_loss: 1.7350 - val_categorical_accuracy: 0.1892 - val_acc: 0.1892\n",
            "Epoch 298/500\n",
            "5/5 [==============================] - 1s 207ms/step - loss: 1.4287 - categorical_accuracy: 0.3908 - acc: 0.3908 - val_loss: 1.7798 - val_categorical_accuracy: 0.1892 - val_acc: 0.1892\n",
            "Epoch 299/500\n",
            "5/5 [==============================] - 1s 213ms/step - loss: 1.4060 - categorical_accuracy: 0.4173 - acc: 0.4173 - val_loss: 1.7827 - val_categorical_accuracy: 0.1892 - val_acc: 0.1892\n",
            "Epoch 300/500\n",
            "5/5 [==============================] - 1s 231ms/step - loss: 1.3901 - categorical_accuracy: 0.3636 - acc: 0.3636 - val_loss: 1.7978 - val_categorical_accuracy: 0.1892 - val_acc: 0.1892\n",
            "Epoch 301/500\n",
            "5/5 [==============================] - 2s 420ms/step - loss: 1.4377 - categorical_accuracy: 0.3600 - acc: 0.3600 - val_loss: 1.7855 - val_categorical_accuracy: 0.2162 - val_acc: 0.2162\n",
            "Epoch 302/500\n",
            "5/5 [==============================] - 2s 410ms/step - loss: 1.4337 - categorical_accuracy: 0.3853 - acc: 0.3853 - val_loss: 1.8085 - val_categorical_accuracy: 0.2162 - val_acc: 0.2162\n",
            "Epoch 303/500\n",
            "5/5 [==============================] - 1s 223ms/step - loss: 1.4495 - categorical_accuracy: 0.3243 - acc: 0.3243 - val_loss: 1.7308 - val_categorical_accuracy: 0.2432 - val_acc: 0.2432\n",
            "Epoch 304/500\n",
            "5/5 [==============================] - 1s 212ms/step - loss: 1.4439 - categorical_accuracy: 0.3597 - acc: 0.3597 - val_loss: 1.8771 - val_categorical_accuracy: 0.1892 - val_acc: 0.1892\n",
            "Epoch 305/500\n",
            "5/5 [==============================] - 1s 217ms/step - loss: 1.4287 - categorical_accuracy: 0.4050 - acc: 0.4050 - val_loss: 1.7429 - val_categorical_accuracy: 0.1892 - val_acc: 0.1892\n",
            "Epoch 306/500\n",
            "5/5 [==============================] - 1s 218ms/step - loss: 1.4075 - categorical_accuracy: 0.3505 - acc: 0.3505 - val_loss: 1.7896 - val_categorical_accuracy: 0.1892 - val_acc: 0.1892\n",
            "Epoch 307/500\n",
            "5/5 [==============================] - 1s 206ms/step - loss: 1.4404 - categorical_accuracy: 0.3262 - acc: 0.3262 - val_loss: 1.8511 - val_categorical_accuracy: 0.2162 - val_acc: 0.2162\n",
            "Epoch 308/500\n",
            "5/5 [==============================] - 1s 221ms/step - loss: 1.4491 - categorical_accuracy: 0.3559 - acc: 0.3559 - val_loss: 1.7534 - val_categorical_accuracy: 0.2162 - val_acc: 0.2162\n",
            "Epoch 309/500\n",
            "5/5 [==============================] - 1s 223ms/step - loss: 1.4783 - categorical_accuracy: 0.3002 - acc: 0.3002 - val_loss: 1.8497 - val_categorical_accuracy: 0.2162 - val_acc: 0.2162\n",
            "Epoch 310/500\n",
            "5/5 [==============================] - 1s 217ms/step - loss: 1.3581 - categorical_accuracy: 0.4324 - acc: 0.4324 - val_loss: 1.7351 - val_categorical_accuracy: 0.2162 - val_acc: 0.2162\n",
            "Epoch 311/500\n",
            "5/5 [==============================] - 1s 224ms/step - loss: 1.4462 - categorical_accuracy: 0.3636 - acc: 0.3636 - val_loss: 1.8150 - val_categorical_accuracy: 0.2162 - val_acc: 0.2162\n",
            "Epoch 312/500\n",
            "5/5 [==============================] - 1s 226ms/step - loss: 1.3788 - categorical_accuracy: 0.3529 - acc: 0.3529 - val_loss: 1.7188 - val_categorical_accuracy: 0.2973 - val_acc: 0.2973\n",
            "Epoch 313/500\n",
            "5/5 [==============================] - 1s 220ms/step - loss: 1.4269 - categorical_accuracy: 0.3618 - acc: 0.3618 - val_loss: 1.7495 - val_categorical_accuracy: 0.1892 - val_acc: 0.1892\n",
            "Epoch 314/500\n",
            "5/5 [==============================] - 1s 218ms/step - loss: 1.4126 - categorical_accuracy: 0.3412 - acc: 0.3412 - val_loss: 1.8082 - val_categorical_accuracy: 0.1892 - val_acc: 0.1892\n",
            "Epoch 315/500\n",
            "5/5 [==============================] - 1s 205ms/step - loss: 1.3925 - categorical_accuracy: 0.3784 - acc: 0.3784 - val_loss: 1.9147 - val_categorical_accuracy: 0.1892 - val_acc: 0.1892\n",
            "Epoch 316/500\n",
            "5/5 [==============================] - 1s 214ms/step - loss: 1.4971 - categorical_accuracy: 0.3708 - acc: 0.3708 - val_loss: 1.9716 - val_categorical_accuracy: 0.1622 - val_acc: 0.1622\n",
            "Epoch 317/500\n",
            "5/5 [==============================] - 1s 199ms/step - loss: 1.4963 - categorical_accuracy: 0.3817 - acc: 0.3817 - val_loss: 1.9438 - val_categorical_accuracy: 0.2162 - val_acc: 0.2162\n",
            "Epoch 318/500\n",
            "5/5 [==============================] - 1s 218ms/step - loss: 1.5577 - categorical_accuracy: 0.3588 - acc: 0.3588 - val_loss: 1.8552 - val_categorical_accuracy: 0.1622 - val_acc: 0.1622\n",
            "Epoch 319/500\n",
            "5/5 [==============================] - 1s 219ms/step - loss: 1.6144 - categorical_accuracy: 0.3005 - acc: 0.3005 - val_loss: 1.8159 - val_categorical_accuracy: 0.1351 - val_acc: 0.1351\n",
            "Epoch 320/500\n",
            "5/5 [==============================] - 1s 208ms/step - loss: 1.5155 - categorical_accuracy: 0.3455 - acc: 0.3455 - val_loss: 1.8271 - val_categorical_accuracy: 0.1892 - val_acc: 0.1892\n",
            "Epoch 321/500\n",
            "5/5 [==============================] - 1s 219ms/step - loss: 1.4841 - categorical_accuracy: 0.3277 - acc: 0.3277 - val_loss: 1.8060 - val_categorical_accuracy: 0.1622 - val_acc: 0.1622\n",
            "Epoch 322/500\n",
            "5/5 [==============================] - 1s 215ms/step - loss: 1.4222 - categorical_accuracy: 0.3796 - acc: 0.3796 - val_loss: 1.8449 - val_categorical_accuracy: 0.1892 - val_acc: 0.1892\n",
            "Epoch 323/500\n",
            "5/5 [==============================] - 1s 220ms/step - loss: 1.4562 - categorical_accuracy: 0.3516 - acc: 0.3516 - val_loss: 1.7865 - val_categorical_accuracy: 0.1892 - val_acc: 0.1892\n",
            "Epoch 324/500\n",
            "5/5 [==============================] - 1s 214ms/step - loss: 1.4444 - categorical_accuracy: 0.3491 - acc: 0.3491 - val_loss: 1.7919 - val_categorical_accuracy: 0.2162 - val_acc: 0.2162\n",
            "Epoch 325/500\n",
            "5/5 [==============================] - 1s 212ms/step - loss: 1.4162 - categorical_accuracy: 0.3831 - acc: 0.3831 - val_loss: 1.8601 - val_categorical_accuracy: 0.2162 - val_acc: 0.2162\n",
            "Epoch 326/500\n",
            "5/5 [==============================] - 1s 220ms/step - loss: 1.4838 - categorical_accuracy: 0.3658 - acc: 0.3658 - val_loss: 1.8023 - val_categorical_accuracy: 0.2162 - val_acc: 0.2162\n",
            "Epoch 327/500\n",
            "5/5 [==============================] - 1s 206ms/step - loss: 1.5265 - categorical_accuracy: 0.3654 - acc: 0.3654 - val_loss: 1.8392 - val_categorical_accuracy: 0.2162 - val_acc: 0.2162\n",
            "Epoch 328/500\n",
            "5/5 [==============================] - 1s 200ms/step - loss: 1.6159 - categorical_accuracy: 0.2941 - acc: 0.2941 - val_loss: 1.8858 - val_categorical_accuracy: 0.2162 - val_acc: 0.2162\n",
            "Epoch 329/500\n",
            "5/5 [==============================] - 1s 216ms/step - loss: 1.4897 - categorical_accuracy: 0.3965 - acc: 0.3965 - val_loss: 1.7942 - val_categorical_accuracy: 0.1892 - val_acc: 0.1892\n",
            "Epoch 330/500\n",
            "5/5 [==============================] - 1s 227ms/step - loss: 1.4999 - categorical_accuracy: 0.3526 - acc: 0.3526 - val_loss: 1.9073 - val_categorical_accuracy: 0.1892 - val_acc: 0.1892\n",
            "Epoch 331/500\n",
            "5/5 [==============================] - 1s 215ms/step - loss: 1.5775 - categorical_accuracy: 0.3335 - acc: 0.3335 - val_loss: 1.8133 - val_categorical_accuracy: 0.2162 - val_acc: 0.2162\n",
            "Epoch 332/500\n",
            "5/5 [==============================] - 1s 225ms/step - loss: 1.5398 - categorical_accuracy: 0.3282 - acc: 0.3282 - val_loss: 1.7904 - val_categorical_accuracy: 0.2432 - val_acc: 0.2432\n",
            "Epoch 333/500\n",
            "5/5 [==============================] - 1s 208ms/step - loss: 1.4720 - categorical_accuracy: 0.3666 - acc: 0.3666 - val_loss: 1.7568 - val_categorical_accuracy: 0.2973 - val_acc: 0.2973\n",
            "Epoch 334/500\n",
            "5/5 [==============================] - 1s 209ms/step - loss: 1.5524 - categorical_accuracy: 0.3984 - acc: 0.3984 - val_loss: 1.8656 - val_categorical_accuracy: 0.1622 - val_acc: 0.1622\n",
            "Epoch 335/500\n",
            "5/5 [==============================] - 1s 226ms/step - loss: 1.4014 - categorical_accuracy: 0.4149 - acc: 0.4149 - val_loss: 1.7882 - val_categorical_accuracy: 0.2432 - val_acc: 0.2432\n",
            "Epoch 336/500\n",
            "5/5 [==============================] - 1s 234ms/step - loss: 1.3849 - categorical_accuracy: 0.3832 - acc: 0.3832 - val_loss: 1.7577 - val_categorical_accuracy: 0.2703 - val_acc: 0.2703\n",
            "Epoch 337/500\n",
            "5/5 [==============================] - 1s 212ms/step - loss: 1.4013 - categorical_accuracy: 0.4214 - acc: 0.4214 - val_loss: 1.7356 - val_categorical_accuracy: 0.2973 - val_acc: 0.2973\n",
            "Epoch 338/500\n",
            "5/5 [==============================] - 1s 227ms/step - loss: 1.3964 - categorical_accuracy: 0.4022 - acc: 0.4022 - val_loss: 1.7843 - val_categorical_accuracy: 0.2432 - val_acc: 0.2432\n",
            "Epoch 339/500\n",
            "5/5 [==============================] - 1s 236ms/step - loss: 1.4116 - categorical_accuracy: 0.3702 - acc: 0.3702 - val_loss: 1.8353 - val_categorical_accuracy: 0.1892 - val_acc: 0.1892\n",
            "Epoch 340/500\n",
            "5/5 [==============================] - 1s 219ms/step - loss: 1.4267 - categorical_accuracy: 0.3868 - acc: 0.3868 - val_loss: 1.7727 - val_categorical_accuracy: 0.2432 - val_acc: 0.2432\n",
            "Epoch 341/500\n",
            "5/5 [==============================] - 1s 213ms/step - loss: 1.4373 - categorical_accuracy: 0.3238 - acc: 0.3238 - val_loss: 1.8258 - val_categorical_accuracy: 0.2162 - val_acc: 0.2162\n",
            "Epoch 342/500\n",
            "5/5 [==============================] - 1s 241ms/step - loss: 1.4102 - categorical_accuracy: 0.3588 - acc: 0.3588 - val_loss: 1.7326 - val_categorical_accuracy: 0.2432 - val_acc: 0.2432\n",
            "Epoch 343/500\n",
            "5/5 [==============================] - 1s 220ms/step - loss: 1.3870 - categorical_accuracy: 0.3564 - acc: 0.3564 - val_loss: 1.8232 - val_categorical_accuracy: 0.2162 - val_acc: 0.2162\n",
            "Epoch 344/500\n",
            "5/5 [==============================] - 1s 236ms/step - loss: 1.3641 - categorical_accuracy: 0.3687 - acc: 0.3687 - val_loss: 1.7746 - val_categorical_accuracy: 0.2703 - val_acc: 0.2703\n",
            "Epoch 345/500\n",
            "5/5 [==============================] - 1s 225ms/step - loss: 1.3429 - categorical_accuracy: 0.3938 - acc: 0.3938 - val_loss: 1.7987 - val_categorical_accuracy: 0.2162 - val_acc: 0.2162\n",
            "Epoch 346/500\n",
            "5/5 [==============================] - 1s 218ms/step - loss: 1.4040 - categorical_accuracy: 0.3572 - acc: 0.3572 - val_loss: 1.7488 - val_categorical_accuracy: 0.2973 - val_acc: 0.2973\n",
            "Epoch 347/500\n",
            "5/5 [==============================] - 1s 220ms/step - loss: 1.4181 - categorical_accuracy: 0.3532 - acc: 0.3532 - val_loss: 1.7672 - val_categorical_accuracy: 0.2703 - val_acc: 0.2703\n",
            "Epoch 348/500\n",
            "5/5 [==============================] - 1s 236ms/step - loss: 1.4139 - categorical_accuracy: 0.4044 - acc: 0.4044 - val_loss: 1.7624 - val_categorical_accuracy: 0.2973 - val_acc: 0.2973\n",
            "Epoch 349/500\n",
            "5/5 [==============================] - 1s 216ms/step - loss: 1.3601 - categorical_accuracy: 0.3734 - acc: 0.3734 - val_loss: 1.8118 - val_categorical_accuracy: 0.3243 - val_acc: 0.3243\n",
            "Epoch 350/500\n",
            "5/5 [==============================] - 1s 210ms/step - loss: 1.3932 - categorical_accuracy: 0.3948 - acc: 0.3948 - val_loss: 1.7740 - val_categorical_accuracy: 0.2162 - val_acc: 0.2162\n",
            "Epoch 351/500\n",
            "5/5 [==============================] - 1s 222ms/step - loss: 1.3698 - categorical_accuracy: 0.3730 - acc: 0.3730 - val_loss: 1.7638 - val_categorical_accuracy: 0.2973 - val_acc: 0.2973\n",
            "Epoch 352/500\n",
            "5/5 [==============================] - 1s 219ms/step - loss: 1.3448 - categorical_accuracy: 0.4439 - acc: 0.4439 - val_loss: 1.8058 - val_categorical_accuracy: 0.2432 - val_acc: 0.2432\n",
            "Epoch 353/500\n",
            "5/5 [==============================] - 1s 212ms/step - loss: 1.3626 - categorical_accuracy: 0.3852 - acc: 0.3852 - val_loss: 1.8314 - val_categorical_accuracy: 0.2162 - val_acc: 0.2162\n",
            "Epoch 354/500\n",
            "5/5 [==============================] - 1s 205ms/step - loss: 1.3865 - categorical_accuracy: 0.3851 - acc: 0.3851 - val_loss: 1.7772 - val_categorical_accuracy: 0.2973 - val_acc: 0.2973\n",
            "Epoch 355/500\n",
            "5/5 [==============================] - 1s 227ms/step - loss: 1.2747 - categorical_accuracy: 0.4279 - acc: 0.4279 - val_loss: 1.7532 - val_categorical_accuracy: 0.3243 - val_acc: 0.3243\n",
            "Epoch 356/500\n",
            "5/5 [==============================] - 1s 223ms/step - loss: 1.3450 - categorical_accuracy: 0.3843 - acc: 0.3843 - val_loss: 1.7840 - val_categorical_accuracy: 0.2703 - val_acc: 0.2703\n",
            "Epoch 357/500\n",
            "5/5 [==============================] - 1s 213ms/step - loss: 1.3245 - categorical_accuracy: 0.3965 - acc: 0.3965 - val_loss: 1.7704 - val_categorical_accuracy: 0.2973 - val_acc: 0.2973\n",
            "Epoch 358/500\n",
            "5/5 [==============================] - 1s 219ms/step - loss: 1.3903 - categorical_accuracy: 0.3964 - acc: 0.3964 - val_loss: 1.7659 - val_categorical_accuracy: 0.2703 - val_acc: 0.2703\n",
            "Epoch 359/500\n",
            "5/5 [==============================] - 1s 228ms/step - loss: 1.3671 - categorical_accuracy: 0.4152 - acc: 0.4152 - val_loss: 1.7774 - val_categorical_accuracy: 0.2432 - val_acc: 0.2432\n",
            "Epoch 360/500\n",
            "5/5 [==============================] - 1s 196ms/step - loss: 1.2995 - categorical_accuracy: 0.4672 - acc: 0.4672 - val_loss: 1.8558 - val_categorical_accuracy: 0.2162 - val_acc: 0.2162\n",
            "Epoch 361/500\n",
            "5/5 [==============================] - 1s 215ms/step - loss: 1.3718 - categorical_accuracy: 0.3854 - acc: 0.3854 - val_loss: 1.8145 - val_categorical_accuracy: 0.2703 - val_acc: 0.2703\n",
            "Epoch 362/500\n",
            "5/5 [==============================] - 1s 213ms/step - loss: 1.3887 - categorical_accuracy: 0.3937 - acc: 0.3937 - val_loss: 1.7782 - val_categorical_accuracy: 0.2703 - val_acc: 0.2703\n",
            "Epoch 363/500\n",
            "5/5 [==============================] - 1s 203ms/step - loss: 1.2968 - categorical_accuracy: 0.4787 - acc: 0.4787 - val_loss: 1.8384 - val_categorical_accuracy: 0.2703 - val_acc: 0.2703\n",
            "Epoch 364/500\n",
            "5/5 [==============================] - 1s 213ms/step - loss: 1.3848 - categorical_accuracy: 0.4038 - acc: 0.4038 - val_loss: 1.8146 - val_categorical_accuracy: 0.2973 - val_acc: 0.2973\n",
            "Epoch 365/500\n",
            "5/5 [==============================] - 1s 204ms/step - loss: 1.3417 - categorical_accuracy: 0.3495 - acc: 0.3495 - val_loss: 1.8133 - val_categorical_accuracy: 0.2973 - val_acc: 0.2973\n",
            "Epoch 366/500\n",
            "5/5 [==============================] - 1s 212ms/step - loss: 1.3212 - categorical_accuracy: 0.4385 - acc: 0.4385 - val_loss: 1.7795 - val_categorical_accuracy: 0.2973 - val_acc: 0.2973\n",
            "Epoch 367/500\n",
            "5/5 [==============================] - 1s 206ms/step - loss: 1.2998 - categorical_accuracy: 0.3980 - acc: 0.3980 - val_loss: 1.8551 - val_categorical_accuracy: 0.2973 - val_acc: 0.2973\n",
            "Epoch 368/500\n",
            "5/5 [==============================] - 1s 215ms/step - loss: 1.3443 - categorical_accuracy: 0.3415 - acc: 0.3415 - val_loss: 1.8721 - val_categorical_accuracy: 0.2973 - val_acc: 0.2973\n",
            "Epoch 369/500\n",
            "5/5 [==============================] - 1s 225ms/step - loss: 1.2833 - categorical_accuracy: 0.3911 - acc: 0.3911 - val_loss: 1.8504 - val_categorical_accuracy: 0.3243 - val_acc: 0.3243\n",
            "Epoch 370/500\n",
            "5/5 [==============================] - 1s 214ms/step - loss: 1.3371 - categorical_accuracy: 0.3615 - acc: 0.3615 - val_loss: 1.8329 - val_categorical_accuracy: 0.3514 - val_acc: 0.3514\n",
            "Epoch 371/500\n",
            "5/5 [==============================] - 1s 216ms/step - loss: 1.3285 - categorical_accuracy: 0.3761 - acc: 0.3761 - val_loss: 1.8294 - val_categorical_accuracy: 0.3243 - val_acc: 0.3243\n",
            "Epoch 372/500\n",
            "5/5 [==============================] - 1s 213ms/step - loss: 1.3112 - categorical_accuracy: 0.4159 - acc: 0.4159 - val_loss: 1.8172 - val_categorical_accuracy: 0.2973 - val_acc: 0.2973\n",
            "Epoch 373/500\n",
            "5/5 [==============================] - 1s 220ms/step - loss: 1.2762 - categorical_accuracy: 0.4608 - acc: 0.4608 - val_loss: 1.8827 - val_categorical_accuracy: 0.2432 - val_acc: 0.2432\n",
            "Epoch 374/500\n",
            "5/5 [==============================] - 1s 215ms/step - loss: 1.3432 - categorical_accuracy: 0.3776 - acc: 0.3776 - val_loss: 1.8017 - val_categorical_accuracy: 0.2703 - val_acc: 0.2703\n",
            "Epoch 375/500\n",
            "5/5 [==============================] - 1s 216ms/step - loss: 1.3279 - categorical_accuracy: 0.3797 - acc: 0.3797 - val_loss: 1.8837 - val_categorical_accuracy: 0.3243 - val_acc: 0.3243\n",
            "Epoch 376/500\n",
            "5/5 [==============================] - 1s 224ms/step - loss: 1.3225 - categorical_accuracy: 0.4257 - acc: 0.4257 - val_loss: 1.8480 - val_categorical_accuracy: 0.2432 - val_acc: 0.2432\n",
            "Epoch 377/500\n",
            "5/5 [==============================] - 1s 221ms/step - loss: 1.3119 - categorical_accuracy: 0.4292 - acc: 0.4292 - val_loss: 1.9052 - val_categorical_accuracy: 0.2703 - val_acc: 0.2703\n",
            "Epoch 378/500\n",
            "5/5 [==============================] - 1s 206ms/step - loss: 1.4036 - categorical_accuracy: 0.3491 - acc: 0.3491 - val_loss: 1.8726 - val_categorical_accuracy: 0.2973 - val_acc: 0.2973\n",
            "Epoch 379/500\n",
            "5/5 [==============================] - 1s 220ms/step - loss: 1.3999 - categorical_accuracy: 0.3798 - acc: 0.3798 - val_loss: 1.8777 - val_categorical_accuracy: 0.2703 - val_acc: 0.2703\n",
            "Epoch 380/500\n",
            "5/5 [==============================] - 1s 215ms/step - loss: 1.4304 - categorical_accuracy: 0.4184 - acc: 0.4184 - val_loss: 2.0012 - val_categorical_accuracy: 0.2703 - val_acc: 0.2703\n",
            "Epoch 381/500\n",
            "5/5 [==============================] - 1s 209ms/step - loss: 1.3952 - categorical_accuracy: 0.3896 - acc: 0.3896 - val_loss: 1.8433 - val_categorical_accuracy: 0.2973 - val_acc: 0.2973\n",
            "Epoch 382/500\n",
            "5/5 [==============================] - 1s 219ms/step - loss: 1.4342 - categorical_accuracy: 0.3925 - acc: 0.3925 - val_loss: 1.9940 - val_categorical_accuracy: 0.2703 - val_acc: 0.2703\n",
            "Epoch 383/500\n",
            "5/5 [==============================] - 1s 225ms/step - loss: 1.3532 - categorical_accuracy: 0.4180 - acc: 0.4180 - val_loss: 1.8585 - val_categorical_accuracy: 0.2162 - val_acc: 0.2162\n",
            "Epoch 384/500\n",
            "5/5 [==============================] - 1s 210ms/step - loss: 1.4857 - categorical_accuracy: 0.3755 - acc: 0.3755 - val_loss: 1.9602 - val_categorical_accuracy: 0.2973 - val_acc: 0.2973\n",
            "Epoch 385/500\n",
            "5/5 [==============================] - 1s 230ms/step - loss: 1.5181 - categorical_accuracy: 0.3498 - acc: 0.3498 - val_loss: 2.0789 - val_categorical_accuracy: 0.2703 - val_acc: 0.2703\n",
            "Epoch 386/500\n",
            "5/5 [==============================] - 1s 218ms/step - loss: 1.3758 - categorical_accuracy: 0.4385 - acc: 0.4385 - val_loss: 1.8587 - val_categorical_accuracy: 0.2432 - val_acc: 0.2432\n",
            "Epoch 387/500\n",
            "5/5 [==============================] - 1s 226ms/step - loss: 1.3246 - categorical_accuracy: 0.4077 - acc: 0.4077 - val_loss: 2.0114 - val_categorical_accuracy: 0.1892 - val_acc: 0.1892\n",
            "Epoch 388/500\n",
            "5/5 [==============================] - 1s 204ms/step - loss: 1.4007 - categorical_accuracy: 0.3626 - acc: 0.3626 - val_loss: 1.8333 - val_categorical_accuracy: 0.2703 - val_acc: 0.2703\n",
            "Epoch 389/500\n",
            "5/5 [==============================] - 1s 220ms/step - loss: 1.3264 - categorical_accuracy: 0.3635 - acc: 0.3635 - val_loss: 1.9355 - val_categorical_accuracy: 0.2162 - val_acc: 0.2162\n",
            "Epoch 390/500\n",
            "5/5 [==============================] - 1s 222ms/step - loss: 1.3509 - categorical_accuracy: 0.3329 - acc: 0.3329 - val_loss: 1.8399 - val_categorical_accuracy: 0.2973 - val_acc: 0.2973\n",
            "Epoch 391/500\n",
            "5/5 [==============================] - 1s 207ms/step - loss: 1.2642 - categorical_accuracy: 0.3881 - acc: 0.3881 - val_loss: 1.9066 - val_categorical_accuracy: 0.2703 - val_acc: 0.2703\n",
            "Epoch 392/500\n",
            "5/5 [==============================] - 1s 217ms/step - loss: 1.3176 - categorical_accuracy: 0.4047 - acc: 0.4047 - val_loss: 1.8996 - val_categorical_accuracy: 0.2973 - val_acc: 0.2973\n",
            "Epoch 393/500\n",
            "5/5 [==============================] - 1s 234ms/step - loss: 1.2666 - categorical_accuracy: 0.3965 - acc: 0.3965 - val_loss: 1.8791 - val_categorical_accuracy: 0.2973 - val_acc: 0.2973\n",
            "Epoch 394/500\n",
            "5/5 [==============================] - 1s 227ms/step - loss: 1.2872 - categorical_accuracy: 0.3711 - acc: 0.3711 - val_loss: 1.8943 - val_categorical_accuracy: 0.3243 - val_acc: 0.3243\n",
            "Epoch 395/500\n",
            "5/5 [==============================] - 1s 225ms/step - loss: 1.2763 - categorical_accuracy: 0.4159 - acc: 0.4159 - val_loss: 1.9269 - val_categorical_accuracy: 0.2432 - val_acc: 0.2432\n",
            "Epoch 396/500\n",
            "5/5 [==============================] - 1s 219ms/step - loss: 1.2278 - categorical_accuracy: 0.4398 - acc: 0.4398 - val_loss: 1.9657 - val_categorical_accuracy: 0.2162 - val_acc: 0.2162\n",
            "Epoch 397/500\n",
            "5/5 [==============================] - 1s 222ms/step - loss: 1.2968 - categorical_accuracy: 0.4116 - acc: 0.4116 - val_loss: 1.9190 - val_categorical_accuracy: 0.2973 - val_acc: 0.2973\n",
            "Epoch 398/500\n",
            "5/5 [==============================] - 1s 224ms/step - loss: 1.3233 - categorical_accuracy: 0.3685 - acc: 0.3685 - val_loss: 1.9647 - val_categorical_accuracy: 0.3243 - val_acc: 0.3243\n",
            "Epoch 399/500\n",
            "5/5 [==============================] - 1s 227ms/step - loss: 1.2929 - categorical_accuracy: 0.4094 - acc: 0.4094 - val_loss: 1.9016 - val_categorical_accuracy: 0.2162 - val_acc: 0.2162\n",
            "Epoch 400/500\n",
            "5/5 [==============================] - 1s 219ms/step - loss: 1.2615 - categorical_accuracy: 0.4034 - acc: 0.4034 - val_loss: 1.9804 - val_categorical_accuracy: 0.2973 - val_acc: 0.2973\n",
            "Epoch 401/500\n",
            "5/5 [==============================] - 1s 212ms/step - loss: 1.2826 - categorical_accuracy: 0.3860 - acc: 0.3860 - val_loss: 1.9215 - val_categorical_accuracy: 0.2973 - val_acc: 0.2973\n",
            "Epoch 402/500\n",
            "5/5 [==============================] - 1s 225ms/step - loss: 1.3008 - categorical_accuracy: 0.3740 - acc: 0.3740 - val_loss: 1.8765 - val_categorical_accuracy: 0.2432 - val_acc: 0.2432\n",
            "Epoch 403/500\n",
            "5/5 [==============================] - 1s 214ms/step - loss: 1.2503 - categorical_accuracy: 0.4354 - acc: 0.4354 - val_loss: 1.9349 - val_categorical_accuracy: 0.2973 - val_acc: 0.2973\n",
            "Epoch 404/500\n",
            "5/5 [==============================] - 1s 219ms/step - loss: 1.3165 - categorical_accuracy: 0.4162 - acc: 0.4162 - val_loss: 1.9764 - val_categorical_accuracy: 0.3243 - val_acc: 0.3243\n",
            "Epoch 405/500\n",
            "5/5 [==============================] - 1s 227ms/step - loss: 1.3827 - categorical_accuracy: 0.4147 - acc: 0.4147 - val_loss: 1.8360 - val_categorical_accuracy: 0.3243 - val_acc: 0.3243\n",
            "Epoch 406/500\n",
            "5/5 [==============================] - 1s 214ms/step - loss: 1.5658 - categorical_accuracy: 0.3138 - acc: 0.3138 - val_loss: 1.9062 - val_categorical_accuracy: 0.3514 - val_acc: 0.3514\n",
            "Epoch 407/500\n",
            "5/5 [==============================] - 1s 212ms/step - loss: 1.3927 - categorical_accuracy: 0.3708 - acc: 0.3708 - val_loss: 1.9808 - val_categorical_accuracy: 0.2973 - val_acc: 0.2973\n",
            "Epoch 408/500\n",
            "5/5 [==============================] - 1s 212ms/step - loss: 1.3400 - categorical_accuracy: 0.3466 - acc: 0.3466 - val_loss: 1.9372 - val_categorical_accuracy: 0.2162 - val_acc: 0.2162\n",
            "Epoch 409/500\n",
            "5/5 [==============================] - 1s 219ms/step - loss: 1.3572 - categorical_accuracy: 0.3727 - acc: 0.3727 - val_loss: 1.9531 - val_categorical_accuracy: 0.2973 - val_acc: 0.2973\n",
            "Epoch 410/500\n",
            "5/5 [==============================] - 1s 215ms/step - loss: 1.2720 - categorical_accuracy: 0.4402 - acc: 0.4402 - val_loss: 1.9175 - val_categorical_accuracy: 0.2973 - val_acc: 0.2973\n",
            "Epoch 411/500\n",
            "5/5 [==============================] - 1s 223ms/step - loss: 1.2493 - categorical_accuracy: 0.4451 - acc: 0.4451 - val_loss: 1.8993 - val_categorical_accuracy: 0.2432 - val_acc: 0.2432\n",
            "Epoch 412/500\n",
            "5/5 [==============================] - 1s 208ms/step - loss: 1.3095 - categorical_accuracy: 0.3382 - acc: 0.3382 - val_loss: 1.9247 - val_categorical_accuracy: 0.3243 - val_acc: 0.3243\n",
            "Epoch 413/500\n",
            "5/5 [==============================] - 1s 213ms/step - loss: 1.2826 - categorical_accuracy: 0.4078 - acc: 0.4078 - val_loss: 1.9308 - val_categorical_accuracy: 0.2703 - val_acc: 0.2703\n",
            "Epoch 414/500\n",
            "5/5 [==============================] - 1s 219ms/step - loss: 1.3139 - categorical_accuracy: 0.3779 - acc: 0.3779 - val_loss: 1.8914 - val_categorical_accuracy: 0.3243 - val_acc: 0.3243\n",
            "Epoch 415/500\n",
            "5/5 [==============================] - 1s 208ms/step - loss: 1.2115 - categorical_accuracy: 0.4286 - acc: 0.4286 - val_loss: 1.9627 - val_categorical_accuracy: 0.2973 - val_acc: 0.2973\n",
            "Epoch 416/500\n",
            "5/5 [==============================] - 1s 208ms/step - loss: 1.2817 - categorical_accuracy: 0.3937 - acc: 0.3937 - val_loss: 1.9132 - val_categorical_accuracy: 0.2703 - val_acc: 0.2703\n",
            "Epoch 417/500\n",
            "5/5 [==============================] - 1s 216ms/step - loss: 1.2587 - categorical_accuracy: 0.4049 - acc: 0.4049 - val_loss: 2.0443 - val_categorical_accuracy: 0.2432 - val_acc: 0.2432\n",
            "Epoch 418/500\n",
            "5/5 [==============================] - 1s 217ms/step - loss: 1.2365 - categorical_accuracy: 0.4296 - acc: 0.4296 - val_loss: 1.8714 - val_categorical_accuracy: 0.2973 - val_acc: 0.2973\n",
            "Epoch 419/500\n",
            "5/5 [==============================] - 1s 211ms/step - loss: 1.2731 - categorical_accuracy: 0.4240 - acc: 0.4240 - val_loss: 1.9384 - val_categorical_accuracy: 0.2973 - val_acc: 0.2973\n",
            "Epoch 420/500\n",
            "5/5 [==============================] - 1s 212ms/step - loss: 1.2551 - categorical_accuracy: 0.4602 - acc: 0.4602 - val_loss: 1.9761 - val_categorical_accuracy: 0.2973 - val_acc: 0.2973\n",
            "Epoch 421/500\n",
            "5/5 [==============================] - 1s 213ms/step - loss: 1.2214 - categorical_accuracy: 0.3893 - acc: 0.3893 - val_loss: 1.9634 - val_categorical_accuracy: 0.2703 - val_acc: 0.2703\n",
            "Epoch 422/500\n",
            "5/5 [==============================] - 1s 222ms/step - loss: 1.2531 - categorical_accuracy: 0.4711 - acc: 0.4711 - val_loss: 1.9818 - val_categorical_accuracy: 0.2432 - val_acc: 0.2432\n",
            "Epoch 423/500\n",
            "5/5 [==============================] - 1s 218ms/step - loss: 1.2695 - categorical_accuracy: 0.4066 - acc: 0.4066 - val_loss: 1.9924 - val_categorical_accuracy: 0.3243 - val_acc: 0.3243\n",
            "Epoch 424/500\n",
            "5/5 [==============================] - 1s 225ms/step - loss: 1.2446 - categorical_accuracy: 0.4007 - acc: 0.4007 - val_loss: 1.9120 - val_categorical_accuracy: 0.3514 - val_acc: 0.3514\n",
            "Epoch 425/500\n",
            "5/5 [==============================] - 1s 218ms/step - loss: 1.1951 - categorical_accuracy: 0.4893 - acc: 0.4893 - val_loss: 1.9898 - val_categorical_accuracy: 0.2973 - val_acc: 0.2973\n",
            "Epoch 426/500\n",
            "5/5 [==============================] - 1s 216ms/step - loss: 1.2294 - categorical_accuracy: 0.4272 - acc: 0.4272 - val_loss: 1.9594 - val_categorical_accuracy: 0.2973 - val_acc: 0.2973\n",
            "Epoch 427/500\n",
            "5/5 [==============================] - 1s 225ms/step - loss: 2.2027 - categorical_accuracy: 0.4548 - acc: 0.4548 - val_loss: 3.4273 - val_categorical_accuracy: 0.2162 - val_acc: 0.2162\n",
            "Epoch 428/500\n",
            "5/5 [==============================] - 1s 217ms/step - loss: 4.5238 - categorical_accuracy: 0.2044 - acc: 0.2044 - val_loss: 4.1433 - val_categorical_accuracy: 0.1892 - val_acc: 0.1892\n",
            "Epoch 429/500\n",
            "5/5 [==============================] - 1s 223ms/step - loss: 5.1041 - categorical_accuracy: 0.2729 - acc: 0.2729 - val_loss: 4.0331 - val_categorical_accuracy: 0.1622 - val_acc: 0.1622\n",
            "Epoch 430/500\n",
            "5/5 [==============================] - 1s 212ms/step - loss: 3.8891 - categorical_accuracy: 0.2669 - acc: 0.2669 - val_loss: 4.5895 - val_categorical_accuracy: 0.2432 - val_acc: 0.2432\n",
            "Epoch 431/500\n",
            "5/5 [==============================] - 1s 232ms/step - loss: 6.2669 - categorical_accuracy: 0.2319 - acc: 0.2319 - val_loss: 4.9795 - val_categorical_accuracy: 0.2432 - val_acc: 0.2432\n",
            "Epoch 432/500\n",
            "5/5 [==============================] - 1s 225ms/step - loss: 4.9754 - categorical_accuracy: 0.2319 - acc: 0.2319 - val_loss: 2.3067 - val_categorical_accuracy: 0.2162 - val_acc: 0.2162\n",
            "Epoch 433/500\n",
            "5/5 [==============================] - 1s 216ms/step - loss: 3.0087 - categorical_accuracy: 0.2912 - acc: 0.2912 - val_loss: 2.5354 - val_categorical_accuracy: 0.2432 - val_acc: 0.2432\n",
            "Epoch 434/500\n",
            "5/5 [==============================] - 1s 213ms/step - loss: 3.3154 - categorical_accuracy: 0.2841 - acc: 0.2841 - val_loss: 2.8642 - val_categorical_accuracy: 0.1892 - val_acc: 0.1892\n",
            "Epoch 435/500\n",
            "5/5 [==============================] - 1s 213ms/step - loss: 3.1922 - categorical_accuracy: 0.2227 - acc: 0.2227 - val_loss: 2.0572 - val_categorical_accuracy: 0.1892 - val_acc: 0.1892\n",
            "Epoch 436/500\n",
            "5/5 [==============================] - 1s 211ms/step - loss: 1.9998 - categorical_accuracy: 0.2897 - acc: 0.2897 - val_loss: 3.1411 - val_categorical_accuracy: 0.2432 - val_acc: 0.2432\n",
            "Epoch 437/500\n",
            "5/5 [==============================] - 1s 212ms/step - loss: 3.0703 - categorical_accuracy: 0.2515 - acc: 0.2515 - val_loss: 2.2436 - val_categorical_accuracy: 0.1622 - val_acc: 0.1622\n",
            "Epoch 438/500\n",
            "5/5 [==============================] - 1s 224ms/step - loss: 3.0380 - categorical_accuracy: 0.2964 - acc: 0.2964 - val_loss: 3.5402 - val_categorical_accuracy: 0.1622 - val_acc: 0.1622\n",
            "Epoch 439/500\n",
            "5/5 [==============================] - 1s 224ms/step - loss: 4.0407 - categorical_accuracy: 0.2277 - acc: 0.2277 - val_loss: 2.5188 - val_categorical_accuracy: 0.1892 - val_acc: 0.1892\n",
            "Epoch 440/500\n",
            "5/5 [==============================] - 1s 210ms/step - loss: 3.1121 - categorical_accuracy: 0.2697 - acc: 0.2697 - val_loss: 2.9364 - val_categorical_accuracy: 0.2432 - val_acc: 0.2432\n",
            "Epoch 441/500\n",
            "5/5 [==============================] - 1s 210ms/step - loss: 2.9780 - categorical_accuracy: 0.3203 - acc: 0.3203 - val_loss: 2.3599 - val_categorical_accuracy: 0.1622 - val_acc: 0.1622\n",
            "Epoch 442/500\n",
            "5/5 [==============================] - 1s 216ms/step - loss: 2.4355 - categorical_accuracy: 0.2734 - acc: 0.2734 - val_loss: 2.2994 - val_categorical_accuracy: 0.1892 - val_acc: 0.1892\n",
            "Epoch 443/500\n",
            "5/5 [==============================] - 1s 211ms/step - loss: 2.4486 - categorical_accuracy: 0.2332 - acc: 0.2332 - val_loss: 2.3238 - val_categorical_accuracy: 0.2432 - val_acc: 0.2432\n",
            "Epoch 444/500\n",
            "5/5 [==============================] - 1s 210ms/step - loss: 2.5781 - categorical_accuracy: 0.2365 - acc: 0.2365 - val_loss: 2.0047 - val_categorical_accuracy: 0.1351 - val_acc: 0.1351\n",
            "Epoch 445/500\n",
            "5/5 [==============================] - 1s 223ms/step - loss: 2.0060 - categorical_accuracy: 0.2976 - acc: 0.2976 - val_loss: 1.9465 - val_categorical_accuracy: 0.1622 - val_acc: 0.1622\n",
            "Epoch 446/500\n",
            "5/5 [==============================] - 1s 228ms/step - loss: 2.0726 - categorical_accuracy: 0.3605 - acc: 0.3605 - val_loss: 2.2606 - val_categorical_accuracy: 0.2162 - val_acc: 0.2162\n",
            "Epoch 447/500\n",
            "5/5 [==============================] - 1s 225ms/step - loss: 2.2258 - categorical_accuracy: 0.2853 - acc: 0.2853 - val_loss: 2.0191 - val_categorical_accuracy: 0.1622 - val_acc: 0.1622\n",
            "Epoch 448/500\n",
            "5/5 [==============================] - 1s 213ms/step - loss: 1.8833 - categorical_accuracy: 0.3016 - acc: 0.3016 - val_loss: 1.7714 - val_categorical_accuracy: 0.1892 - val_acc: 0.1892\n",
            "Epoch 449/500\n",
            "5/5 [==============================] - 1s 214ms/step - loss: 1.9333 - categorical_accuracy: 0.2779 - acc: 0.2779 - val_loss: 1.9778 - val_categorical_accuracy: 0.1351 - val_acc: 0.1351\n",
            "Epoch 450/500\n",
            "5/5 [==============================] - 1s 218ms/step - loss: 1.6346 - categorical_accuracy: 0.3636 - acc: 0.3636 - val_loss: 2.0125 - val_categorical_accuracy: 0.1892 - val_acc: 0.1892\n",
            "Epoch 451/500\n",
            "5/5 [==============================] - 1s 217ms/step - loss: 2.2146 - categorical_accuracy: 0.2413 - acc: 0.2413 - val_loss: 2.2656 - val_categorical_accuracy: 0.1351 - val_acc: 0.1351\n",
            "Epoch 452/500\n",
            "5/5 [==============================] - 1s 222ms/step - loss: 1.9880 - categorical_accuracy: 0.3085 - acc: 0.3085 - val_loss: 2.0498 - val_categorical_accuracy: 0.2432 - val_acc: 0.2432\n",
            "Epoch 453/500\n",
            "5/5 [==============================] - 1s 215ms/step - loss: 2.1935 - categorical_accuracy: 0.2561 - acc: 0.2561 - val_loss: 1.8225 - val_categorical_accuracy: 0.1622 - val_acc: 0.1622\n",
            "Epoch 454/500\n",
            "5/5 [==============================] - 1s 211ms/step - loss: 1.7339 - categorical_accuracy: 0.3066 - acc: 0.3066 - val_loss: 2.0103 - val_categorical_accuracy: 0.1622 - val_acc: 0.1622\n",
            "Epoch 455/500\n",
            "5/5 [==============================] - 1s 225ms/step - loss: 1.7757 - categorical_accuracy: 0.2974 - acc: 0.2974 - val_loss: 2.0493 - val_categorical_accuracy: 0.2162 - val_acc: 0.2162\n",
            "Epoch 456/500\n",
            "5/5 [==============================] - 1s 217ms/step - loss: 1.8281 - categorical_accuracy: 0.2713 - acc: 0.2713 - val_loss: 2.4605 - val_categorical_accuracy: 0.1892 - val_acc: 0.1892\n",
            "Epoch 457/500\n",
            "5/5 [==============================] - 1s 207ms/step - loss: 1.9494 - categorical_accuracy: 0.3051 - acc: 0.3051 - val_loss: 2.0550 - val_categorical_accuracy: 0.2703 - val_acc: 0.2703\n",
            "Epoch 458/500\n",
            "5/5 [==============================] - 1s 227ms/step - loss: 1.9134 - categorical_accuracy: 0.2717 - acc: 0.2717 - val_loss: 2.1131 - val_categorical_accuracy: 0.1622 - val_acc: 0.1622\n",
            "Epoch 459/500\n",
            "5/5 [==============================] - 1s 219ms/step - loss: 1.7025 - categorical_accuracy: 0.3444 - acc: 0.3444 - val_loss: 1.8360 - val_categorical_accuracy: 0.2432 - val_acc: 0.2432\n",
            "Epoch 460/500\n",
            "5/5 [==============================] - 1s 258ms/step - loss: 1.6819 - categorical_accuracy: 0.2890 - acc: 0.2890 - val_loss: 1.9156 - val_categorical_accuracy: 0.1081 - val_acc: 0.1081\n",
            "Epoch 461/500\n",
            "5/5 [==============================] - 2s 381ms/step - loss: 1.7759 - categorical_accuracy: 0.3238 - acc: 0.3238 - val_loss: 1.9065 - val_categorical_accuracy: 0.2162 - val_acc: 0.2162\n",
            "Epoch 462/500\n",
            "5/5 [==============================] - 2s 348ms/step - loss: 1.6307 - categorical_accuracy: 0.3057 - acc: 0.3057 - val_loss: 2.1501 - val_categorical_accuracy: 0.1892 - val_acc: 0.1892\n",
            "Epoch 463/500\n",
            "5/5 [==============================] - 1s 210ms/step - loss: 1.8435 - categorical_accuracy: 0.3646 - acc: 0.3646 - val_loss: 2.1341 - val_categorical_accuracy: 0.1622 - val_acc: 0.1622\n",
            "Epoch 464/500\n",
            "5/5 [==============================] - 1s 216ms/step - loss: 1.8919 - categorical_accuracy: 0.3406 - acc: 0.3406 - val_loss: 1.9506 - val_categorical_accuracy: 0.1351 - val_acc: 0.1351\n",
            "Epoch 465/500\n",
            "5/5 [==============================] - 1s 217ms/step - loss: 1.9881 - categorical_accuracy: 0.2834 - acc: 0.2834 - val_loss: 1.8910 - val_categorical_accuracy: 0.2162 - val_acc: 0.2162\n",
            "Epoch 466/500\n",
            "5/5 [==============================] - 1s 214ms/step - loss: 1.7281 - categorical_accuracy: 0.3013 - acc: 0.3013 - val_loss: 2.0880 - val_categorical_accuracy: 0.1351 - val_acc: 0.1351\n",
            "Epoch 467/500\n",
            "5/5 [==============================] - 1s 227ms/step - loss: 1.8691 - categorical_accuracy: 0.2609 - acc: 0.2609 - val_loss: 2.0209 - val_categorical_accuracy: 0.1622 - val_acc: 0.1622\n",
            "Epoch 468/500\n",
            "5/5 [==============================] - 1s 216ms/step - loss: 1.7433 - categorical_accuracy: 0.3238 - acc: 0.3238 - val_loss: 2.1061 - val_categorical_accuracy: 0.1351 - val_acc: 0.1351\n",
            "Epoch 469/500\n",
            "5/5 [==============================] - 1s 223ms/step - loss: 1.7289 - categorical_accuracy: 0.3367 - acc: 0.3367 - val_loss: 2.0114 - val_categorical_accuracy: 0.2162 - val_acc: 0.2162\n",
            "Epoch 470/500\n",
            "5/5 [==============================] - 1s 214ms/step - loss: 1.9129 - categorical_accuracy: 0.2843 - acc: 0.2843 - val_loss: 2.1162 - val_categorical_accuracy: 0.1351 - val_acc: 0.1351\n",
            "Epoch 471/500\n",
            "5/5 [==============================] - 1s 207ms/step - loss: 1.6326 - categorical_accuracy: 0.3064 - acc: 0.3064 - val_loss: 1.7436 - val_categorical_accuracy: 0.2703 - val_acc: 0.2703\n",
            "Epoch 472/500\n",
            "5/5 [==============================] - 1s 213ms/step - loss: 1.8753 - categorical_accuracy: 0.2620 - acc: 0.2620 - val_loss: 1.8468 - val_categorical_accuracy: 0.1622 - val_acc: 0.1622\n",
            "Epoch 473/500\n",
            "5/5 [==============================] - 1s 229ms/step - loss: 1.6426 - categorical_accuracy: 0.3108 - acc: 0.3108 - val_loss: 1.8984 - val_categorical_accuracy: 0.1622 - val_acc: 0.1622\n",
            "Epoch 474/500\n",
            "5/5 [==============================] - 1s 232ms/step - loss: 1.8286 - categorical_accuracy: 0.3024 - acc: 0.3024 - val_loss: 1.9997 - val_categorical_accuracy: 0.2703 - val_acc: 0.2703\n",
            "Epoch 475/500\n",
            "5/5 [==============================] - 1s 217ms/step - loss: 1.9741 - categorical_accuracy: 0.2378 - acc: 0.2378 - val_loss: 1.7906 - val_categorical_accuracy: 0.1622 - val_acc: 0.1622\n",
            "Epoch 476/500\n",
            "5/5 [==============================] - 1s 213ms/step - loss: 1.8522 - categorical_accuracy: 0.2988 - acc: 0.2988 - val_loss: 1.8242 - val_categorical_accuracy: 0.2432 - val_acc: 0.2432\n",
            "Epoch 477/500\n",
            "5/5 [==============================] - 1s 230ms/step - loss: 1.6805 - categorical_accuracy: 0.2780 - acc: 0.2780 - val_loss: 2.0809 - val_categorical_accuracy: 0.1622 - val_acc: 0.1622\n",
            "Epoch 478/500\n",
            "5/5 [==============================] - 1s 223ms/step - loss: 1.9094 - categorical_accuracy: 0.3139 - acc: 0.3139 - val_loss: 1.9312 - val_categorical_accuracy: 0.1622 - val_acc: 0.1622\n",
            "Epoch 479/500\n",
            "5/5 [==============================] - 1s 205ms/step - loss: 1.9241 - categorical_accuracy: 0.3286 - acc: 0.3286 - val_loss: 1.8857 - val_categorical_accuracy: 0.1892 - val_acc: 0.1892\n",
            "Epoch 480/500\n",
            "5/5 [==============================] - 1s 212ms/step - loss: 1.9373 - categorical_accuracy: 0.2873 - acc: 0.2873 - val_loss: 1.8960 - val_categorical_accuracy: 0.1892 - val_acc: 0.1892\n",
            "Epoch 481/500\n",
            "5/5 [==============================] - 1s 212ms/step - loss: 1.7713 - categorical_accuracy: 0.3319 - acc: 0.3319 - val_loss: 1.7917 - val_categorical_accuracy: 0.2432 - val_acc: 0.2432\n",
            "Epoch 482/500\n",
            "5/5 [==============================] - 1s 220ms/step - loss: 1.7172 - categorical_accuracy: 0.2153 - acc: 0.2153 - val_loss: 2.1953 - val_categorical_accuracy: 0.1622 - val_acc: 0.1622\n",
            "Epoch 483/500\n",
            "5/5 [==============================] - 1s 228ms/step - loss: 1.7671 - categorical_accuracy: 0.3456 - acc: 0.3456 - val_loss: 1.8444 - val_categorical_accuracy: 0.1892 - val_acc: 0.1892\n",
            "Epoch 484/500\n",
            "5/5 [==============================] - 1s 240ms/step - loss: 1.8844 - categorical_accuracy: 0.2432 - acc: 0.2432 - val_loss: 1.9079 - val_categorical_accuracy: 0.2162 - val_acc: 0.2162\n",
            "Epoch 485/500\n",
            "5/5 [==============================] - 1s 222ms/step - loss: 1.5774 - categorical_accuracy: 0.3205 - acc: 0.3205 - val_loss: 1.8577 - val_categorical_accuracy: 0.2162 - val_acc: 0.2162\n",
            "Epoch 486/500\n",
            "5/5 [==============================] - 1s 223ms/step - loss: 1.7632 - categorical_accuracy: 0.2845 - acc: 0.2845 - val_loss: 1.9611 - val_categorical_accuracy: 0.1892 - val_acc: 0.1892\n",
            "Epoch 487/500\n",
            "5/5 [==============================] - 1s 225ms/step - loss: 1.6404 - categorical_accuracy: 0.2928 - acc: 0.2928 - val_loss: 1.8284 - val_categorical_accuracy: 0.2162 - val_acc: 0.2162\n",
            "Epoch 488/500\n",
            "5/5 [==============================] - 1s 215ms/step - loss: 1.5584 - categorical_accuracy: 0.3008 - acc: 0.3008 - val_loss: 1.8441 - val_categorical_accuracy: 0.1622 - val_acc: 0.1622\n",
            "Epoch 489/500\n",
            "5/5 [==============================] - 1s 220ms/step - loss: 1.6103 - categorical_accuracy: 0.2798 - acc: 0.2798 - val_loss: 1.8811 - val_categorical_accuracy: 0.1622 - val_acc: 0.1622\n",
            "Epoch 490/500\n",
            "5/5 [==============================] - 1s 209ms/step - loss: 1.5994 - categorical_accuracy: 0.2500 - acc: 0.2500 - val_loss: 1.8056 - val_categorical_accuracy: 0.2432 - val_acc: 0.2432\n",
            "Epoch 491/500\n",
            "5/5 [==============================] - 1s 233ms/step - loss: 1.6249 - categorical_accuracy: 0.2745 - acc: 0.2745 - val_loss: 1.8114 - val_categorical_accuracy: 0.1622 - val_acc: 0.1622\n",
            "Epoch 492/500\n",
            "5/5 [==============================] - 1s 226ms/step - loss: 1.4819 - categorical_accuracy: 0.4287 - acc: 0.4287 - val_loss: 1.8610 - val_categorical_accuracy: 0.2162 - val_acc: 0.2162\n",
            "Epoch 493/500\n",
            "5/5 [==============================] - 1s 242ms/step - loss: 1.5920 - categorical_accuracy: 0.3282 - acc: 0.3282 - val_loss: 1.9255 - val_categorical_accuracy: 0.1081 - val_acc: 0.1081\n",
            "Epoch 494/500\n",
            "5/5 [==============================] - 1s 228ms/step - loss: 1.5604 - categorical_accuracy: 0.3166 - acc: 0.3166 - val_loss: 1.8784 - val_categorical_accuracy: 0.1622 - val_acc: 0.1622\n",
            "Epoch 495/500\n",
            "5/5 [==============================] - 1s 220ms/step - loss: 1.5548 - categorical_accuracy: 0.3140 - acc: 0.3140 - val_loss: 1.8456 - val_categorical_accuracy: 0.1622 - val_acc: 0.1622\n",
            "Epoch 496/500\n",
            "5/5 [==============================] - 1s 225ms/step - loss: 1.6483 - categorical_accuracy: 0.2791 - acc: 0.2791 - val_loss: 1.8558 - val_categorical_accuracy: 0.1351 - val_acc: 0.1351\n",
            "Epoch 497/500\n",
            "5/5 [==============================] - 1s 226ms/step - loss: 1.5899 - categorical_accuracy: 0.3148 - acc: 0.3148 - val_loss: 1.7890 - val_categorical_accuracy: 0.2432 - val_acc: 0.2432\n",
            "Epoch 498/500\n",
            "5/5 [==============================] - 1s 216ms/step - loss: 1.6437 - categorical_accuracy: 0.3215 - acc: 0.3215 - val_loss: 1.8011 - val_categorical_accuracy: 0.1892 - val_acc: 0.1892\n",
            "Epoch 499/500\n",
            "5/5 [==============================] - 1s 219ms/step - loss: 1.5558 - categorical_accuracy: 0.2862 - acc: 0.2862 - val_loss: 1.8449 - val_categorical_accuracy: 0.1081 - val_acc: 0.1081\n",
            "Epoch 500/500\n",
            "5/5 [==============================] - 1s 207ms/step - loss: 1.5847 - categorical_accuracy: 0.2443 - acc: 0.2443 - val_loss: 1.8038 - val_categorical_accuracy: 0.2162 - val_acc: 0.2162\n"
          ]
        }
      ]
    },
    {
      "cell_type": "code",
      "source": [
        "import matplotlib.pyplot as plt\n",
        "\n",
        "acc = hist.history['acc']\n",
        "val_acc = hist.history['val_acc']\n",
        "loss = hist.history['loss']\n",
        "val_loss = hist.history['val_loss']\n",
        "\n",
        "epochs = range(len(acc))\n",
        "\n",
        "plt.plot(epochs, acc, 'bo', label = 'Training acc')\n",
        "plt.plot(epochs, val_acc, 'b', label = 'Validation acc')\n",
        "plt.title('Training and validation accuracy')\n",
        "plt.ylabel('Accuracy')\n",
        "plt.xlabel('Epochs')\n",
        "\n",
        "plt.legend()\n",
        "\n",
        "plt.figure()\n",
        "\n",
        "plt.plot(epochs, loss, 'bo', label = 'Training loss')\n",
        "plt.plot(epochs, val_loss, 'b', label = 'Validation loss')\n",
        "plt.title('Training and validation loss')\n",
        "plt.ylabel('Loss')\n",
        "plt.xlabel('Epochs')\n",
        "plt.legend()\n",
        "\n",
        "plt.show()"
      ],
      "metadata": {
        "colab": {
          "base_uri": "https://localhost:8080/",
          "height": 573
        },
        "id": "tafm0iOzJd3C",
        "outputId": "0c8a5f1c-21a3-45b1-e51e-f83783736549"
      },
      "execution_count": 30,
      "outputs": [
        {
          "output_type": "display_data",
          "data": {
            "text/plain": [
              "<Figure size 432x288 with 1 Axes>"
            ],
            "image/png": "[encoded data removed]"
          },
          "metadata": {
            "needs_background": "light"
          }
        },
        {
          "output_type": "display_data",
          "data": {
            "text/plain": [
              "<Figure size 432x288 with 1 Axes>"
            ],
            "image/png": "[encoded data removed]"
          },
          "metadata": {
            "needs_background": "light"
          }
        }
      ]
    }
  ],
  "metadata": {
    "colab": {
      "collapsed_sections": [],
      "name": "Vowels Action Detection.ipynb",
      "provenance": [],
      "authorship_tag": "ABX9TyOtz5+5A9UZT7mK+c4ROzG8",
      "include_colab_link": true
    },
    "kernelspec": {
      "display_name": "Python 3",
      "name": "python3"
    },
    "language_info": {
      "name": "python"
    },
    "accelerator": "GPU",
    "gpuClass": "standard"
  },
  "nbformat": 4,
  "nbformat_minor": 0
}