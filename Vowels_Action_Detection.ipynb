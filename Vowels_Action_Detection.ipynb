{
  "cells": [
    {
      "cell_type": "markdown",
      "metadata": {
        "id": "view-in-github",
        "colab_type": "text"
      },
      "source": [
        "<a href=\"https://colab.research.google.com/github/MadimetjaMadix/action-recognition-vowels/blob/main/Vowels_Action_Detection.ipynb\" target=\"_parent\"><img src=\"https://colab.research.google.com/assets/colab-badge.svg\" alt=\"Open In Colab\"/></a>"
      ]
    },
    {
      "cell_type": "markdown",
      "metadata": {
        "id": "DrSbYAlwfRye"
      },
      "source": [
        "## **Import and Install dependencies**"
      ]
    },
    {
      "cell_type": "code",
      "execution_count": null,
      "metadata": {
        "colab": {
          "base_uri": "https://localhost:8080/"
        },
        "id": "hrVoxyyghVIi",
        "outputId": "20566a58-0162-4493-c3f9-cba27a1959c3"
      },
      "outputs": [
        {
          "name": "stdout",
          "output_type": "stream",
          "text": [
            "Mounted at /content/drive\n"
          ]
        }
      ],
      "source": [
        "from google.colab import drive\n",
        "drive.mount('/content/drive')"
      ]
    },
    {
      "cell_type": "code",
      "execution_count": null,
      "metadata": {
        "id": "LoQdgFSPdYoC"
      },
      "outputs": [],
      "source": [
        "!pip install tensorflow==2.4.1 tensorflow-gpu==2.4.1 opencv-python mediapipe sklearn matplotlib"
      ]
    },
    {
      "cell_type": "code",
      "execution_count": null,
      "metadata": {
        "id": "KSxXlXuxfe0q"
      },
      "outputs": [],
      "source": [
        "import cv2\n",
        "import numpy as np\n",
        "import os\n",
        "import time\n",
        "import mediapipe as mp\n",
        "from matplotlib import pyplot as plt"
      ]
    },
    {
      "cell_type": "markdown",
      "metadata": {
        "id": "JKopPSv2gqPo"
      },
      "source": [
        "## Keypoints using MP Holistic\n"
      ]
    },
    {
      "cell_type": "code",
      "execution_count": null,
      "metadata": {
        "id": "2ak5v3334wt-"
      },
      "outputs": [],
      "source": [
        "mp_holistic = mp.solutions.holistic #holistic model\n",
        "mp_drawing = mp.solutions.drawing_utils #drawing utilities"
      ]
    },
    {
      "cell_type": "code",
      "execution_count": null,
      "metadata": {
        "id": "ObwTNrWe5NRp"
      },
      "outputs": [],
      "source": [
        "def mediapipe_detection(image, model):\n",
        "  image = cv2.cvtColor(image, cv2.COLOR_BGR2RGB)  # Color conversion BGR -> RGB\n",
        "  image.flags.writeable = False                   # disable Image writeable\n",
        "  results = model.process(image)                  # Make Holistic Predictions\n",
        "  image.flags.writeable = True                    # enable Image Writeable\n",
        "  image = cv2.cvtColor(image, cv2.COLOR_RGB2BGR)  # Color conversion RGB -> BGR\n",
        "  return image, results"
      ]
    },
    {
      "cell_type": "code",
      "execution_count": null,
      "metadata": {
        "id": "eJ-wV53ZA7TD"
      },
      "outputs": [],
      "source": [
        "def draw_landmarks(image, results):\n",
        "  mp_drawing.draw_landmarks(image, results.face_landmarks, mp_holistic.FACEMESH_CONTOURS)       # Draw face Connections\n",
        "  mp_drawing.draw_landmarks(image, results.pose_landmarks, mp_holistic.POSE_CONNECTIONS)        # Draw pose Connections\n",
        "  mp_drawing.draw_landmarks(image, results.left_hand_landmarks, mp_holistic.HAND_CONNECTIONS)   # Draw left hand Connections\n",
        "  mp_drawing.draw_landmarks(image, results.right_hand_landmarks, mp_holistic.HAND_CONNECTIONS)  # Draw right hand Connections"
      ]
    },
    {
      "cell_type": "code",
      "execution_count": 115,
      "metadata": {
        "id": "SJJRJl716VHM"
      },
      "outputs": [],
      "source": [
        "vid_path = '/content/drive/My Drive/SASL_Vowels/I/I_9.mp4'\n",
        "cap = cv2.VideoCapture(vid_path)\n",
        "last_fr = None\n",
        "last_res = None\n",
        "\n",
        "  # Set mediapipe model\n",
        "  with mp_holistic.Holistic(min_detection_confidence=0.1, min_tracking_confidence=0.5) as holistic:\n",
        "    # process the video\n",
        "    while cap.isOpened():\n",
        "\n",
        "      # read frame\n",
        "      ret, frame = cap.read()\n",
        "\n",
        "      # break if there are no frames to be read\n",
        "      if not ret:\n",
        "            break\n",
        "      \n",
        "      # make detections\n",
        "      image, results = mediapipe_detection(frame, holistic)\n",
        "      if results.right_hand_landmarks:\n",
        "        #print(results.right_hand_landmarks)\n",
        "        #cv2_imshow( frame)\n",
        "        last_fr = frame\n",
        "        last_res = results\n",
        "\n",
        "      # live web cam\n",
        "        #draw_landmarks(image, results)\n",
        "        #cv2_imshow(image)\n",
        "\n",
        "      # breake if i say so\n",
        "      if cv2.waitKey(10) and 0xff == ord('q'):\n",
        "        break\n",
        "    cv2.destroyAllWindows()\n",
        "    cap.release()\n"
      ]
    },
    {
      "cell_type": "markdown",
      "source": [
        "Test to see the landmarks"
      ],
      "metadata": {
        "id": "bCHAAp7GJX0x"
      }
    },
    {
      "cell_type": "code",
      "execution_count": 116,
      "metadata": {
        "id": "okoMr91QDtBn",
        "colab": {
          "base_uri": "https://localhost:8080/",
          "height": 257
        },
        "outputId": "5719495e-e265-40f3-a79e-0efda0541cb4"
      },
      "outputs": [
        {
          "output_type": "execute_result",
          "data": {
            "text/plain": [
              "<matplotlib.image.AxesImage at 0x7f313267d390>"
            ]
          },
          "metadata": {},
          "execution_count": 116
        },
        {
          "output_type": "display_data",
          "data": {
            "text/plain": [
              "<Figure size 432x288 with 1 Axes>"
            ],
            "image/png": "[encoded data removed]"
          },
          "metadata": {
            "needs_background": "light"
          }
        }
      ],
      "source": [
        "draw_landmarks(last_fr, last_res)\n",
        "plt.imshow(cv2.cvtColor(last_fr, cv2.COLOR_BGR2RGB))"
      ]
    },
    {
      "cell_type": "markdown",
      "source": [
        "## **Extracting Keypoint Values**"
      ],
      "metadata": {
        "id": "_E2fux2BJopM"
      }
    },
    {
      "cell_type": "code",
      "source": [
        ""
      ],
      "metadata": {
        "id": "AZJQl1StM5KP"
      },
      "execution_count": 96,
      "outputs": []
    },
    {
      "cell_type": "code",
      "source": [
        "def extract_keypoints(results):\n",
        "  hand_kp = 21*3    # number of hand key points 63\n",
        "  pose_kp = 33*4    # number of pose key points 132\n",
        "  face_kp = 468*3    # number of face key points 1404\n",
        "\n",
        "  face = np.array([[res.x, res.y, res.z] for res in results.face_landmarks.landmark]).flatten() if results.face_landmarks else np.zeros(face_kp)\n",
        "  pose = np.array([[res.x, res.y, res.z, res.visibility] for res in results.pose_landmarks.landmark]).flatten() if results.pose_landmarks else np.zeros(pose_kp)\n",
        "  l_hand = np.array([[res.x, res.y, res.z] for res in results.left_hand_landmarks.landmark]).flatten() if results.left_hand_landmarks else np.zeros(hand_kp)\n",
        "  r_hand = np.array([[res.x, res.y, res.z] for res in results.right_hand_landmarks.landmark]).flatten() if results.right_hand_landmarks else np.zeros(hand_kp)\n",
        "\n",
        "  #focus on pose and r_hand for now\n",
        "  # else return np.concatenate([pose, face, l_hand, r_hand])\n",
        "\n",
        "  return np.concatenate([pose, r_hand]) # 63 + 132 = 195 values\n"
      ],
      "metadata": {
        "id": "HDU8vwIHJ1oc"
      },
      "execution_count": 106,
      "outputs": []
    },
    {
      "cell_type": "code",
      "source": [
        "len(extract_keypoints(results))"
      ],
      "metadata": {
        "colab": {
          "base_uri": "https://localhost:8080/"
        },
        "id": "ALEX6x9cMOXh",
        "outputId": "c15c2607-4b6a-42b2-bb68-2b8a8a7a5f85"
      },
      "execution_count": 108,
      "outputs": [
        {
          "output_type": "execute_result",
          "data": {
            "text/plain": [
              "195"
            ]
          },
          "metadata": {},
          "execution_count": 108
        }
      ]
    },
    {
      "cell_type": "markdown",
      "source": [
        "## **Data Folders**"
      ],
      "metadata": {
        "id": "mHFgT4WRT9Xn"
      }
    },
    {
      "cell_type": "code",
      "source": [
        "core_dir = '/content/drive/My Drive'\n",
        "videos_src = '/content/drive/My Drive/SASL_Vowels'\n",
        "folder_name = 'Vowels_Data'\n",
        "data_path = os.path.join(core_dir,folder_name)\n",
        "\n",
        "#Vowels Folders\n",
        "vowels = np.array(['A', 'E', 'I', 'O', 'U'])\n",
        "\n",
        "# no of videos ?? at least 50 valid videos\n",
        "num_frames = 50\n",
        "\n"
      ],
      "metadata": {
        "id": "-IkNe3I-UC4M"
      },
      "execution_count": 110,
      "outputs": []
    },
    {
      "cell_type": "markdown",
      "source": [
        "Data Extraction"
      ],
      "metadata": {
        "id": "0F5dv4gNeyy5"
      }
    },
    {
      "cell_type": "code",
      "source": [
        "\n",
        "def key_value_extractor(vid_path, output_path):\n",
        "  \n",
        "  cap = cv2.VideoCapture(vid_path)\n",
        "  frame_count = 0\n",
        "  # Set mediapipe model\n",
        "  with mp_holistic.Holistic(min_detection_confidence=0.1, min_tracking_confidence=0.5) as holistic:\n",
        "    # process the video\n",
        "    while cap.isOpened():\n",
        "\n",
        "      # read frame\n",
        "      ret, frame = cap.read()\n",
        "\n",
        "      # break if there are no frames to be read\n",
        "      if not ret:\n",
        "            break\n",
        "      \n",
        "      # make detections\n",
        "      image, results = mediapipe_detection(frame, holistic)\n",
        "      keypoints = extract_keypoints(results)\n",
        "      npy_path = os.path.join(output_path, str(frame_count))\n",
        "      np.save(npy_path, keypoints)\n",
        "\n",
        "      frame_count = frame_count + 1\n",
        "      # live web cam\n",
        "        #draw_landmarks(image, results)\n",
        "        #cv2_imshow(image)\n",
        "\n",
        "      # breake if i say so\n",
        "      if cv2.waitKey(10) and 0xff == ord('q'):\n",
        "        break\n",
        "    cv2.destroyAllWindows()\n",
        "    cap.release()"
      ],
      "metadata": {
        "id": "rtnz3JtSe2hz"
      },
      "execution_count": 122,
      "outputs": []
    },
    {
      "cell_type": "code",
      "source": [
        "# For each Vowel\n",
        "for vowel_folder in os.listdir(videos_src):\n",
        "  folder_path = os.path.join(videos_src,vowel_folder)\n",
        "  for vid in os.listdir(folder_path):\n",
        "    video_file = os.path.join(folder_path,vid)\n",
        "    vid_data_folder = os.path.join(data_path,vowel_folder,os.path.splitext(vid)[0])\n",
        "    try:\n",
        "      # make a folder if its not there\n",
        "      os.makedirs(vid_data_folder)\n",
        "    except:\n",
        "      pass\n",
        "    \n",
        "    # key_value_extractor(video_file, vid_data_folder)    # Done"
      ],
      "metadata": {
        "id": "rT0CwDYtWpgL"
      },
      "execution_count": 123,
      "outputs": []
    },
    {
      "cell_type": "code",
      "source": [
        "vid_count = [ {vowel_folder: len(os.path.join(videos_src,vowel_folder))} for vowel_folder in os.listdir(videos_src) ]\n",
        "vid_count"
      ],
      "metadata": {
        "colab": {
          "base_uri": "https://localhost:8080/"
        },
        "id": "JyY5FqC8zP69",
        "outputId": "68a617ff-2c1a-4543-9377-05ab36e26210"
      },
      "execution_count": 132,
      "outputs": [
        {
          "output_type": "execute_result",
          "data": {
            "text/plain": [
              "[{'A': 37}, {'E': 37}, {'I': 37}, {'O': 37}, {'U': 37}]"
            ]
          },
          "metadata": {},
          "execution_count": 132
        }
      ]
    },
    {
      "cell_type": "markdown",
      "source": [
        "## **Data Preparation**"
      ],
      "metadata": {
        "id": "qNhgpENxvq8X"
      }
    },
    {
      "cell_type": "code",
      "source": [
        "from sklearn.model_selection import train_test_split\n",
        "from tensorflow.keras.utils import to_categorical"
      ],
      "metadata": {
        "id": "g7X9cJsHvyFg"
      },
      "execution_count": 124,
      "outputs": []
    },
    {
      "cell_type": "code",
      "source": [
        "# 5 Vowels\n",
        "# 37 videos each\n",
        "# frames >50\n",
        "\n",
        "label_map = {lable: num for num, lable in enumerate(vowels)} # A dictinary\n",
        "label_map"
      ],
      "metadata": {
        "colab": {
          "base_uri": "https://localhost:8080/"
        },
        "id": "R0vUUJQnwgfi",
        "outputId": "35a4c5ff-a460-4bf1-bd84-20b9fd996251"
      },
      "execution_count": 127,
      "outputs": [
        {
          "output_type": "execute_result",
          "data": {
            "text/plain": [
              "{'A': 0, 'E': 1, 'I': 2, 'O': 3, 'U': 4}"
            ]
          },
          "metadata": {},
          "execution_count": 127
        }
      ]
    },
    {
      "cell_type": "markdown",
      "source": [
        "# Load the data"
      ],
      "metadata": {
        "id": "Upz1XZ4y-iqV"
      }
    },
    {
      "cell_type": "code",
      "source": [
        "\n",
        "num_videos = 37\n",
        "num_frames = 50\n",
        "sequences = []\n",
        "labels = []\n",
        "\n",
        "for folder in os.listdir(data_path):\n",
        "  print(folder)\n",
        "  vid_num = 0\n",
        "  seq_path = os.path.join(data_path,folder)\n",
        "  for seq_data in os.listdir(seq_path):\n",
        "    if vid_num == num_videos:\n",
        "      break\n",
        "    vid_num = vid_num + 1\n",
        "    \n",
        "    window = []\n",
        "    frame_num = 0\n",
        "    seq_data_path = os.path.join(seq_path,seq_data)\n",
        "    for data_file in os.listdir(seq_data_path):\n",
        "      if frame_num == num_frames:\n",
        "        break\n",
        "      res = np.load(os.path.join(seq_data_path,data_file))\n",
        "      window.append(res)\n",
        "      frame_num = frame_num + 1\n",
        "    sequences.append(window)\n",
        "    labels.append(label_map[folder])\n"
      ],
      "metadata": {
        "colab": {
          "base_uri": "https://localhost:8080/"
        },
        "id": "uR4-cbBRxEHU",
        "outputId": "79df1fe9-d537-4afd-b8a6-21dc621a0b6f"
      },
      "execution_count": 156,
      "outputs": [
        {
          "output_type": "stream",
          "name": "stdout",
          "text": [
            "A\n",
            "E\n",
            "I\n",
            "O\n",
            "U\n"
          ]
        }
      ]
    },
    {
      "cell_type": "markdown",
      "source": [
        "Change data to np array and y data to categorical data"
      ],
      "metadata": {
        "id": "R2AlVHzU-vVa"
      }
    },
    {
      "cell_type": "code",
      "source": [
        "np.array(sequences).shape"
      ],
      "metadata": {
        "colab": {
          "base_uri": "https://localhost:8080/"
        },
        "id": "HFdKZKK66iOV",
        "outputId": "49978c18-9343-4870-da60-041d9455e3fe"
      },
      "execution_count": 160,
      "outputs": [
        {
          "output_type": "execute_result",
          "data": {
            "text/plain": [
              "(185, 50, 195)"
            ]
          },
          "metadata": {},
          "execution_count": 160
        }
      ]
    },
    {
      "cell_type": "code",
      "source": [
        "np.array(labels).shape"
      ],
      "metadata": {
        "colab": {
          "base_uri": "https://localhost:8080/"
        },
        "id": "rmwI7MfB5UHp",
        "outputId": "fc53c7c8-b9ad-4b37-fc12-18c6cff746c2"
      },
      "execution_count": 158,
      "outputs": [
        {
          "output_type": "execute_result",
          "data": {
            "text/plain": [
              "(185,)"
            ]
          },
          "metadata": {},
          "execution_count": 158
        }
      ]
    },
    {
      "cell_type": "code",
      "source": [
        "x = np.array(sequences)"
      ],
      "metadata": {
        "id": "Wso5hNIy4jkz"
      },
      "execution_count": 161,
      "outputs": []
    },
    {
      "cell_type": "code",
      "source": [
        "x.shape"
      ],
      "metadata": {
        "colab": {
          "base_uri": "https://localhost:8080/"
        },
        "id": "Cqy3SaVR9TGN",
        "outputId": "24c98a71-f3a8-4c74-fdc1-d47786015907"
      },
      "execution_count": 163,
      "outputs": [
        {
          "output_type": "execute_result",
          "data": {
            "text/plain": [
              "(185, 50, 195)"
            ]
          },
          "metadata": {},
          "execution_count": 163
        }
      ]
    },
    {
      "cell_type": "code",
      "source": [
        "y = to_categorical(labels).astype(int)"
      ],
      "metadata": {
        "id": "6ch1kl7m9bc0"
      },
      "execution_count": 164,
      "outputs": []
    },
    {
      "cell_type": "code",
      "source": [
        "y.shape"
      ],
      "metadata": {
        "colab": {
          "base_uri": "https://localhost:8080/"
        },
        "id": "WsP6Lgh09njM",
        "outputId": "403558df-c9fd-447e-e400-d3b2794d5d87"
      },
      "execution_count": 166,
      "outputs": [
        {
          "output_type": "execute_result",
          "data": {
            "text/plain": [
              "(185, 5)"
            ]
          },
          "metadata": {},
          "execution_count": 166
        }
      ]
    },
    {
      "cell_type": "markdown",
      "source": [
        "# Train-Test Split The data"
      ],
      "metadata": {
        "id": "KylvJI-P-8wf"
      }
    },
    {
      "cell_type": "code",
      "source": [
        "x_train, x_test, y_train, y_test = train_test_split(x,y,test_size=0.2)"
      ],
      "metadata": {
        "id": "lBWflIVW908o"
      },
      "execution_count": 170,
      "outputs": []
    },
    {
      "cell_type": "code",
      "source": [
        "x_train.shape"
      ],
      "metadata": {
        "colab": {
          "base_uri": "https://localhost:8080/"
        },
        "id": "RLx5GUDS-KDX",
        "outputId": "c6c91c79-550d-46ad-d582-287496715410"
      },
      "execution_count": 171,
      "outputs": [
        {
          "output_type": "execute_result",
          "data": {
            "text/plain": [
              "(148, 50, 195)"
            ]
          },
          "metadata": {},
          "execution_count": 171
        }
      ]
    },
    {
      "cell_type": "markdown",
      "source": [
        "## **Build and Train LSTM NN**"
      ],
      "metadata": {
        "id": "aBLMKyFi_Fhc"
      }
    },
    {
      "cell_type": "code",
      "source": [
        "print('Hello Madix')"
      ],
      "metadata": {
        "colab": {
          "base_uri": "https://localhost:8080/"
        },
        "id": "GGXjmfT1_Vt_",
        "outputId": "6542feb2-cefd-4af1-abb7-aff1e33bd4bc"
      },
      "execution_count": 172,
      "outputs": [
        {
          "output_type": "stream",
          "name": "stdout",
          "text": [
            "Hello Madix\n"
          ]
        }
      ]
    }
  ],
  "metadata": {
    "colab": {
      "collapsed_sections": [],
      "name": "Vowels Action Detection.ipynb",
      "provenance": [],
      "authorship_tag": "ABX9TyNM2EgH9GOCOk9Ld4w2EeVi",
      "include_colab_link": true
    },
    "kernelspec": {
      "display_name": "Python 3",
      "name": "python3"
    },
    "language_info": {
      "name": "python"
    }
  },
  "nbformat": 4,
  "nbformat_minor": 0
}