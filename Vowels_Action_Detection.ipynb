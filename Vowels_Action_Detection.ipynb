{
  "nbformat": 4,
  "nbformat_minor": 0,
  "metadata": {
    "colab": {
      "name": "Vowels Action Detection.ipynb",
      "provenance": [],
      "toc_visible": true,
      "authorship_tag": "ABX9TyMthlG1/yNvvc6thJvP8SxP",
      "include_colab_link": true
    },
    "kernelspec": {
      "name": "python3",
      "display_name": "Python 3"
    },
    "language_info": {
      "name": "python"
    }
  },
  "cells": [
    {
      "cell_type": "markdown",
      "metadata": {
        "id": "view-in-github",
        "colab_type": "text"
      },
      "source": [
        "<a href=\"https://colab.research.google.com/github/MadimetjaMadix/action-recognition-vowels/blob/main/Vowels_Action_Detection.ipynb\" target=\"_parent\"><img src=\"https://colab.research.google.com/assets/colab-badge.svg\" alt=\"Open In Colab\"/></a>"
      ]
    },
    {
      "cell_type": "markdown",
      "source": [
        "## **Import and Install dependencies**"
      ],
      "metadata": {
        "id": "DrSbYAlwfRye"
      }
    },
    {
      "cell_type": "code",
      "source": [
        "from google.colab import drive\n",
        "drive.mount('/content/drive')"
      ],
      "metadata": {
        "colab": {
          "base_uri": "https://localhost:8080/"
        },
        "id": "hrVoxyyghVIi",
        "outputId": "20566a58-0162-4493-c3f9-cba27a1959c3"
      },
      "execution_count": 3,
      "outputs": [
        {
          "output_type": "stream",
          "name": "stdout",
          "text": [
            "Mounted at /content/drive\n"
          ]
        }
      ]
    },
    {
      "cell_type": "code",
      "execution_count": null,
      "metadata": {
        "id": "LoQdgFSPdYoC"
      },
      "outputs": [],
      "source": [
        "!pip install tensorflow==2.4.1 tensorflow-gpu==2.4.1 opencv-python mediapipe sklearn matplotlib"
      ]
    },
    {
      "cell_type": "code",
      "source": [
        "import cv2\n",
        "import numpy as np\n",
        "import os\n",
        "import time\n",
        "import mediapipe as mp\n",
        "from matplotlib import pyplot as plt"
      ],
      "metadata": {
        "id": "KSxXlXuxfe0q"
      },
      "execution_count": 1,
      "outputs": []
    },
    {
      "cell_type": "markdown",
      "source": [
        "## Keypoints using MP Holistic\n"
      ],
      "metadata": {
        "id": "JKopPSv2gqPo"
      }
    },
    {
      "cell_type": "code",
      "source": [
        "os.listdir('/content/drive/My Drive/SASL_Vowels/A')"
      ],
      "metadata": {
        "colab": {
          "base_uri": "https://localhost:8080/"
        },
        "id": "uA-dLn1agyii",
        "outputId": "dd98d250-6e5a-43eb-b002-6185a9b2d4ab"
      },
      "execution_count": 6,
      "outputs": [
        {
          "output_type": "execute_result",
          "data": {
            "text/plain": [
              "['A_1.mp4',\n",
              " 'A_2.mp4',\n",
              " 'A_3.mp4',\n",
              " 'A_4.mp4',\n",
              " 'A_5.mp4',\n",
              " 'A_6.mp4',\n",
              " 'A_7.mp4',\n",
              " 'A_8.mp4',\n",
              " 'A_9.mp4',\n",
              " 'A_10.mp4',\n",
              " 'A_11.mp4',\n",
              " 'A_12.mp4',\n",
              " 'A_13.mp4',\n",
              " 'A_14.mp4',\n",
              " 'A_15.mp4',\n",
              " 'A_16.mp4',\n",
              " 'A_17.mp4',\n",
              " 'A_18.mp4',\n",
              " 'A_20.mp4',\n",
              " 'A_19.mp4',\n",
              " 'A_21.mp4',\n",
              " 'A_22.mp4',\n",
              " 'A_24.mp4',\n",
              " 'A_23.mp4',\n",
              " 'A_26.mp4',\n",
              " 'A_25.mp4',\n",
              " 'A_27.mp4',\n",
              " 'A_28.mp4',\n",
              " 'A_29.mp4',\n",
              " 'A_30.mp4',\n",
              " 'A_31.mp4',\n",
              " 'A_32.mp4',\n",
              " 'A_33.mp4',\n",
              " 'A_34.mp4',\n",
              " 'A_35.mp4',\n",
              " 'A_36.mp4',\n",
              " 'A_37.mp4',\n",
              " 'A_38.mp4',\n",
              " 'A_39.mp4',\n",
              " 'A_40.mp4',\n",
              " 'A_41.mp4',\n",
              " 'A_42.mp4',\n",
              " 'A_43.mp4',\n",
              " 'A_44.mp4',\n",
              " 'A_45.mp4',\n",
              " 'A_46.mp4',\n",
              " 'A_47.mp4',\n",
              " 'A_48.mp4',\n",
              " 'A_49.mp4',\n",
              " 'A_50.mp4',\n",
              " 'A_51.mp4',\n",
              " 'A_52.mp4',\n",
              " 'A_53.mp4',\n",
              " 'A_54.mp4',\n",
              " 'A_55.mp4',\n",
              " 'A_56.mp4',\n",
              " 'A_57.mp4',\n",
              " 'A_58.mp4',\n",
              " 'A_59.mp4',\n",
              " 'A_60.mp4',\n",
              " 'A_61.mp4',\n",
              " 'A_62.mp4',\n",
              " 'A_63.mp4',\n",
              " 'A_64.mp4',\n",
              " 'A_65.mp4',\n",
              " 'A_66.mp4',\n",
              " 'A_67.mp4',\n",
              " 'A_68.mp4',\n",
              " 'A_69.mp4',\n",
              " 'A_70.mp4',\n",
              " 'A_71.mp4',\n",
              " 'A_72.mp4',\n",
              " 'A_73.mp4',\n",
              " 'A_74.mp4',\n",
              " 'A_75.mp4',\n",
              " 'A_76.mp4',\n",
              " 'A_77.mp4',\n",
              " 'A_78.mp4',\n",
              " 'A_79.mp4',\n",
              " 'A_80.mp4',\n",
              " 'A_81.mp4',\n",
              " 'A_82.mp4',\n",
              " 'A_83.mp4']"
            ]
          },
          "metadata": {},
          "execution_count": 6
        }
      ]
    }
  ]
}